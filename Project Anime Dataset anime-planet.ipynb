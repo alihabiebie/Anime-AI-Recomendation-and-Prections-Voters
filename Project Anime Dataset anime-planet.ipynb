{
 "cells": [
  {
   "cell_type": "code",
   "execution_count": 1,
   "metadata": {},
   "outputs": [],
   "source": [
    "import pandas as pd\n",
    "import numpy as np\n",
    "import matplotlib.pyplot as plt\n",
    "import seaborn as sns\n",
    "\n",
    "%matplotlib inline"
   ]
  },
  {
   "cell_type": "code",
   "execution_count": 2,
   "metadata": {},
   "outputs": [],
   "source": [
    "import warnings\n",
    "warnings.filterwarnings('ignore')"
   ]
  },
  {
   "cell_type": "code",
   "execution_count": 123,
   "metadata": {},
   "outputs": [
    {
     "data": {
      "text/html": [
       "<div>\n",
       "<style scoped>\n",
       "    .dataframe tbody tr th:only-of-type {\n",
       "        vertical-align: middle;\n",
       "    }\n",
       "\n",
       "    .dataframe tbody tr th {\n",
       "        vertical-align: top;\n",
       "    }\n",
       "\n",
       "    .dataframe thead th {\n",
       "        text-align: right;\n",
       "    }\n",
       "</style>\n",
       "<table border=\"1\" class=\"dataframe\">\n",
       "  <thead>\n",
       "    <tr style=\"text-align: right;\">\n",
       "      <th></th>\n",
       "      <th>title</th>\n",
       "      <th>mediaType</th>\n",
       "      <th>eps</th>\n",
       "      <th>duration</th>\n",
       "      <th>ongoing</th>\n",
       "      <th>startYr</th>\n",
       "      <th>finishYr</th>\n",
       "      <th>sznOfRelease</th>\n",
       "      <th>description</th>\n",
       "      <th>studios</th>\n",
       "      <th>tags</th>\n",
       "      <th>contentWarn</th>\n",
       "      <th>watched</th>\n",
       "      <th>watching</th>\n",
       "      <th>wantWatch</th>\n",
       "      <th>dropped</th>\n",
       "      <th>rating</th>\n",
       "      <th>votes</th>\n",
       "    </tr>\n",
       "  </thead>\n",
       "  <tbody>\n",
       "    <tr>\n",
       "      <th>0</th>\n",
       "      <td>Fullmetal Alchemist: Brotherhood</td>\n",
       "      <td>TV</td>\n",
       "      <td>64.0</td>\n",
       "      <td>NaN</td>\n",
       "      <td>False</td>\n",
       "      <td>2009.0</td>\n",
       "      <td>2010.0</td>\n",
       "      <td>Spring</td>\n",
       "      <td>The foundation of alchemy is based on the law ...</td>\n",
       "      <td>['Bones']</td>\n",
       "      <td>['Action', 'Adventure', 'Drama', 'Fantasy', 'M...</td>\n",
       "      <td>['Animal Abuse', 'Mature Themes', 'Violence', ...</td>\n",
       "      <td>103707.0</td>\n",
       "      <td>14351</td>\n",
       "      <td>25810</td>\n",
       "      <td>2656</td>\n",
       "      <td>4.702</td>\n",
       "      <td>86547.0</td>\n",
       "    </tr>\n",
       "    <tr>\n",
       "      <th>1</th>\n",
       "      <td>your name.</td>\n",
       "      <td>Movie</td>\n",
       "      <td>1.0</td>\n",
       "      <td>107.0</td>\n",
       "      <td>False</td>\n",
       "      <td>2016.0</td>\n",
       "      <td>2016.0</td>\n",
       "      <td>NaN</td>\n",
       "      <td>Mitsuha and Taki are two total strangers livin...</td>\n",
       "      <td>['CoMix Wave Films']</td>\n",
       "      <td>['Drama', 'Romance', 'Body Swapping', 'Gender ...</td>\n",
       "      <td>[]</td>\n",
       "      <td>58831.0</td>\n",
       "      <td>1453</td>\n",
       "      <td>21733</td>\n",
       "      <td>124</td>\n",
       "      <td>4.663</td>\n",
       "      <td>43960.0</td>\n",
       "    </tr>\n",
       "    <tr>\n",
       "      <th>2</th>\n",
       "      <td>A Silent Voice</td>\n",
       "      <td>Movie</td>\n",
       "      <td>1.0</td>\n",
       "      <td>130.0</td>\n",
       "      <td>False</td>\n",
       "      <td>2016.0</td>\n",
       "      <td>2016.0</td>\n",
       "      <td>NaN</td>\n",
       "      <td>After transferring into a new school, a deaf g...</td>\n",
       "      <td>['Kyoto Animation']</td>\n",
       "      <td>['Drama', 'Shounen', 'Disability', 'Melancholy...</td>\n",
       "      <td>['Bullying', 'Mature Themes', 'Suicide']</td>\n",
       "      <td>45892.0</td>\n",
       "      <td>946</td>\n",
       "      <td>17148</td>\n",
       "      <td>132</td>\n",
       "      <td>4.661</td>\n",
       "      <td>33752.0</td>\n",
       "    </tr>\n",
       "    <tr>\n",
       "      <th>3</th>\n",
       "      <td>Haikyuu!! Karasuno High School vs Shiratorizaw...</td>\n",
       "      <td>TV</td>\n",
       "      <td>10.0</td>\n",
       "      <td>NaN</td>\n",
       "      <td>False</td>\n",
       "      <td>2016.0</td>\n",
       "      <td>2016.0</td>\n",
       "      <td>Fall</td>\n",
       "      <td>Picking up where the second season ended, the ...</td>\n",
       "      <td>['Production I.G']</td>\n",
       "      <td>['Shounen', 'Sports', 'Animeism', 'School Club...</td>\n",
       "      <td>[]</td>\n",
       "      <td>25134.0</td>\n",
       "      <td>2183</td>\n",
       "      <td>8082</td>\n",
       "      <td>167</td>\n",
       "      <td>4.660</td>\n",
       "      <td>17422.0</td>\n",
       "    </tr>\n",
       "    <tr>\n",
       "      <th>4</th>\n",
       "      <td>Attack on Titan 3rd Season: Part II</td>\n",
       "      <td>TV</td>\n",
       "      <td>10.0</td>\n",
       "      <td>NaN</td>\n",
       "      <td>False</td>\n",
       "      <td>2019.0</td>\n",
       "      <td>2019.0</td>\n",
       "      <td>Spring</td>\n",
       "      <td>The battle to retake Wall Maria begins now! Wi...</td>\n",
       "      <td>['Wit Studio']</td>\n",
       "      <td>['Action', 'Fantasy', 'Horror', 'Shounen', 'Da...</td>\n",
       "      <td>['Cannibalism', 'Explicit Violence']</td>\n",
       "      <td>21308.0</td>\n",
       "      <td>3217</td>\n",
       "      <td>7864</td>\n",
       "      <td>174</td>\n",
       "      <td>4.650</td>\n",
       "      <td>15789.0</td>\n",
       "    </tr>\n",
       "  </tbody>\n",
       "</table>\n",
       "</div>"
      ],
      "text/plain": [
       "                                               title mediaType   eps  \\\n",
       "0                   Fullmetal Alchemist: Brotherhood        TV  64.0   \n",
       "1                                         your name.     Movie   1.0   \n",
       "2                                     A Silent Voice     Movie   1.0   \n",
       "3  Haikyuu!! Karasuno High School vs Shiratorizaw...        TV  10.0   \n",
       "4                Attack on Titan 3rd Season: Part II        TV  10.0   \n",
       "\n",
       "   duration  ongoing  startYr  finishYr sznOfRelease  \\\n",
       "0       NaN    False   2009.0    2010.0       Spring   \n",
       "1     107.0    False   2016.0    2016.0          NaN   \n",
       "2     130.0    False   2016.0    2016.0          NaN   \n",
       "3       NaN    False   2016.0    2016.0         Fall   \n",
       "4       NaN    False   2019.0    2019.0       Spring   \n",
       "\n",
       "                                         description               studios  \\\n",
       "0  The foundation of alchemy is based on the law ...             ['Bones']   \n",
       "1  Mitsuha and Taki are two total strangers livin...  ['CoMix Wave Films']   \n",
       "2  After transferring into a new school, a deaf g...   ['Kyoto Animation']   \n",
       "3  Picking up where the second season ended, the ...    ['Production I.G']   \n",
       "4  The battle to retake Wall Maria begins now! Wi...        ['Wit Studio']   \n",
       "\n",
       "                                                tags  \\\n",
       "0  ['Action', 'Adventure', 'Drama', 'Fantasy', 'M...   \n",
       "1  ['Drama', 'Romance', 'Body Swapping', 'Gender ...   \n",
       "2  ['Drama', 'Shounen', 'Disability', 'Melancholy...   \n",
       "3  ['Shounen', 'Sports', 'Animeism', 'School Club...   \n",
       "4  ['Action', 'Fantasy', 'Horror', 'Shounen', 'Da...   \n",
       "\n",
       "                                         contentWarn   watched  watching  \\\n",
       "0  ['Animal Abuse', 'Mature Themes', 'Violence', ...  103707.0     14351   \n",
       "1                                                 []   58831.0      1453   \n",
       "2           ['Bullying', 'Mature Themes', 'Suicide']   45892.0       946   \n",
       "3                                                 []   25134.0      2183   \n",
       "4               ['Cannibalism', 'Explicit Violence']   21308.0      3217   \n",
       "\n",
       "   wantWatch  dropped  rating    votes  \n",
       "0      25810     2656   4.702  86547.0  \n",
       "1      21733      124   4.663  43960.0  \n",
       "2      17148      132   4.661  33752.0  \n",
       "3       8082      167   4.660  17422.0  \n",
       "4       7864      174   4.650  15789.0  "
      ]
     },
     "execution_count": 123,
     "metadata": {},
     "output_type": "execute_result"
    }
   ],
   "source": [
    "df = pd.read_csv('anime.csv')\n",
    "df.head()"
   ]
  },
  {
   "cell_type": "code",
   "execution_count": 4,
   "metadata": {},
   "outputs": [
    {
     "data": {
      "text/plain": [
       "mediaType          68\n",
       "eps               359\n",
       "duration         5441\n",
       "ongoing             0\n",
       "startYr           222\n",
       "finishYr          444\n",
       "sznOfRelease    10811\n",
       "description      6405\n",
       "studios             0\n",
       "tags                0\n",
       "contentWarn         0\n",
       "watched           222\n",
       "watching            0\n",
       "wantWatch           0\n",
       "dropped             0\n",
       "rating           2471\n",
       "votes            2459\n",
       "dtype: int64"
      ]
     },
     "execution_count": 4,
     "metadata": {},
     "output_type": "execute_result"
    }
   ],
   "source": [
    "df.isna().sum()"
   ]
  },
  {
   "cell_type": "code",
   "execution_count": 5,
   "metadata": {},
   "outputs": [
    {
     "name": "stdout",
     "output_type": "stream",
     "text": [
      "<class 'pandas.core.frame.DataFrame'>\n",
      "Index: 14578 entries, Fullmetal Alchemist: Brotherhood to YOASOBI: Harujion\n",
      "Data columns (total 17 columns):\n",
      " #   Column        Non-Null Count  Dtype  \n",
      "---  ------        --------------  -----  \n",
      " 0   mediaType     14510 non-null  object \n",
      " 1   eps           14219 non-null  float64\n",
      " 2   duration      9137 non-null   float64\n",
      " 3   ongoing       14578 non-null  bool   \n",
      " 4   startYr       14356 non-null  float64\n",
      " 5   finishYr      14134 non-null  float64\n",
      " 6   sznOfRelease  3767 non-null   object \n",
      " 7   description   8173 non-null   object \n",
      " 8   studios       14578 non-null  object \n",
      " 9   tags          14578 non-null  object \n",
      " 10  contentWarn   14578 non-null  object \n",
      " 11  watched       14356 non-null  float64\n",
      " 12  watching      14578 non-null  int64  \n",
      " 13  wantWatch     14578 non-null  int64  \n",
      " 14  dropped       14578 non-null  int64  \n",
      " 15  rating        12107 non-null  float64\n",
      " 16  votes         12119 non-null  float64\n",
      "dtypes: bool(1), float64(7), int64(3), object(6)\n",
      "memory usage: 1.9+ MB\n"
     ]
    }
   ],
   "source": [
    "df.info()"
   ]
  },
  {
   "cell_type": "code",
   "execution_count": 6,
   "metadata": {},
   "outputs": [
    {
     "data": {
      "text/plain": [
       "array(['TV', 'Movie', 'Web', 'TV Special', 'OVA', nan, 'DVD Special',\n",
       "       'Other', 'Music Video'], dtype=object)"
      ]
     },
     "execution_count": 6,
     "metadata": {},
     "output_type": "execute_result"
    }
   ],
   "source": [
    "df.mediaType.unique()"
   ]
  },
  {
   "cell_type": "code",
   "execution_count": 7,
   "metadata": {},
   "outputs": [],
   "source": [
    "bsDesc = []\n",
    "\n",
    "for i in df.columns:\n",
    "    bsDesc.append([\n",
    "        i,\n",
    "        df[i].dtypes,\n",
    "        df[i].isnull().sum(),\n",
    "        round((((df[i].isnull().sum()) / (len(df))) * 100 ), 2),\n",
    "        df[i].nunique(),\n",
    "        df[i].drop_duplicates().sample(2).values\n",
    "    ])"
   ]
  },
  {
   "cell_type": "code",
   "execution_count": 8,
   "metadata": {},
   "outputs": [
    {
     "data": {
      "text/html": [
       "<div>\n",
       "<style scoped>\n",
       "    .dataframe tbody tr th:only-of-type {\n",
       "        vertical-align: middle;\n",
       "    }\n",
       "\n",
       "    .dataframe tbody tr th {\n",
       "        vertical-align: top;\n",
       "    }\n",
       "\n",
       "    .dataframe thead th {\n",
       "        text-align: right;\n",
       "    }\n",
       "</style>\n",
       "<table border=\"1\" class=\"dataframe\">\n",
       "  <thead>\n",
       "    <tr style=\"text-align: right;\">\n",
       "      <th></th>\n",
       "      <th>dataFeatures</th>\n",
       "      <th>dataType</th>\n",
       "      <th>Null</th>\n",
       "      <th>NullPercentage</th>\n",
       "      <th>unique</th>\n",
       "      <th>uniqueSample</th>\n",
       "    </tr>\n",
       "  </thead>\n",
       "  <tbody>\n",
       "    <tr>\n",
       "      <th>0</th>\n",
       "      <td>mediaType</td>\n",
       "      <td>object</td>\n",
       "      <td>68</td>\n",
       "      <td>0.47</td>\n",
       "      <td>8</td>\n",
       "      <td>[Music Video, DVD Special]</td>\n",
       "    </tr>\n",
       "    <tr>\n",
       "      <th>1</th>\n",
       "      <td>eps</td>\n",
       "      <td>float64</td>\n",
       "      <td>359</td>\n",
       "      <td>2.46</td>\n",
       "      <td>209</td>\n",
       "      <td>[162.0, 607.0]</td>\n",
       "    </tr>\n",
       "    <tr>\n",
       "      <th>2</th>\n",
       "      <td>duration</td>\n",
       "      <td>float64</td>\n",
       "      <td>5441</td>\n",
       "      <td>37.32</td>\n",
       "      <td>147</td>\n",
       "      <td>[34.0, 93.0]</td>\n",
       "    </tr>\n",
       "    <tr>\n",
       "      <th>3</th>\n",
       "      <td>ongoing</td>\n",
       "      <td>bool</td>\n",
       "      <td>0</td>\n",
       "      <td>0.00</td>\n",
       "      <td>2</td>\n",
       "      <td>[False, True]</td>\n",
       "    </tr>\n",
       "    <tr>\n",
       "      <th>4</th>\n",
       "      <td>startYr</td>\n",
       "      <td>float64</td>\n",
       "      <td>222</td>\n",
       "      <td>1.52</td>\n",
       "      <td>104</td>\n",
       "      <td>[1961.0, 1957.0]</td>\n",
       "    </tr>\n",
       "    <tr>\n",
       "      <th>5</th>\n",
       "      <td>finishYr</td>\n",
       "      <td>float64</td>\n",
       "      <td>444</td>\n",
       "      <td>3.05</td>\n",
       "      <td>104</td>\n",
       "      <td>[2008.0, 1962.0]</td>\n",
       "    </tr>\n",
       "    <tr>\n",
       "      <th>6</th>\n",
       "      <td>sznOfRelease</td>\n",
       "      <td>object</td>\n",
       "      <td>10811</td>\n",
       "      <td>74.16</td>\n",
       "      <td>4</td>\n",
       "      <td>[Spring, Summer]</td>\n",
       "    </tr>\n",
       "    <tr>\n",
       "      <th>7</th>\n",
       "      <td>description</td>\n",
       "      <td>object</td>\n",
       "      <td>6405</td>\n",
       "      <td>43.94</td>\n",
       "      <td>8108</td>\n",
       "      <td>[While riding a lift one day, a boy, dressed i...</td>\n",
       "    </tr>\n",
       "    <tr>\n",
       "      <th>8</th>\n",
       "      <td>studios</td>\n",
       "      <td>object</td>\n",
       "      <td>0</td>\n",
       "      <td>0.00</td>\n",
       "      <td>864</td>\n",
       "      <td>[['Toei Animation', 'Gallop'], ['Tokyo Kids', ...</td>\n",
       "    </tr>\n",
       "    <tr>\n",
       "      <th>9</th>\n",
       "      <td>tags</td>\n",
       "      <td>object</td>\n",
       "      <td>0</td>\n",
       "      <td>0.00</td>\n",
       "      <td>9580</td>\n",
       "      <td>[['Comedy', 'Ecchi', 'Master-Servant Relations...</td>\n",
       "    </tr>\n",
       "    <tr>\n",
       "      <th>10</th>\n",
       "      <td>contentWarn</td>\n",
       "      <td>object</td>\n",
       "      <td>0</td>\n",
       "      <td>0.00</td>\n",
       "      <td>178</td>\n",
       "      <td>[['Explicit Sex', 'Physical Abuse', 'Sexual Ab...</td>\n",
       "    </tr>\n",
       "    <tr>\n",
       "      <th>11</th>\n",
       "      <td>watched</td>\n",
       "      <td>float64</td>\n",
       "      <td>222</td>\n",
       "      <td>1.52</td>\n",
       "      <td>4317</td>\n",
       "      <td>[3057.0, 1967.0]</td>\n",
       "    </tr>\n",
       "    <tr>\n",
       "      <th>12</th>\n",
       "      <td>watching</td>\n",
       "      <td>int64</td>\n",
       "      <td>0</td>\n",
       "      <td>0.00</td>\n",
       "      <td>1463</td>\n",
       "      <td>[1345, 16302]</td>\n",
       "    </tr>\n",
       "    <tr>\n",
       "      <th>13</th>\n",
       "      <td>wantWatch</td>\n",
       "      <td>int64</td>\n",
       "      <td>0</td>\n",
       "      <td>0.00</td>\n",
       "      <td>3521</td>\n",
       "      <td>[1655, 572]</td>\n",
       "    </tr>\n",
       "    <tr>\n",
       "      <th>14</th>\n",
       "      <td>dropped</td>\n",
       "      <td>int64</td>\n",
       "      <td>0</td>\n",
       "      <td>0.00</td>\n",
       "      <td>1232</td>\n",
       "      <td>[233, 729]</td>\n",
       "    </tr>\n",
       "    <tr>\n",
       "      <th>15</th>\n",
       "      <td>rating</td>\n",
       "      <td>float64</td>\n",
       "      <td>2471</td>\n",
       "      <td>16.95</td>\n",
       "      <td>3306</td>\n",
       "      <td>[2.7030000000000003, 3.347]</td>\n",
       "    </tr>\n",
       "    <tr>\n",
       "      <th>16</th>\n",
       "      <td>votes</td>\n",
       "      <td>float64</td>\n",
       "      <td>2459</td>\n",
       "      <td>16.87</td>\n",
       "      <td>3787</td>\n",
       "      <td>[1153.0, 584.0]</td>\n",
       "    </tr>\n",
       "  </tbody>\n",
       "</table>\n",
       "</div>"
      ],
      "text/plain": [
       "    dataFeatures dataType   Null  NullPercentage  unique  \\\n",
       "0      mediaType   object     68            0.47       8   \n",
       "1            eps  float64    359            2.46     209   \n",
       "2       duration  float64   5441           37.32     147   \n",
       "3        ongoing     bool      0            0.00       2   \n",
       "4        startYr  float64    222            1.52     104   \n",
       "5       finishYr  float64    444            3.05     104   \n",
       "6   sznOfRelease   object  10811           74.16       4   \n",
       "7    description   object   6405           43.94    8108   \n",
       "8        studios   object      0            0.00     864   \n",
       "9           tags   object      0            0.00    9580   \n",
       "10   contentWarn   object      0            0.00     178   \n",
       "11       watched  float64    222            1.52    4317   \n",
       "12      watching    int64      0            0.00    1463   \n",
       "13     wantWatch    int64      0            0.00    3521   \n",
       "14       dropped    int64      0            0.00    1232   \n",
       "15        rating  float64   2471           16.95    3306   \n",
       "16         votes  float64   2459           16.87    3787   \n",
       "\n",
       "                                         uniqueSample  \n",
       "0                          [Music Video, DVD Special]  \n",
       "1                                      [162.0, 607.0]  \n",
       "2                                        [34.0, 93.0]  \n",
       "3                                       [False, True]  \n",
       "4                                    [1961.0, 1957.0]  \n",
       "5                                    [2008.0, 1962.0]  \n",
       "6                                    [Spring, Summer]  \n",
       "7   [While riding a lift one day, a boy, dressed i...  \n",
       "8   [['Toei Animation', 'Gallop'], ['Tokyo Kids', ...  \n",
       "9   [['Comedy', 'Ecchi', 'Master-Servant Relations...  \n",
       "10  [['Explicit Sex', 'Physical Abuse', 'Sexual Ab...  \n",
       "11                                   [3057.0, 1967.0]  \n",
       "12                                      [1345, 16302]  \n",
       "13                                        [1655, 572]  \n",
       "14                                         [233, 729]  \n",
       "15                        [2.7030000000000003, 3.347]  \n",
       "16                                    [1153.0, 584.0]  "
      ]
     },
     "execution_count": 8,
     "metadata": {},
     "output_type": "execute_result"
    }
   ],
   "source": [
    "pd.DataFrame(data = bsDesc,\n",
    "            columns = [\n",
    "                'dataFeatures',\n",
    "                'dataType',\n",
    "                'Null',\n",
    "                'NullPercentage',\n",
    "                'unique',\n",
    "                'uniqueSample'\n",
    "            ])"
   ]
  },
  {
   "cell_type": "code",
   "execution_count": 9,
   "metadata": {},
   "outputs": [
    {
     "data": {
      "text/html": [
       "<div>\n",
       "<style scoped>\n",
       "    .dataframe tbody tr th:only-of-type {\n",
       "        vertical-align: middle;\n",
       "    }\n",
       "\n",
       "    .dataframe tbody tr th {\n",
       "        vertical-align: top;\n",
       "    }\n",
       "\n",
       "    .dataframe thead th {\n",
       "        text-align: right;\n",
       "    }\n",
       "</style>\n",
       "<table border=\"1\" class=\"dataframe\">\n",
       "  <thead>\n",
       "    <tr style=\"text-align: right;\">\n",
       "      <th></th>\n",
       "      <th>mediaType</th>\n",
       "      <th>sznOfRelease</th>\n",
       "      <th>description</th>\n",
       "      <th>studios</th>\n",
       "      <th>tags</th>\n",
       "      <th>contentWarn</th>\n",
       "    </tr>\n",
       "  </thead>\n",
       "  <tbody>\n",
       "    <tr>\n",
       "      <th>count</th>\n",
       "      <td>14510</td>\n",
       "      <td>3767</td>\n",
       "      <td>8173</td>\n",
       "      <td>14578</td>\n",
       "      <td>14578</td>\n",
       "      <td>14578</td>\n",
       "    </tr>\n",
       "    <tr>\n",
       "      <th>unique</th>\n",
       "      <td>8</td>\n",
       "      <td>4</td>\n",
       "      <td>8108</td>\n",
       "      <td>864</td>\n",
       "      <td>9580</td>\n",
       "      <td>178</td>\n",
       "    </tr>\n",
       "    <tr>\n",
       "      <th>top</th>\n",
       "      <td>TV</td>\n",
       "      <td>Spring</td>\n",
       "      <td>In 19th century Belgium, in the Flanders count...</td>\n",
       "      <td>[]</td>\n",
       "      <td>[]</td>\n",
       "      <td>[]</td>\n",
       "    </tr>\n",
       "    <tr>\n",
       "      <th>freq</th>\n",
       "      <td>4510</td>\n",
       "      <td>1202</td>\n",
       "      <td>3</td>\n",
       "      <td>4808</td>\n",
       "      <td>385</td>\n",
       "      <td>13149</td>\n",
       "    </tr>\n",
       "  </tbody>\n",
       "</table>\n",
       "</div>"
      ],
      "text/plain": [
       "       mediaType sznOfRelease  \\\n",
       "count      14510         3767   \n",
       "unique         8            4   \n",
       "top           TV       Spring   \n",
       "freq        4510         1202   \n",
       "\n",
       "                                              description studios   tags  \\\n",
       "count                                                8173   14578  14578   \n",
       "unique                                               8108     864   9580   \n",
       "top     In 19th century Belgium, in the Flanders count...      []     []   \n",
       "freq                                                    3    4808    385   \n",
       "\n",
       "       contentWarn  \n",
       "count        14578  \n",
       "unique         178  \n",
       "top             []  \n",
       "freq         13149  "
      ]
     },
     "execution_count": 9,
     "metadata": {},
     "output_type": "execute_result"
    }
   ],
   "source": [
    "df.describe(include='O')"
   ]
  },
  {
   "cell_type": "code",
   "execution_count": 10,
   "metadata": {},
   "outputs": [],
   "source": [
    "df.dropna(inplace=True)"
   ]
  },
  {
   "cell_type": "code",
   "execution_count": 11,
   "metadata": {},
   "outputs": [
    {
     "data": {
      "text/plain": [
       "mediaType       0\n",
       "eps             0\n",
       "duration        0\n",
       "ongoing         0\n",
       "startYr         0\n",
       "finishYr        0\n",
       "sznOfRelease    0\n",
       "description     0\n",
       "studios         0\n",
       "tags            0\n",
       "contentWarn     0\n",
       "watched         0\n",
       "watching        0\n",
       "wantWatch       0\n",
       "dropped         0\n",
       "rating          0\n",
       "votes           0\n",
       "dtype: int64"
      ]
     },
     "execution_count": 11,
     "metadata": {},
     "output_type": "execute_result"
    }
   ],
   "source": [
    "df.isna().sum()"
   ]
  },
  {
   "cell_type": "code",
   "execution_count": 12,
   "metadata": {},
   "outputs": [
    {
     "data": {
      "text/html": [
       "<div>\n",
       "<style scoped>\n",
       "    .dataframe tbody tr th:only-of-type {\n",
       "        vertical-align: middle;\n",
       "    }\n",
       "\n",
       "    .dataframe tbody tr th {\n",
       "        vertical-align: top;\n",
       "    }\n",
       "\n",
       "    .dataframe thead th {\n",
       "        text-align: right;\n",
       "    }\n",
       "</style>\n",
       "<table border=\"1\" class=\"dataframe\">\n",
       "  <thead>\n",
       "    <tr style=\"text-align: right;\">\n",
       "      <th></th>\n",
       "      <th>mediaType</th>\n",
       "      <th>eps</th>\n",
       "      <th>duration</th>\n",
       "      <th>ongoing</th>\n",
       "      <th>startYr</th>\n",
       "      <th>finishYr</th>\n",
       "      <th>sznOfRelease</th>\n",
       "      <th>description</th>\n",
       "      <th>studios</th>\n",
       "      <th>tags</th>\n",
       "      <th>contentWarn</th>\n",
       "      <th>watched</th>\n",
       "      <th>watching</th>\n",
       "      <th>wantWatch</th>\n",
       "      <th>dropped</th>\n",
       "      <th>rating</th>\n",
       "      <th>votes</th>\n",
       "    </tr>\n",
       "    <tr>\n",
       "      <th>title</th>\n",
       "      <th></th>\n",
       "      <th></th>\n",
       "      <th></th>\n",
       "      <th></th>\n",
       "      <th></th>\n",
       "      <th></th>\n",
       "      <th></th>\n",
       "      <th></th>\n",
       "      <th></th>\n",
       "      <th></th>\n",
       "      <th></th>\n",
       "      <th></th>\n",
       "      <th></th>\n",
       "      <th></th>\n",
       "      <th></th>\n",
       "      <th></th>\n",
       "      <th></th>\n",
       "    </tr>\n",
       "  </thead>\n",
       "  <tbody>\n",
       "    <tr>\n",
       "      <th>The Disastrous Life of Saiki K.</th>\n",
       "      <td>TV</td>\n",
       "      <td>120.0</td>\n",
       "      <td>4.0</td>\n",
       "      <td>False</td>\n",
       "      <td>2016.0</td>\n",
       "      <td>2016.0</td>\n",
       "      <td>Summer</td>\n",
       "      <td>Kusuo Saiki is a typical 16-year-old high scho...</td>\n",
       "      <td>['J.C. Staff']</td>\n",
       "      <td>['Comedy', 'Shounen', 'Slice of Life', 'Breaki...</td>\n",
       "      <td>[]</td>\n",
       "      <td>15419.0</td>\n",
       "      <td>2694</td>\n",
       "      <td>4889</td>\n",
       "      <td>749</td>\n",
       "      <td>4.453</td>\n",
       "      <td>11754.0</td>\n",
       "    </tr>\n",
       "    <tr>\n",
       "      <th>Castlevania Season 2</th>\n",
       "      <td>Web</td>\n",
       "      <td>8.0</td>\n",
       "      <td>25.0</td>\n",
       "      <td>False</td>\n",
       "      <td>2018.0</td>\n",
       "      <td>2018.0</td>\n",
       "      <td>Fall</td>\n",
       "      <td>Trying to save Eastern Europe from extinction ...</td>\n",
       "      <td>['Powerhouse Animation', 'Frederator Studios']</td>\n",
       "      <td>['Action', 'Adventure', 'Drama', 'Horror', '15...</td>\n",
       "      <td>['Explicit Violence', 'Mature Themes', 'Physic...</td>\n",
       "      <td>8010.0</td>\n",
       "      <td>384</td>\n",
       "      <td>2207</td>\n",
       "      <td>58</td>\n",
       "      <td>4.409</td>\n",
       "      <td>5564.0</td>\n",
       "    </tr>\n",
       "    <tr>\n",
       "      <th>The Disastrous Life of Saiki K. - Reawakened</th>\n",
       "      <td>Web</td>\n",
       "      <td>6.0</td>\n",
       "      <td>23.0</td>\n",
       "      <td>False</td>\n",
       "      <td>2019.0</td>\n",
       "      <td>2019.0</td>\n",
       "      <td>Winter</td>\n",
       "      <td>Kusuo and his gaggle of self-proclaimed friend...</td>\n",
       "      <td>['J.C. Staff']</td>\n",
       "      <td>['Comedy', 'Shounen', 'Breaking the Fourth Wal...</td>\n",
       "      <td>[]</td>\n",
       "      <td>3136.0</td>\n",
       "      <td>258</td>\n",
       "      <td>1402</td>\n",
       "      <td>26</td>\n",
       "      <td>4.400</td>\n",
       "      <td>1942.0</td>\n",
       "    </tr>\n",
       "    <tr>\n",
       "      <th>Katanagatari</th>\n",
       "      <td>TV</td>\n",
       "      <td>12.0</td>\n",
       "      <td>50.0</td>\n",
       "      <td>False</td>\n",
       "      <td>2010.0</td>\n",
       "      <td>2010.0</td>\n",
       "      <td>Winter</td>\n",
       "      <td>In the wake of a rebellion that shook Japan tw...</td>\n",
       "      <td>['WHITE FOX']</td>\n",
       "      <td>['Action', 'Adventure', 'Drama', 'Fantasy', 'R...</td>\n",
       "      <td>[]</td>\n",
       "      <td>14691.0</td>\n",
       "      <td>2657</td>\n",
       "      <td>12044</td>\n",
       "      <td>1159</td>\n",
       "      <td>4.402</td>\n",
       "      <td>12974.0</td>\n",
       "    </tr>\n",
       "    <tr>\n",
       "      <th>Castlevania Season 3</th>\n",
       "      <td>Web</td>\n",
       "      <td>10.0</td>\n",
       "      <td>28.0</td>\n",
       "      <td>False</td>\n",
       "      <td>2020.0</td>\n",
       "      <td>2020.0</td>\n",
       "      <td>Winter</td>\n",
       "      <td>After the fall of Dracula, heroes and villains...</td>\n",
       "      <td>['Powerhouse Animation', 'Frederator Studios']</td>\n",
       "      <td>['Action', 'Adventure', 'Drama', 'Horror', '15...</td>\n",
       "      <td>['Explicit Sex', 'Explicit Violence', 'Mature ...</td>\n",
       "      <td>2975.0</td>\n",
       "      <td>312</td>\n",
       "      <td>2828</td>\n",
       "      <td>20</td>\n",
       "      <td>4.402</td>\n",
       "      <td>2128.0</td>\n",
       "    </tr>\n",
       "  </tbody>\n",
       "</table>\n",
       "</div>"
      ],
      "text/plain": [
       "                                             mediaType    eps  duration  \\\n",
       "title                                                                     \n",
       "The Disastrous Life of Saiki K.                     TV  120.0       4.0   \n",
       "Castlevania Season 2                               Web    8.0      25.0   \n",
       "The Disastrous Life of Saiki K. - Reawakened       Web    6.0      23.0   \n",
       "Katanagatari                                        TV   12.0      50.0   \n",
       "Castlevania Season 3                               Web   10.0      28.0   \n",
       "\n",
       "                                              ongoing  startYr  finishYr  \\\n",
       "title                                                                      \n",
       "The Disastrous Life of Saiki K.                 False   2016.0    2016.0   \n",
       "Castlevania Season 2                            False   2018.0    2018.0   \n",
       "The Disastrous Life of Saiki K. - Reawakened    False   2019.0    2019.0   \n",
       "Katanagatari                                    False   2010.0    2010.0   \n",
       "Castlevania Season 3                            False   2020.0    2020.0   \n",
       "\n",
       "                                             sznOfRelease  \\\n",
       "title                                                       \n",
       "The Disastrous Life of Saiki K.                    Summer   \n",
       "Castlevania Season 2                                 Fall   \n",
       "The Disastrous Life of Saiki K. - Reawakened       Winter   \n",
       "Katanagatari                                       Winter   \n",
       "Castlevania Season 3                               Winter   \n",
       "\n",
       "                                                                                    description  \\\n",
       "title                                                                                             \n",
       "The Disastrous Life of Saiki K.               Kusuo Saiki is a typical 16-year-old high scho...   \n",
       "Castlevania Season 2                          Trying to save Eastern Europe from extinction ...   \n",
       "The Disastrous Life of Saiki K. - Reawakened  Kusuo and his gaggle of self-proclaimed friend...   \n",
       "Katanagatari                                  In the wake of a rebellion that shook Japan tw...   \n",
       "Castlevania Season 3                          After the fall of Dracula, heroes and villains...   \n",
       "\n",
       "                                                                                     studios  \\\n",
       "title                                                                                          \n",
       "The Disastrous Life of Saiki K.                                               ['J.C. Staff']   \n",
       "Castlevania Season 2                          ['Powerhouse Animation', 'Frederator Studios']   \n",
       "The Disastrous Life of Saiki K. - Reawakened                                  ['J.C. Staff']   \n",
       "Katanagatari                                                                   ['WHITE FOX']   \n",
       "Castlevania Season 3                          ['Powerhouse Animation', 'Frederator Studios']   \n",
       "\n",
       "                                                                                           tags  \\\n",
       "title                                                                                             \n",
       "The Disastrous Life of Saiki K.               ['Comedy', 'Shounen', 'Slice of Life', 'Breaki...   \n",
       "Castlevania Season 2                          ['Action', 'Adventure', 'Drama', 'Horror', '15...   \n",
       "The Disastrous Life of Saiki K. - Reawakened  ['Comedy', 'Shounen', 'Breaking the Fourth Wal...   \n",
       "Katanagatari                                  ['Action', 'Adventure', 'Drama', 'Fantasy', 'R...   \n",
       "Castlevania Season 3                          ['Action', 'Adventure', 'Drama', 'Horror', '15...   \n",
       "\n",
       "                                                                                    contentWarn  \\\n",
       "title                                                                                             \n",
       "The Disastrous Life of Saiki K.                                                              []   \n",
       "Castlevania Season 2                          ['Explicit Violence', 'Mature Themes', 'Physic...   \n",
       "The Disastrous Life of Saiki K. - Reawakened                                                 []   \n",
       "Katanagatari                                                                                 []   \n",
       "Castlevania Season 3                          ['Explicit Sex', 'Explicit Violence', 'Mature ...   \n",
       "\n",
       "                                              watched  watching  wantWatch  \\\n",
       "title                                                                        \n",
       "The Disastrous Life of Saiki K.               15419.0      2694       4889   \n",
       "Castlevania Season 2                           8010.0       384       2207   \n",
       "The Disastrous Life of Saiki K. - Reawakened   3136.0       258       1402   \n",
       "Katanagatari                                  14691.0      2657      12044   \n",
       "Castlevania Season 3                           2975.0       312       2828   \n",
       "\n",
       "                                              dropped  rating    votes  \n",
       "title                                                                   \n",
       "The Disastrous Life of Saiki K.                   749   4.453  11754.0  \n",
       "Castlevania Season 2                               58   4.409   5564.0  \n",
       "The Disastrous Life of Saiki K. - Reawakened       26   4.400   1942.0  \n",
       "Katanagatari                                     1159   4.402  12974.0  \n",
       "Castlevania Season 3                               20   4.402   2128.0  "
      ]
     },
     "execution_count": 12,
     "metadata": {},
     "output_type": "execute_result"
    }
   ],
   "source": [
    "df.head()"
   ]
  },
  {
   "cell_type": "markdown",
   "metadata": {},
   "source": [
    "## Feature Engineering"
   ]
  },
  {
   "cell_type": "code",
   "execution_count": 13,
   "metadata": {},
   "outputs": [
    {
     "data": {
      "text/plain": [
       "array(['TV', 'Web'], dtype=object)"
      ]
     },
     "execution_count": 13,
     "metadata": {},
     "output_type": "execute_result"
    }
   ],
   "source": [
    "df.mediaType.unique()"
   ]
  },
  {
   "cell_type": "code",
   "execution_count": 14,
   "metadata": {},
   "outputs": [],
   "source": [
    "df['mediaType'] = df['mediaType'].map({\n",
    "    \"TV\" : 0,\n",
    "    \"Web\":1\n",
    "})"
   ]
  },
  {
   "cell_type": "code",
   "execution_count": 15,
   "metadata": {},
   "outputs": [
    {
     "data": {
      "text/html": [
       "<div>\n",
       "<style scoped>\n",
       "    .dataframe tbody tr th:only-of-type {\n",
       "        vertical-align: middle;\n",
       "    }\n",
       "\n",
       "    .dataframe tbody tr th {\n",
       "        vertical-align: top;\n",
       "    }\n",
       "\n",
       "    .dataframe thead th {\n",
       "        text-align: right;\n",
       "    }\n",
       "</style>\n",
       "<table border=\"1\" class=\"dataframe\">\n",
       "  <thead>\n",
       "    <tr style=\"text-align: right;\">\n",
       "      <th></th>\n",
       "      <th>mediaType</th>\n",
       "      <th>eps</th>\n",
       "      <th>duration</th>\n",
       "      <th>ongoing</th>\n",
       "      <th>startYr</th>\n",
       "      <th>finishYr</th>\n",
       "      <th>sznOfRelease</th>\n",
       "      <th>description</th>\n",
       "      <th>studios</th>\n",
       "      <th>tags</th>\n",
       "      <th>contentWarn</th>\n",
       "      <th>watched</th>\n",
       "      <th>watching</th>\n",
       "      <th>wantWatch</th>\n",
       "      <th>dropped</th>\n",
       "      <th>rating</th>\n",
       "      <th>votes</th>\n",
       "    </tr>\n",
       "    <tr>\n",
       "      <th>title</th>\n",
       "      <th></th>\n",
       "      <th></th>\n",
       "      <th></th>\n",
       "      <th></th>\n",
       "      <th></th>\n",
       "      <th></th>\n",
       "      <th></th>\n",
       "      <th></th>\n",
       "      <th></th>\n",
       "      <th></th>\n",
       "      <th></th>\n",
       "      <th></th>\n",
       "      <th></th>\n",
       "      <th></th>\n",
       "      <th></th>\n",
       "      <th></th>\n",
       "      <th></th>\n",
       "    </tr>\n",
       "  </thead>\n",
       "  <tbody>\n",
       "    <tr>\n",
       "      <th>The Disastrous Life of Saiki K.</th>\n",
       "      <td>0</td>\n",
       "      <td>120.0</td>\n",
       "      <td>4.0</td>\n",
       "      <td>False</td>\n",
       "      <td>2016.0</td>\n",
       "      <td>2016.0</td>\n",
       "      <td>Summer</td>\n",
       "      <td>Kusuo Saiki is a typical 16-year-old high scho...</td>\n",
       "      <td>['J.C. Staff']</td>\n",
       "      <td>['Comedy', 'Shounen', 'Slice of Life', 'Breaki...</td>\n",
       "      <td>[]</td>\n",
       "      <td>15419.0</td>\n",
       "      <td>2694</td>\n",
       "      <td>4889</td>\n",
       "      <td>749</td>\n",
       "      <td>4.453</td>\n",
       "      <td>11754.0</td>\n",
       "    </tr>\n",
       "    <tr>\n",
       "      <th>Castlevania Season 2</th>\n",
       "      <td>1</td>\n",
       "      <td>8.0</td>\n",
       "      <td>25.0</td>\n",
       "      <td>False</td>\n",
       "      <td>2018.0</td>\n",
       "      <td>2018.0</td>\n",
       "      <td>Fall</td>\n",
       "      <td>Trying to save Eastern Europe from extinction ...</td>\n",
       "      <td>['Powerhouse Animation', 'Frederator Studios']</td>\n",
       "      <td>['Action', 'Adventure', 'Drama', 'Horror', '15...</td>\n",
       "      <td>['Explicit Violence', 'Mature Themes', 'Physic...</td>\n",
       "      <td>8010.0</td>\n",
       "      <td>384</td>\n",
       "      <td>2207</td>\n",
       "      <td>58</td>\n",
       "      <td>4.409</td>\n",
       "      <td>5564.0</td>\n",
       "    </tr>\n",
       "    <tr>\n",
       "      <th>The Disastrous Life of Saiki K. - Reawakened</th>\n",
       "      <td>1</td>\n",
       "      <td>6.0</td>\n",
       "      <td>23.0</td>\n",
       "      <td>False</td>\n",
       "      <td>2019.0</td>\n",
       "      <td>2019.0</td>\n",
       "      <td>Winter</td>\n",
       "      <td>Kusuo and his gaggle of self-proclaimed friend...</td>\n",
       "      <td>['J.C. Staff']</td>\n",
       "      <td>['Comedy', 'Shounen', 'Breaking the Fourth Wal...</td>\n",
       "      <td>[]</td>\n",
       "      <td>3136.0</td>\n",
       "      <td>258</td>\n",
       "      <td>1402</td>\n",
       "      <td>26</td>\n",
       "      <td>4.400</td>\n",
       "      <td>1942.0</td>\n",
       "    </tr>\n",
       "    <tr>\n",
       "      <th>Katanagatari</th>\n",
       "      <td>0</td>\n",
       "      <td>12.0</td>\n",
       "      <td>50.0</td>\n",
       "      <td>False</td>\n",
       "      <td>2010.0</td>\n",
       "      <td>2010.0</td>\n",
       "      <td>Winter</td>\n",
       "      <td>In the wake of a rebellion that shook Japan tw...</td>\n",
       "      <td>['WHITE FOX']</td>\n",
       "      <td>['Action', 'Adventure', 'Drama', 'Fantasy', 'R...</td>\n",
       "      <td>[]</td>\n",
       "      <td>14691.0</td>\n",
       "      <td>2657</td>\n",
       "      <td>12044</td>\n",
       "      <td>1159</td>\n",
       "      <td>4.402</td>\n",
       "      <td>12974.0</td>\n",
       "    </tr>\n",
       "    <tr>\n",
       "      <th>Castlevania Season 3</th>\n",
       "      <td>1</td>\n",
       "      <td>10.0</td>\n",
       "      <td>28.0</td>\n",
       "      <td>False</td>\n",
       "      <td>2020.0</td>\n",
       "      <td>2020.0</td>\n",
       "      <td>Winter</td>\n",
       "      <td>After the fall of Dracula, heroes and villains...</td>\n",
       "      <td>['Powerhouse Animation', 'Frederator Studios']</td>\n",
       "      <td>['Action', 'Adventure', 'Drama', 'Horror', '15...</td>\n",
       "      <td>['Explicit Sex', 'Explicit Violence', 'Mature ...</td>\n",
       "      <td>2975.0</td>\n",
       "      <td>312</td>\n",
       "      <td>2828</td>\n",
       "      <td>20</td>\n",
       "      <td>4.402</td>\n",
       "      <td>2128.0</td>\n",
       "    </tr>\n",
       "  </tbody>\n",
       "</table>\n",
       "</div>"
      ],
      "text/plain": [
       "                                              mediaType    eps  duration  \\\n",
       "title                                                                      \n",
       "The Disastrous Life of Saiki K.                       0  120.0       4.0   \n",
       "Castlevania Season 2                                  1    8.0      25.0   \n",
       "The Disastrous Life of Saiki K. - Reawakened          1    6.0      23.0   \n",
       "Katanagatari                                          0   12.0      50.0   \n",
       "Castlevania Season 3                                  1   10.0      28.0   \n",
       "\n",
       "                                              ongoing  startYr  finishYr  \\\n",
       "title                                                                      \n",
       "The Disastrous Life of Saiki K.                 False   2016.0    2016.0   \n",
       "Castlevania Season 2                            False   2018.0    2018.0   \n",
       "The Disastrous Life of Saiki K. - Reawakened    False   2019.0    2019.0   \n",
       "Katanagatari                                    False   2010.0    2010.0   \n",
       "Castlevania Season 3                            False   2020.0    2020.0   \n",
       "\n",
       "                                             sznOfRelease  \\\n",
       "title                                                       \n",
       "The Disastrous Life of Saiki K.                    Summer   \n",
       "Castlevania Season 2                                 Fall   \n",
       "The Disastrous Life of Saiki K. - Reawakened       Winter   \n",
       "Katanagatari                                       Winter   \n",
       "Castlevania Season 3                               Winter   \n",
       "\n",
       "                                                                                    description  \\\n",
       "title                                                                                             \n",
       "The Disastrous Life of Saiki K.               Kusuo Saiki is a typical 16-year-old high scho...   \n",
       "Castlevania Season 2                          Trying to save Eastern Europe from extinction ...   \n",
       "The Disastrous Life of Saiki K. - Reawakened  Kusuo and his gaggle of self-proclaimed friend...   \n",
       "Katanagatari                                  In the wake of a rebellion that shook Japan tw...   \n",
       "Castlevania Season 3                          After the fall of Dracula, heroes and villains...   \n",
       "\n",
       "                                                                                     studios  \\\n",
       "title                                                                                          \n",
       "The Disastrous Life of Saiki K.                                               ['J.C. Staff']   \n",
       "Castlevania Season 2                          ['Powerhouse Animation', 'Frederator Studios']   \n",
       "The Disastrous Life of Saiki K. - Reawakened                                  ['J.C. Staff']   \n",
       "Katanagatari                                                                   ['WHITE FOX']   \n",
       "Castlevania Season 3                          ['Powerhouse Animation', 'Frederator Studios']   \n",
       "\n",
       "                                                                                           tags  \\\n",
       "title                                                                                             \n",
       "The Disastrous Life of Saiki K.               ['Comedy', 'Shounen', 'Slice of Life', 'Breaki...   \n",
       "Castlevania Season 2                          ['Action', 'Adventure', 'Drama', 'Horror', '15...   \n",
       "The Disastrous Life of Saiki K. - Reawakened  ['Comedy', 'Shounen', 'Breaking the Fourth Wal...   \n",
       "Katanagatari                                  ['Action', 'Adventure', 'Drama', 'Fantasy', 'R...   \n",
       "Castlevania Season 3                          ['Action', 'Adventure', 'Drama', 'Horror', '15...   \n",
       "\n",
       "                                                                                    contentWarn  \\\n",
       "title                                                                                             \n",
       "The Disastrous Life of Saiki K.                                                              []   \n",
       "Castlevania Season 2                          ['Explicit Violence', 'Mature Themes', 'Physic...   \n",
       "The Disastrous Life of Saiki K. - Reawakened                                                 []   \n",
       "Katanagatari                                                                                 []   \n",
       "Castlevania Season 3                          ['Explicit Sex', 'Explicit Violence', 'Mature ...   \n",
       "\n",
       "                                              watched  watching  wantWatch  \\\n",
       "title                                                                        \n",
       "The Disastrous Life of Saiki K.               15419.0      2694       4889   \n",
       "Castlevania Season 2                           8010.0       384       2207   \n",
       "The Disastrous Life of Saiki K. - Reawakened   3136.0       258       1402   \n",
       "Katanagatari                                  14691.0      2657      12044   \n",
       "Castlevania Season 3                           2975.0       312       2828   \n",
       "\n",
       "                                              dropped  rating    votes  \n",
       "title                                                                   \n",
       "The Disastrous Life of Saiki K.                   749   4.453  11754.0  \n",
       "Castlevania Season 2                               58   4.409   5564.0  \n",
       "The Disastrous Life of Saiki K. - Reawakened       26   4.400   1942.0  \n",
       "Katanagatari                                     1159   4.402  12974.0  \n",
       "Castlevania Season 3                               20   4.402   2128.0  "
      ]
     },
     "execution_count": 15,
     "metadata": {},
     "output_type": "execute_result"
    }
   ],
   "source": [
    "df.head()"
   ]
  },
  {
   "cell_type": "code",
   "execution_count": 16,
   "metadata": {},
   "outputs": [
    {
     "data": {
      "text/plain": [
       "array(['Summer', 'Fall', 'Winter', 'Spring'], dtype=object)"
      ]
     },
     "execution_count": 16,
     "metadata": {},
     "output_type": "execute_result"
    }
   ],
   "source": [
    "df.sznOfRelease.unique()"
   ]
  },
  {
   "cell_type": "code",
   "execution_count": 17,
   "metadata": {},
   "outputs": [],
   "source": [
    "df = pd.get_dummies(data = df, columns=['sznOfRelease'])"
   ]
  },
  {
   "cell_type": "code",
   "execution_count": 18,
   "metadata": {},
   "outputs": [
    {
     "data": {
      "text/html": [
       "<div>\n",
       "<style scoped>\n",
       "    .dataframe tbody tr th:only-of-type {\n",
       "        vertical-align: middle;\n",
       "    }\n",
       "\n",
       "    .dataframe tbody tr th {\n",
       "        vertical-align: top;\n",
       "    }\n",
       "\n",
       "    .dataframe thead th {\n",
       "        text-align: right;\n",
       "    }\n",
       "</style>\n",
       "<table border=\"1\" class=\"dataframe\">\n",
       "  <thead>\n",
       "    <tr style=\"text-align: right;\">\n",
       "      <th></th>\n",
       "      <th>mediaType</th>\n",
       "      <th>eps</th>\n",
       "      <th>duration</th>\n",
       "      <th>ongoing</th>\n",
       "      <th>startYr</th>\n",
       "      <th>finishYr</th>\n",
       "      <th>description</th>\n",
       "      <th>studios</th>\n",
       "      <th>tags</th>\n",
       "      <th>contentWarn</th>\n",
       "      <th>watched</th>\n",
       "      <th>watching</th>\n",
       "      <th>wantWatch</th>\n",
       "      <th>dropped</th>\n",
       "      <th>rating</th>\n",
       "      <th>votes</th>\n",
       "      <th>sznOfRelease_Fall</th>\n",
       "      <th>sznOfRelease_Spring</th>\n",
       "      <th>sznOfRelease_Summer</th>\n",
       "      <th>sznOfRelease_Winter</th>\n",
       "    </tr>\n",
       "    <tr>\n",
       "      <th>title</th>\n",
       "      <th></th>\n",
       "      <th></th>\n",
       "      <th></th>\n",
       "      <th></th>\n",
       "      <th></th>\n",
       "      <th></th>\n",
       "      <th></th>\n",
       "      <th></th>\n",
       "      <th></th>\n",
       "      <th></th>\n",
       "      <th></th>\n",
       "      <th></th>\n",
       "      <th></th>\n",
       "      <th></th>\n",
       "      <th></th>\n",
       "      <th></th>\n",
       "      <th></th>\n",
       "      <th></th>\n",
       "      <th></th>\n",
       "      <th></th>\n",
       "    </tr>\n",
       "  </thead>\n",
       "  <tbody>\n",
       "    <tr>\n",
       "      <th>The Disastrous Life of Saiki K.</th>\n",
       "      <td>0</td>\n",
       "      <td>120.0</td>\n",
       "      <td>4.0</td>\n",
       "      <td>False</td>\n",
       "      <td>2016.0</td>\n",
       "      <td>2016.0</td>\n",
       "      <td>Kusuo Saiki is a typical 16-year-old high scho...</td>\n",
       "      <td>['J.C. Staff']</td>\n",
       "      <td>['Comedy', 'Shounen', 'Slice of Life', 'Breaki...</td>\n",
       "      <td>[]</td>\n",
       "      <td>15419.0</td>\n",
       "      <td>2694</td>\n",
       "      <td>4889</td>\n",
       "      <td>749</td>\n",
       "      <td>4.453</td>\n",
       "      <td>11754.0</td>\n",
       "      <td>0</td>\n",
       "      <td>0</td>\n",
       "      <td>1</td>\n",
       "      <td>0</td>\n",
       "    </tr>\n",
       "    <tr>\n",
       "      <th>Castlevania Season 2</th>\n",
       "      <td>1</td>\n",
       "      <td>8.0</td>\n",
       "      <td>25.0</td>\n",
       "      <td>False</td>\n",
       "      <td>2018.0</td>\n",
       "      <td>2018.0</td>\n",
       "      <td>Trying to save Eastern Europe from extinction ...</td>\n",
       "      <td>['Powerhouse Animation', 'Frederator Studios']</td>\n",
       "      <td>['Action', 'Adventure', 'Drama', 'Horror', '15...</td>\n",
       "      <td>['Explicit Violence', 'Mature Themes', 'Physic...</td>\n",
       "      <td>8010.0</td>\n",
       "      <td>384</td>\n",
       "      <td>2207</td>\n",
       "      <td>58</td>\n",
       "      <td>4.409</td>\n",
       "      <td>5564.0</td>\n",
       "      <td>1</td>\n",
       "      <td>0</td>\n",
       "      <td>0</td>\n",
       "      <td>0</td>\n",
       "    </tr>\n",
       "    <tr>\n",
       "      <th>The Disastrous Life of Saiki K. - Reawakened</th>\n",
       "      <td>1</td>\n",
       "      <td>6.0</td>\n",
       "      <td>23.0</td>\n",
       "      <td>False</td>\n",
       "      <td>2019.0</td>\n",
       "      <td>2019.0</td>\n",
       "      <td>Kusuo and his gaggle of self-proclaimed friend...</td>\n",
       "      <td>['J.C. Staff']</td>\n",
       "      <td>['Comedy', 'Shounen', 'Breaking the Fourth Wal...</td>\n",
       "      <td>[]</td>\n",
       "      <td>3136.0</td>\n",
       "      <td>258</td>\n",
       "      <td>1402</td>\n",
       "      <td>26</td>\n",
       "      <td>4.400</td>\n",
       "      <td>1942.0</td>\n",
       "      <td>0</td>\n",
       "      <td>0</td>\n",
       "      <td>0</td>\n",
       "      <td>1</td>\n",
       "    </tr>\n",
       "    <tr>\n",
       "      <th>Katanagatari</th>\n",
       "      <td>0</td>\n",
       "      <td>12.0</td>\n",
       "      <td>50.0</td>\n",
       "      <td>False</td>\n",
       "      <td>2010.0</td>\n",
       "      <td>2010.0</td>\n",
       "      <td>In the wake of a rebellion that shook Japan tw...</td>\n",
       "      <td>['WHITE FOX']</td>\n",
       "      <td>['Action', 'Adventure', 'Drama', 'Fantasy', 'R...</td>\n",
       "      <td>[]</td>\n",
       "      <td>14691.0</td>\n",
       "      <td>2657</td>\n",
       "      <td>12044</td>\n",
       "      <td>1159</td>\n",
       "      <td>4.402</td>\n",
       "      <td>12974.0</td>\n",
       "      <td>0</td>\n",
       "      <td>0</td>\n",
       "      <td>0</td>\n",
       "      <td>1</td>\n",
       "    </tr>\n",
       "    <tr>\n",
       "      <th>Castlevania Season 3</th>\n",
       "      <td>1</td>\n",
       "      <td>10.0</td>\n",
       "      <td>28.0</td>\n",
       "      <td>False</td>\n",
       "      <td>2020.0</td>\n",
       "      <td>2020.0</td>\n",
       "      <td>After the fall of Dracula, heroes and villains...</td>\n",
       "      <td>['Powerhouse Animation', 'Frederator Studios']</td>\n",
       "      <td>['Action', 'Adventure', 'Drama', 'Horror', '15...</td>\n",
       "      <td>['Explicit Sex', 'Explicit Violence', 'Mature ...</td>\n",
       "      <td>2975.0</td>\n",
       "      <td>312</td>\n",
       "      <td>2828</td>\n",
       "      <td>20</td>\n",
       "      <td>4.402</td>\n",
       "      <td>2128.0</td>\n",
       "      <td>0</td>\n",
       "      <td>0</td>\n",
       "      <td>0</td>\n",
       "      <td>1</td>\n",
       "    </tr>\n",
       "  </tbody>\n",
       "</table>\n",
       "</div>"
      ],
      "text/plain": [
       "                                              mediaType    eps  duration  \\\n",
       "title                                                                      \n",
       "The Disastrous Life of Saiki K.                       0  120.0       4.0   \n",
       "Castlevania Season 2                                  1    8.0      25.0   \n",
       "The Disastrous Life of Saiki K. - Reawakened          1    6.0      23.0   \n",
       "Katanagatari                                          0   12.0      50.0   \n",
       "Castlevania Season 3                                  1   10.0      28.0   \n",
       "\n",
       "                                              ongoing  startYr  finishYr  \\\n",
       "title                                                                      \n",
       "The Disastrous Life of Saiki K.                 False   2016.0    2016.0   \n",
       "Castlevania Season 2                            False   2018.0    2018.0   \n",
       "The Disastrous Life of Saiki K. - Reawakened    False   2019.0    2019.0   \n",
       "Katanagatari                                    False   2010.0    2010.0   \n",
       "Castlevania Season 3                            False   2020.0    2020.0   \n",
       "\n",
       "                                                                                    description  \\\n",
       "title                                                                                             \n",
       "The Disastrous Life of Saiki K.               Kusuo Saiki is a typical 16-year-old high scho...   \n",
       "Castlevania Season 2                          Trying to save Eastern Europe from extinction ...   \n",
       "The Disastrous Life of Saiki K. - Reawakened  Kusuo and his gaggle of self-proclaimed friend...   \n",
       "Katanagatari                                  In the wake of a rebellion that shook Japan tw...   \n",
       "Castlevania Season 3                          After the fall of Dracula, heroes and villains...   \n",
       "\n",
       "                                                                                     studios  \\\n",
       "title                                                                                          \n",
       "The Disastrous Life of Saiki K.                                               ['J.C. Staff']   \n",
       "Castlevania Season 2                          ['Powerhouse Animation', 'Frederator Studios']   \n",
       "The Disastrous Life of Saiki K. - Reawakened                                  ['J.C. Staff']   \n",
       "Katanagatari                                                                   ['WHITE FOX']   \n",
       "Castlevania Season 3                          ['Powerhouse Animation', 'Frederator Studios']   \n",
       "\n",
       "                                                                                           tags  \\\n",
       "title                                                                                             \n",
       "The Disastrous Life of Saiki K.               ['Comedy', 'Shounen', 'Slice of Life', 'Breaki...   \n",
       "Castlevania Season 2                          ['Action', 'Adventure', 'Drama', 'Horror', '15...   \n",
       "The Disastrous Life of Saiki K. - Reawakened  ['Comedy', 'Shounen', 'Breaking the Fourth Wal...   \n",
       "Katanagatari                                  ['Action', 'Adventure', 'Drama', 'Fantasy', 'R...   \n",
       "Castlevania Season 3                          ['Action', 'Adventure', 'Drama', 'Horror', '15...   \n",
       "\n",
       "                                                                                    contentWarn  \\\n",
       "title                                                                                             \n",
       "The Disastrous Life of Saiki K.                                                              []   \n",
       "Castlevania Season 2                          ['Explicit Violence', 'Mature Themes', 'Physic...   \n",
       "The Disastrous Life of Saiki K. - Reawakened                                                 []   \n",
       "Katanagatari                                                                                 []   \n",
       "Castlevania Season 3                          ['Explicit Sex', 'Explicit Violence', 'Mature ...   \n",
       "\n",
       "                                              watched  watching  wantWatch  \\\n",
       "title                                                                        \n",
       "The Disastrous Life of Saiki K.               15419.0      2694       4889   \n",
       "Castlevania Season 2                           8010.0       384       2207   \n",
       "The Disastrous Life of Saiki K. - Reawakened   3136.0       258       1402   \n",
       "Katanagatari                                  14691.0      2657      12044   \n",
       "Castlevania Season 3                           2975.0       312       2828   \n",
       "\n",
       "                                              dropped  rating    votes  \\\n",
       "title                                                                    \n",
       "The Disastrous Life of Saiki K.                   749   4.453  11754.0   \n",
       "Castlevania Season 2                               58   4.409   5564.0   \n",
       "The Disastrous Life of Saiki K. - Reawakened       26   4.400   1942.0   \n",
       "Katanagatari                                     1159   4.402  12974.0   \n",
       "Castlevania Season 3                               20   4.402   2128.0   \n",
       "\n",
       "                                              sznOfRelease_Fall  \\\n",
       "title                                                             \n",
       "The Disastrous Life of Saiki K.                               0   \n",
       "Castlevania Season 2                                          1   \n",
       "The Disastrous Life of Saiki K. - Reawakened                  0   \n",
       "Katanagatari                                                  0   \n",
       "Castlevania Season 3                                          0   \n",
       "\n",
       "                                              sznOfRelease_Spring  \\\n",
       "title                                                               \n",
       "The Disastrous Life of Saiki K.                                 0   \n",
       "Castlevania Season 2                                            0   \n",
       "The Disastrous Life of Saiki K. - Reawakened                    0   \n",
       "Katanagatari                                                    0   \n",
       "Castlevania Season 3                                            0   \n",
       "\n",
       "                                              sznOfRelease_Summer  \\\n",
       "title                                                               \n",
       "The Disastrous Life of Saiki K.                                 1   \n",
       "Castlevania Season 2                                            0   \n",
       "The Disastrous Life of Saiki K. - Reawakened                    0   \n",
       "Katanagatari                                                    0   \n",
       "Castlevania Season 3                                            0   \n",
       "\n",
       "                                              sznOfRelease_Winter  \n",
       "title                                                              \n",
       "The Disastrous Life of Saiki K.                                 0  \n",
       "Castlevania Season 2                                            0  \n",
       "The Disastrous Life of Saiki K. - Reawakened                    1  \n",
       "Katanagatari                                                    1  \n",
       "Castlevania Season 3                                            1  "
      ]
     },
     "execution_count": 18,
     "metadata": {},
     "output_type": "execute_result"
    }
   ],
   "source": [
    "df.head()"
   ]
  },
  {
   "cell_type": "code",
   "execution_count": 19,
   "metadata": {},
   "outputs": [
    {
     "data": {
      "text/plain": [
       "0    512\n",
       "1    200\n",
       "Name: sznOfRelease_Fall, dtype: int64"
      ]
     },
     "execution_count": 19,
     "metadata": {},
     "output_type": "execute_result"
    }
   ],
   "source": [
    "df[\"sznOfRelease_Fall\"].value_counts()"
   ]
  },
  {
   "cell_type": "code",
   "execution_count": 20,
   "metadata": {},
   "outputs": [
    {
     "data": {
      "text/plain": [
       "0    508\n",
       "1    204\n",
       "Name: sznOfRelease_Spring, dtype: int64"
      ]
     },
     "execution_count": 20,
     "metadata": {},
     "output_type": "execute_result"
    }
   ],
   "source": [
    "df[\"sznOfRelease_Spring\"].value_counts()"
   ]
  },
  {
   "cell_type": "code",
   "execution_count": 21,
   "metadata": {},
   "outputs": [
    {
     "data": {
      "text/plain": [
       "0    553\n",
       "1    159\n",
       "Name: sznOfRelease_Summer, dtype: int64"
      ]
     },
     "execution_count": 21,
     "metadata": {},
     "output_type": "execute_result"
    }
   ],
   "source": [
    "df[\"sznOfRelease_Summer\"].value_counts()"
   ]
  },
  {
   "cell_type": "code",
   "execution_count": 22,
   "metadata": {},
   "outputs": [
    {
     "data": {
      "text/plain": [
       "0    563\n",
       "1    149\n",
       "Name: sznOfRelease_Winter, dtype: int64"
      ]
     },
     "execution_count": 22,
     "metadata": {},
     "output_type": "execute_result"
    }
   ],
   "source": [
    "df[\"sznOfRelease_Winter\"].value_counts()"
   ]
  },
  {
   "cell_type": "code",
   "execution_count": 23,
   "metadata": {},
   "outputs": [
    {
     "data": {
      "text/plain": [
       "<AxesSubplot:xlabel='votes'>"
      ]
     },
     "execution_count": 23,
     "metadata": {},
     "output_type": "execute_result"
    },
    {
     "data": {
      "image/png": "[encoded data removed]",
      "text/plain": [
       "<Figure size 432x288 with 1 Axes>"
      ]
     },
     "metadata": {
      "needs_background": "light"
     },
     "output_type": "display_data"
    }
   ],
   "source": [
    "sns.distplot(df['votes'])"
   ]
  },
  {
   "cell_type": "code",
   "execution_count": 24,
   "metadata": {},
   "outputs": [
    {
     "data": {
      "text/plain": [
       "<AxesSubplot:>"
      ]
     },
     "execution_count": 24,
     "metadata": {},
     "output_type": "execute_result"
    },
    {
     "data": {
      "image/png": "[encoded data removed]",
      "text/plain": [
       "<Figure size 1296x864 with 2 Axes>"
      ]
     },
     "metadata": {
      "needs_background": "light"
     },
     "output_type": "display_data"
    }
   ],
   "source": [
    "plt.figure(figsize=(18, 12))\n",
    "sns.heatmap(df.corr(), annot=True, cmap='magma')"
   ]
  },
  {
   "cell_type": "code",
   "execution_count": 25,
   "metadata": {},
   "outputs": [
    {
     "data": {
      "text/plain": [
       "<AxesSubplot:>"
      ]
     },
     "execution_count": 25,
     "metadata": {},
     "output_type": "execute_result"
    },
    {
     "data": {
      "image/png": "[encoded data removed]",
      "text/plain": [
       "<Figure size 1296x864 with 2 Axes>"
      ]
     },
     "metadata": {
      "needs_background": "light"
     },
     "output_type": "display_data"
    }
   ],
   "source": [
    "plt.figure(figsize=(18, 12))\n",
    "sns.heatmap(df.corr('spearman'), annot=True, cmap='magma')"
   ]
  },
  {
   "cell_type": "code",
   "execution_count": 26,
   "metadata": {},
   "outputs": [
    {
     "data": {
      "text/plain": [
       "array([False])"
      ]
     },
     "execution_count": 26,
     "metadata": {},
     "output_type": "execute_result"
    }
   ],
   "source": [
    "df.ongoing.unique()"
   ]
  },
  {
   "cell_type": "code",
   "execution_count": 27,
   "metadata": {},
   "outputs": [],
   "source": [
    "df1 = df.copy()"
   ]
  },
  {
   "cell_type": "code",
   "execution_count": 28,
   "metadata": {},
   "outputs": [],
   "source": [
    "df1.drop(columns=['eps','mediaType', 'startYr', 'finishYr', 'duration', 'ongoing','sznOfRelease_Fall','sznOfRelease_Spring','sznOfRelease_Summer', 'sznOfRelease_Winter','duration'], inplace=True)"
   ]
  },
  {
   "cell_type": "code",
   "execution_count": 29,
   "metadata": {},
   "outputs": [
    {
     "data": {
      "text/html": [
       "<div>\n",
       "<style scoped>\n",
       "    .dataframe tbody tr th:only-of-type {\n",
       "        vertical-align: middle;\n",
       "    }\n",
       "\n",
       "    .dataframe tbody tr th {\n",
       "        vertical-align: top;\n",
       "    }\n",
       "\n",
       "    .dataframe thead th {\n",
       "        text-align: right;\n",
       "    }\n",
       "</style>\n",
       "<table border=\"1\" class=\"dataframe\">\n",
       "  <thead>\n",
       "    <tr style=\"text-align: right;\">\n",
       "      <th></th>\n",
       "      <th>description</th>\n",
       "      <th>studios</th>\n",
       "      <th>tags</th>\n",
       "      <th>contentWarn</th>\n",
       "      <th>watched</th>\n",
       "      <th>watching</th>\n",
       "      <th>wantWatch</th>\n",
       "      <th>dropped</th>\n",
       "      <th>rating</th>\n",
       "      <th>votes</th>\n",
       "    </tr>\n",
       "    <tr>\n",
       "      <th>title</th>\n",
       "      <th></th>\n",
       "      <th></th>\n",
       "      <th></th>\n",
       "      <th></th>\n",
       "      <th></th>\n",
       "      <th></th>\n",
       "      <th></th>\n",
       "      <th></th>\n",
       "      <th></th>\n",
       "      <th></th>\n",
       "    </tr>\n",
       "  </thead>\n",
       "  <tbody>\n",
       "    <tr>\n",
       "      <th>The Disastrous Life of Saiki K.</th>\n",
       "      <td>Kusuo Saiki is a typical 16-year-old high scho...</td>\n",
       "      <td>['J.C. Staff']</td>\n",
       "      <td>['Comedy', 'Shounen', 'Slice of Life', 'Breaki...</td>\n",
       "      <td>[]</td>\n",
       "      <td>15419.0</td>\n",
       "      <td>2694</td>\n",
       "      <td>4889</td>\n",
       "      <td>749</td>\n",
       "      <td>4.453</td>\n",
       "      <td>11754.0</td>\n",
       "    </tr>\n",
       "    <tr>\n",
       "      <th>Castlevania Season 2</th>\n",
       "      <td>Trying to save Eastern Europe from extinction ...</td>\n",
       "      <td>['Powerhouse Animation', 'Frederator Studios']</td>\n",
       "      <td>['Action', 'Adventure', 'Drama', 'Horror', '15...</td>\n",
       "      <td>['Explicit Violence', 'Mature Themes', 'Physic...</td>\n",
       "      <td>8010.0</td>\n",
       "      <td>384</td>\n",
       "      <td>2207</td>\n",
       "      <td>58</td>\n",
       "      <td>4.409</td>\n",
       "      <td>5564.0</td>\n",
       "    </tr>\n",
       "    <tr>\n",
       "      <th>The Disastrous Life of Saiki K. - Reawakened</th>\n",
       "      <td>Kusuo and his gaggle of self-proclaimed friend...</td>\n",
       "      <td>['J.C. Staff']</td>\n",
       "      <td>['Comedy', 'Shounen', 'Breaking the Fourth Wal...</td>\n",
       "      <td>[]</td>\n",
       "      <td>3136.0</td>\n",
       "      <td>258</td>\n",
       "      <td>1402</td>\n",
       "      <td>26</td>\n",
       "      <td>4.400</td>\n",
       "      <td>1942.0</td>\n",
       "    </tr>\n",
       "    <tr>\n",
       "      <th>Katanagatari</th>\n",
       "      <td>In the wake of a rebellion that shook Japan tw...</td>\n",
       "      <td>['WHITE FOX']</td>\n",
       "      <td>['Action', 'Adventure', 'Drama', 'Fantasy', 'R...</td>\n",
       "      <td>[]</td>\n",
       "      <td>14691.0</td>\n",
       "      <td>2657</td>\n",
       "      <td>12044</td>\n",
       "      <td>1159</td>\n",
       "      <td>4.402</td>\n",
       "      <td>12974.0</td>\n",
       "    </tr>\n",
       "    <tr>\n",
       "      <th>Castlevania Season 3</th>\n",
       "      <td>After the fall of Dracula, heroes and villains...</td>\n",
       "      <td>['Powerhouse Animation', 'Frederator Studios']</td>\n",
       "      <td>['Action', 'Adventure', 'Drama', 'Horror', '15...</td>\n",
       "      <td>['Explicit Sex', 'Explicit Violence', 'Mature ...</td>\n",
       "      <td>2975.0</td>\n",
       "      <td>312</td>\n",
       "      <td>2828</td>\n",
       "      <td>20</td>\n",
       "      <td>4.402</td>\n",
       "      <td>2128.0</td>\n",
       "    </tr>\n",
       "  </tbody>\n",
       "</table>\n",
       "</div>"
      ],
      "text/plain": [
       "                                                                                    description  \\\n",
       "title                                                                                             \n",
       "The Disastrous Life of Saiki K.               Kusuo Saiki is a typical 16-year-old high scho...   \n",
       "Castlevania Season 2                          Trying to save Eastern Europe from extinction ...   \n",
       "The Disastrous Life of Saiki K. - Reawakened  Kusuo and his gaggle of self-proclaimed friend...   \n",
       "Katanagatari                                  In the wake of a rebellion that shook Japan tw...   \n",
       "Castlevania Season 3                          After the fall of Dracula, heroes and villains...   \n",
       "\n",
       "                                                                                     studios  \\\n",
       "title                                                                                          \n",
       "The Disastrous Life of Saiki K.                                               ['J.C. Staff']   \n",
       "Castlevania Season 2                          ['Powerhouse Animation', 'Frederator Studios']   \n",
       "The Disastrous Life of Saiki K. - Reawakened                                  ['J.C. Staff']   \n",
       "Katanagatari                                                                   ['WHITE FOX']   \n",
       "Castlevania Season 3                          ['Powerhouse Animation', 'Frederator Studios']   \n",
       "\n",
       "                                                                                           tags  \\\n",
       "title                                                                                             \n",
       "The Disastrous Life of Saiki K.               ['Comedy', 'Shounen', 'Slice of Life', 'Breaki...   \n",
       "Castlevania Season 2                          ['Action', 'Adventure', 'Drama', 'Horror', '15...   \n",
       "The Disastrous Life of Saiki K. - Reawakened  ['Comedy', 'Shounen', 'Breaking the Fourth Wal...   \n",
       "Katanagatari                                  ['Action', 'Adventure', 'Drama', 'Fantasy', 'R...   \n",
       "Castlevania Season 3                          ['Action', 'Adventure', 'Drama', 'Horror', '15...   \n",
       "\n",
       "                                                                                    contentWarn  \\\n",
       "title                                                                                             \n",
       "The Disastrous Life of Saiki K.                                                              []   \n",
       "Castlevania Season 2                          ['Explicit Violence', 'Mature Themes', 'Physic...   \n",
       "The Disastrous Life of Saiki K. - Reawakened                                                 []   \n",
       "Katanagatari                                                                                 []   \n",
       "Castlevania Season 3                          ['Explicit Sex', 'Explicit Violence', 'Mature ...   \n",
       "\n",
       "                                              watched  watching  wantWatch  \\\n",
       "title                                                                        \n",
       "The Disastrous Life of Saiki K.               15419.0      2694       4889   \n",
       "Castlevania Season 2                           8010.0       384       2207   \n",
       "The Disastrous Life of Saiki K. - Reawakened   3136.0       258       1402   \n",
       "Katanagatari                                  14691.0      2657      12044   \n",
       "Castlevania Season 3                           2975.0       312       2828   \n",
       "\n",
       "                                              dropped  rating    votes  \n",
       "title                                                                   \n",
       "The Disastrous Life of Saiki K.                   749   4.453  11754.0  \n",
       "Castlevania Season 2                               58   4.409   5564.0  \n",
       "The Disastrous Life of Saiki K. - Reawakened       26   4.400   1942.0  \n",
       "Katanagatari                                     1159   4.402  12974.0  \n",
       "Castlevania Season 3                               20   4.402   2128.0  "
      ]
     },
     "execution_count": 29,
     "metadata": {},
     "output_type": "execute_result"
    }
   ],
   "source": [
    "df1.head()"
   ]
  },
  {
   "cell_type": "code",
   "execution_count": 30,
   "metadata": {},
   "outputs": [],
   "source": [
    "df1.drop(columns=['description','studios', 'tags', 'contentWarn'], inplace=True)"
   ]
  },
  {
   "cell_type": "code",
   "execution_count": 31,
   "metadata": {},
   "outputs": [
    {
     "data": {
      "text/html": [
       "<div>\n",
       "<style scoped>\n",
       "    .dataframe tbody tr th:only-of-type {\n",
       "        vertical-align: middle;\n",
       "    }\n",
       "\n",
       "    .dataframe tbody tr th {\n",
       "        vertical-align: top;\n",
       "    }\n",
       "\n",
       "    .dataframe thead th {\n",
       "        text-align: right;\n",
       "    }\n",
       "</style>\n",
       "<table border=\"1\" class=\"dataframe\">\n",
       "  <thead>\n",
       "    <tr style=\"text-align: right;\">\n",
       "      <th></th>\n",
       "      <th>watched</th>\n",
       "      <th>watching</th>\n",
       "      <th>wantWatch</th>\n",
       "      <th>dropped</th>\n",
       "      <th>rating</th>\n",
       "      <th>votes</th>\n",
       "    </tr>\n",
       "    <tr>\n",
       "      <th>title</th>\n",
       "      <th></th>\n",
       "      <th></th>\n",
       "      <th></th>\n",
       "      <th></th>\n",
       "      <th></th>\n",
       "      <th></th>\n",
       "    </tr>\n",
       "  </thead>\n",
       "  <tbody>\n",
       "    <tr>\n",
       "      <th>The Disastrous Life of Saiki K.</th>\n",
       "      <td>15419.0</td>\n",
       "      <td>2694</td>\n",
       "      <td>4889</td>\n",
       "      <td>749</td>\n",
       "      <td>4.453</td>\n",
       "      <td>11754.0</td>\n",
       "    </tr>\n",
       "    <tr>\n",
       "      <th>Castlevania Season 2</th>\n",
       "      <td>8010.0</td>\n",
       "      <td>384</td>\n",
       "      <td>2207</td>\n",
       "      <td>58</td>\n",
       "      <td>4.409</td>\n",
       "      <td>5564.0</td>\n",
       "    </tr>\n",
       "    <tr>\n",
       "      <th>The Disastrous Life of Saiki K. - Reawakened</th>\n",
       "      <td>3136.0</td>\n",
       "      <td>258</td>\n",
       "      <td>1402</td>\n",
       "      <td>26</td>\n",
       "      <td>4.400</td>\n",
       "      <td>1942.0</td>\n",
       "    </tr>\n",
       "    <tr>\n",
       "      <th>Katanagatari</th>\n",
       "      <td>14691.0</td>\n",
       "      <td>2657</td>\n",
       "      <td>12044</td>\n",
       "      <td>1159</td>\n",
       "      <td>4.402</td>\n",
       "      <td>12974.0</td>\n",
       "    </tr>\n",
       "    <tr>\n",
       "      <th>Castlevania Season 3</th>\n",
       "      <td>2975.0</td>\n",
       "      <td>312</td>\n",
       "      <td>2828</td>\n",
       "      <td>20</td>\n",
       "      <td>4.402</td>\n",
       "      <td>2128.0</td>\n",
       "    </tr>\n",
       "  </tbody>\n",
       "</table>\n",
       "</div>"
      ],
      "text/plain": [
       "                                              watched  watching  wantWatch  \\\n",
       "title                                                                        \n",
       "The Disastrous Life of Saiki K.               15419.0      2694       4889   \n",
       "Castlevania Season 2                           8010.0       384       2207   \n",
       "The Disastrous Life of Saiki K. - Reawakened   3136.0       258       1402   \n",
       "Katanagatari                                  14691.0      2657      12044   \n",
       "Castlevania Season 3                           2975.0       312       2828   \n",
       "\n",
       "                                              dropped  rating    votes  \n",
       "title                                                                   \n",
       "The Disastrous Life of Saiki K.                   749   4.453  11754.0  \n",
       "Castlevania Season 2                               58   4.409   5564.0  \n",
       "The Disastrous Life of Saiki K. - Reawakened       26   4.400   1942.0  \n",
       "Katanagatari                                     1159   4.402  12974.0  \n",
       "Castlevania Season 3                               20   4.402   2128.0  "
      ]
     },
     "execution_count": 31,
     "metadata": {},
     "output_type": "execute_result"
    }
   ],
   "source": [
    "df1.head()"
   ]
  },
  {
   "cell_type": "markdown",
   "metadata": {},
   "source": [
    "## Modelling Predictions 1"
   ]
  },
  {
   "cell_type": "code",
   "execution_count": 32,
   "metadata": {},
   "outputs": [],
   "source": [
    "from sklearn.model_selection import train_test_split"
   ]
  },
  {
   "cell_type": "code",
   "execution_count": 33,
   "metadata": {},
   "outputs": [],
   "source": [
    "X = df1.drop(columns=['votes'])\n",
    "y = df1['votes']"
   ]
  },
  {
   "cell_type": "code",
   "execution_count": 34,
   "metadata": {},
   "outputs": [],
   "source": [
    "X_train, X_test, y_train, y_test = train_test_split(X, y, train_size = .75, random_state = 42)"
   ]
  },
  {
   "cell_type": "code",
   "execution_count": 35,
   "metadata": {},
   "outputs": [],
   "source": [
    "from sklearn.linear_model import LogisticRegression"
   ]
  },
  {
   "cell_type": "code",
   "execution_count": 36,
   "metadata": {},
   "outputs": [],
   "source": [
    "model = LogisticRegression()"
   ]
  },
  {
   "cell_type": "code",
   "execution_count": 37,
   "metadata": {},
   "outputs": [
    {
     "data": {
      "text/plain": [
       "LogisticRegression()"
      ]
     },
     "execution_count": 37,
     "metadata": {},
     "output_type": "execute_result"
    }
   ],
   "source": [
    "model.fit(X_train, y_train)"
   ]
  },
  {
   "cell_type": "code",
   "execution_count": 38,
   "metadata": {},
   "outputs": [
    {
     "data": {
      "text/plain": [
       "0.17228464419475656"
      ]
     },
     "execution_count": 38,
     "metadata": {},
     "output_type": "execute_result"
    }
   ],
   "source": [
    "model.score(X_train, y_train) ## Akurasi Training"
   ]
  },
  {
   "cell_type": "code",
   "execution_count": 39,
   "metadata": {},
   "outputs": [
    {
     "data": {
      "text/plain": [
       "0.0056179775280898875"
      ]
     },
     "execution_count": 39,
     "metadata": {},
     "output_type": "execute_result"
    }
   ],
   "source": [
    "model.score(X_test, y_test) ### Akurasi Test"
   ]
  },
  {
   "cell_type": "code",
   "execution_count": 40,
   "metadata": {},
   "outputs": [
    {
     "data": {
      "text/plain": [
       "2324.0"
      ]
     },
     "execution_count": 40,
     "metadata": {},
     "output_type": "execute_result"
    }
   ],
   "source": [
    "model.predict([[1000, 2999, 3000, 4000, 4.5]])[0]"
   ]
  },
  {
   "cell_type": "markdown",
   "metadata": {},
   "source": [
    "## Evaluation Matrics 1"
   ]
  },
  {
   "cell_type": "code",
   "execution_count": 41,
   "metadata": {},
   "outputs": [],
   "source": [
    "from sklearn.metrics import mean_absolute_error, mean_squared_error, r2_score"
   ]
  },
  {
   "cell_type": "code",
   "execution_count": 42,
   "metadata": {},
   "outputs": [],
   "source": [
    "vote_pred = model.predict(X_train) ## Model menjawab Soal Latihan"
   ]
  },
  {
   "cell_type": "code",
   "execution_count": 43,
   "metadata": {},
   "outputs": [
    {
     "data": {
      "text/plain": [
       "1583.2771535580525"
      ]
     },
     "execution_count": 43,
     "metadata": {},
     "output_type": "execute_result"
    }
   ],
   "source": [
    "MAE_train = mean_absolute_error(y_train, vote_pred)\n",
    "MAE_train"
   ]
  },
  {
   "cell_type": "code",
   "execution_count": 44,
   "metadata": {},
   "outputs": [
    {
     "data": {
      "text/plain": [
       "8364729.093632959"
      ]
     },
     "execution_count": 44,
     "metadata": {},
     "output_type": "execute_result"
    }
   ],
   "source": [
    "MSE_train = mean_squared_error(y_train, vote_pred)\n",
    "MSE_train"
   ]
  },
  {
   "cell_type": "code",
   "execution_count": 45,
   "metadata": {},
   "outputs": [
    {
     "data": {
      "text/plain": [
       "2892.1841389567435"
      ]
     },
     "execution_count": 45,
     "metadata": {},
     "output_type": "execute_result"
    }
   ],
   "source": [
    "RMSE_train = np.sqrt(MSE_train)\n",
    "RMSE_train"
   ]
  },
  {
   "cell_type": "code",
   "execution_count": 46,
   "metadata": {},
   "outputs": [
    {
     "data": {
      "text/plain": [
       "-1.8278537149030876"
      ]
     },
     "execution_count": 46,
     "metadata": {},
     "output_type": "execute_result"
    }
   ],
   "source": [
    "R_square_train = r2_score(y_train, vote_pred)\n",
    "R_square_train"
   ]
  },
  {
   "cell_type": "code",
   "execution_count": 47,
   "metadata": {},
   "outputs": [
    {
     "name": "stdout",
     "output_type": "stream",
     "text": [
      "Hasil Evaluasi Metrics untuk Training\n",
      "MAE :  1583.2771535580525\n",
      "MSE :  8364729.093632959\n",
      "RMSE :  2892.1841389567435\n",
      "R2 :  -1.8278537149030876\n"
     ]
    }
   ],
   "source": [
    "print('Hasil Evaluasi Metrics untuk Training')\n",
    "print('MAE : ', MAE_train)\n",
    "print('MSE : ', MSE_train)\n",
    "print('RMSE : ', RMSE_train)\n",
    "print('R2 : ', R_square_train)"
   ]
  },
  {
   "cell_type": "markdown",
   "metadata": {},
   "source": [
    "### Model 1 Tidak Bagus"
   ]
  },
  {
   "cell_type": "markdown",
   "metadata": {},
   "source": [
    "# Tuning agar Model Bisa dipakai"
   ]
  },
  {
   "cell_type": "code",
   "execution_count": 48,
   "metadata": {},
   "outputs": [],
   "source": [
    "from sklearn.linear_model import LinearRegression, Ridge, Lasso, ElasticNet"
   ]
  },
  {
   "cell_type": "code",
   "execution_count": 49,
   "metadata": {},
   "outputs": [
    {
     "data": {
      "text/plain": [
       "0.9950533534228186"
      ]
     },
     "execution_count": 49,
     "metadata": {},
     "output_type": "execute_result"
    }
   ],
   "source": [
    "model_ridge = Ridge(alpha = 3.5)\n",
    "model_ridge.fit(X_train, y_train)\n",
    "model_ridge.score(X_test, y_test) ### R2_score"
   ]
  },
  {
   "cell_type": "code",
   "execution_count": 50,
   "metadata": {},
   "outputs": [],
   "source": [
    "a = [0.01, 0.1, 0.2, 0.5,1,1.5,2,2.5,3,3.5]"
   ]
  },
  {
   "cell_type": "code",
   "execution_count": 51,
   "metadata": {},
   "outputs": [
    {
     "data": {
      "text/plain": [
       "[0.9950518244434088,\n",
       " 0.9950518646792963,\n",
       " 0.9950519093347865,\n",
       " 0.9950520429797485,\n",
       " 0.9950522646552751,\n",
       " 0.9950524850082686,\n",
       " 0.9950527040502215,\n",
       " 0.9950529217924959,\n",
       " 0.9950531382463259,\n",
       " 0.9950533534228186]"
      ]
     },
     "execution_count": 51,
     "metadata": {},
     "output_type": "execute_result"
    }
   ],
   "source": [
    "eva = []\n",
    "for i in a:\n",
    "    model_ridge = Ridge(alpha = i)\n",
    "    model_ridge.fit(X_train, y_train)\n",
    "    score = model_ridge.score(X_test, y_test)\n",
    "    eva.append(score)\n",
    "\n",
    "eva"
   ]
  },
  {
   "cell_type": "code",
   "execution_count": 52,
   "metadata": {},
   "outputs": [
    {
     "data": {
      "text/plain": [
       "[0.9950519843270813,\n",
       " 0.9950534555496588,\n",
       " 0.9950550796190532,\n",
       " 0.9950599839896951,\n",
       " 0.9950677958323806,\n",
       " 0.9950752929863524,\n",
       " 0.9950824937840921,\n",
       " 0.9950893775697623,\n",
       " 0.9950959284804484,\n",
       " 0.9951022068274058]"
      ]
     },
     "execution_count": 52,
     "metadata": {},
     "output_type": "execute_result"
    }
   ],
   "source": [
    "evaL = []\n",
    "for i in a:\n",
    "    model_lasso = Lasso(alpha = i)\n",
    "    model_lasso.fit(X_train, y_train)\n",
    "    score = model_lasso.score(X_test, y_test)\n",
    "    evaL.append(score)\n",
    "\n",
    "evaL"
   ]
  },
  {
   "cell_type": "code",
   "execution_count": 53,
   "metadata": {},
   "outputs": [
    {
     "data": {
      "text/plain": [
       "0.9951022068274058"
      ]
     },
     "execution_count": 53,
     "metadata": {},
     "output_type": "execute_result"
    }
   ],
   "source": [
    "model_lasso = Lasso(alpha = 3.5)\n",
    "model_lasso.fit(X_train, y_train)\n",
    "model_lasso.score(X_test, y_test)"
   ]
  },
  {
   "cell_type": "code",
   "execution_count": 54,
   "metadata": {},
   "outputs": [
    {
     "data": {
      "text/plain": [
       "5173.2675061140335"
      ]
     },
     "execution_count": 54,
     "metadata": {},
     "output_type": "execute_result"
    }
   ],
   "source": [
    "model_ridge.predict([[1000, 2999, 3000, 4000, 4.5]])[0]"
   ]
  },
  {
   "cell_type": "code",
   "execution_count": 55,
   "metadata": {},
   "outputs": [
    {
     "data": {
      "text/plain": [
       "5104.739528521228"
      ]
     },
     "execution_count": 55,
     "metadata": {},
     "output_type": "execute_result"
    }
   ],
   "source": [
    "model_lasso.predict([[1000, 2999, 3000, 4000, 4.5]])[0]"
   ]
  },
  {
   "cell_type": "markdown",
   "metadata": {},
   "source": [
    "## Hasil Akhir Memakai Model Predictions Lasso"
   ]
  },
  {
   "cell_type": "markdown",
   "metadata": {},
   "source": [
    "## Coba2 pakai model yang lain"
   ]
  },
  {
   "cell_type": "code",
   "execution_count": 56,
   "metadata": {},
   "outputs": [],
   "source": [
    "from sklearn.ensemble import RandomForestClassifier"
   ]
  },
  {
   "cell_type": "code",
   "execution_count": 57,
   "metadata": {},
   "outputs": [],
   "source": [
    "model1 = RandomForestClassifier()"
   ]
  },
  {
   "cell_type": "code",
   "execution_count": 58,
   "metadata": {},
   "outputs": [
    {
     "data": {
      "text/plain": [
       "RandomForestClassifier()"
      ]
     },
     "execution_count": 58,
     "metadata": {},
     "output_type": "execute_result"
    }
   ],
   "source": [
    "model1.fit(X_train, y_train)"
   ]
  },
  {
   "cell_type": "code",
   "execution_count": 59,
   "metadata": {},
   "outputs": [
    {
     "data": {
      "text/plain": [
       "2324.0"
      ]
     },
     "execution_count": 59,
     "metadata": {},
     "output_type": "execute_result"
    }
   ],
   "source": [
    "model.predict([[1000, 2999, 3000, 4000, 4.5]])[0]"
   ]
  },
  {
   "cell_type": "code",
   "execution_count": 60,
   "metadata": {},
   "outputs": [],
   "source": [
    "from sklearn.metrics import classification_report"
   ]
  },
  {
   "cell_type": "code",
   "execution_count": 61,
   "metadata": {},
   "outputs": [],
   "source": [
    "y_pred = model.predict(X_test)"
   ]
  },
  {
   "cell_type": "code",
   "execution_count": 62,
   "metadata": {},
   "outputs": [
    {
     "name": "stdout",
     "output_type": "stream",
     "text": [
      "              precision    recall  f1-score   support\n",
      "\n",
      "        12.0       0.00      0.00      0.00         4\n",
      "        14.0       0.00      0.00      0.00         1\n",
      "        15.0       0.00      0.00      0.00         1\n",
      "        16.0       0.00      0.00      0.00         2\n",
      "        17.0       0.00      0.00      0.00         1\n",
      "        18.0       0.00      0.00      0.00         2\n",
      "        19.0       0.00      0.00      0.00         1\n",
      "        20.0       0.50      0.50      0.50         2\n",
      "        21.0       0.00      0.00      0.00         1\n",
      "        22.0       0.00      0.00      0.00         1\n",
      "        23.0       0.00      0.00      0.00         1\n",
      "        24.0       0.00      0.00      0.00         2\n",
      "        26.0       0.00      0.00      0.00         1\n",
      "        27.0       0.00      0.00      0.00         1\n",
      "        28.0       0.00      0.00      0.00         1\n",
      "        29.0       0.00      0.00      0.00         2\n",
      "        30.0       0.00      0.00      0.00         1\n",
      "        34.0       0.00      0.00      0.00         1\n",
      "        36.0       0.00      0.00      0.00         1\n",
      "        38.0       0.00      0.00      0.00         1\n",
      "        39.0       0.00      0.00      0.00         1\n",
      "        51.0       0.00      0.00      0.00         1\n",
      "        56.0       0.00      0.00      0.00         5\n",
      "        58.0       0.00      0.00      0.00         1\n",
      "        61.0       0.00      0.00      0.00         1\n",
      "        66.0       0.00      0.00      0.00         1\n",
      "        84.0       0.00      0.00      0.00         1\n",
      "        90.0       0.00      0.00      0.00         1\n",
      "        94.0       0.00      0.00      0.00         1\n",
      "        97.0       0.00      0.00      0.00         1\n",
      "       100.0       0.00      0.00      0.00         1\n",
      "       105.0       0.00      0.00      0.00         1\n",
      "       107.0       0.00      0.00      0.00         1\n",
      "       109.0       0.00      0.00      0.00         1\n",
      "       111.0       0.00      0.00      0.00         1\n",
      "       117.0       0.00      0.00      0.00         1\n",
      "       119.0       0.00      0.00      0.00         1\n",
      "       131.0       0.00      0.00      0.00         1\n",
      "       144.0       0.00      0.00      0.00         1\n",
      "       147.0       0.00      0.00      0.00         1\n",
      "       150.0       0.00      0.00      0.00         1\n",
      "       156.0       0.00      0.00      0.00         1\n",
      "       157.0       0.00      0.00      0.00         1\n",
      "       172.0       0.00      0.00      0.00         2\n",
      "       176.0       0.00      0.00      0.00         1\n",
      "       183.0       0.00      0.00      0.00         1\n",
      "       184.0       0.00      0.00      0.00         1\n",
      "       204.0       0.00      0.00      0.00         1\n",
      "       210.0       0.00      0.00      0.00         1\n",
      "       212.0       0.00      0.00      0.00         1\n",
      "       219.0       0.00      0.00      0.00         0\n",
      "       221.0       0.00      0.00      0.00         1\n",
      "       227.0       0.00      0.00      0.00         1\n",
      "       249.0       0.00      0.00      0.00         1\n",
      "       251.0       0.00      0.00      0.00         1\n",
      "       260.0       0.00      0.00      0.00         1\n",
      "       272.0       0.00      0.00      0.00         0\n",
      "       286.0       0.00      0.00      0.00         1\n",
      "       287.0       0.00      0.00      0.00         1\n",
      "       300.0       0.00      0.00      0.00         1\n",
      "       301.0       0.00      0.00      0.00         1\n",
      "       310.0       0.00      0.00      0.00         1\n",
      "       318.0       0.00      0.00      0.00         1\n",
      "       319.0       0.00      0.00      0.00         1\n",
      "       321.0       0.00      0.00      0.00         1\n",
      "       333.0       0.00      0.00      0.00         1\n",
      "       338.0       0.00      0.00      0.00         1\n",
      "       346.0       0.00      0.00      0.00         1\n",
      "       352.0       0.00      0.00      0.00         1\n",
      "       367.0       0.00      0.00      0.00         0\n",
      "       373.0       0.00      0.00      0.00         1\n",
      "       374.0       0.00      0.00      0.00         0\n",
      "       377.0       0.00      0.00      0.00         1\n",
      "       379.0       0.00      0.00      0.00         0\n",
      "       384.0       0.00      0.00      0.00         2\n",
      "       397.0       0.00      0.00      0.00         1\n",
      "       421.0       0.00      0.00      0.00         1\n",
      "       424.0       0.00      0.00      0.00         1\n",
      "       430.0       0.00      0.00      0.00         1\n",
      "       434.0       0.00      0.00      0.00         1\n",
      "       436.0       0.00      0.00      0.00         1\n",
      "       462.0       0.00      0.00      0.00         1\n",
      "       515.0       0.00      0.00      0.00         1\n",
      "       541.0       0.00      0.00      0.00         0\n",
      "       548.0       0.00      0.00      0.00         0\n",
      "       553.0       0.00      0.00      0.00         1\n",
      "       555.0       0.00      0.00      0.00         0\n",
      "       558.0       0.00      0.00      0.00         1\n",
      "       566.0       0.00      0.00      0.00         1\n",
      "       577.0       0.00      0.00      0.00         1\n",
      "       587.0       0.00      0.00      0.00         1\n",
      "       598.0       0.00      0.00      0.00         1\n",
      "       604.0       0.00      0.00      0.00         1\n",
      "       623.0       0.00      0.00      0.00         1\n",
      "       630.0       0.00      0.00      0.00         1\n",
      "       642.0       0.00      0.00      0.00         1\n",
      "       651.0       0.00      0.00      0.00         1\n",
      "       695.0       0.00      0.00      0.00         1\n",
      "       708.0       0.00      0.00      0.00         1\n",
      "       723.0       0.00      0.00      0.00         1\n",
      "       738.0       0.00      0.00      0.00         0\n",
      "       741.0       0.00      0.00      0.00         0\n",
      "       749.0       0.00      0.00      0.00         1\n",
      "       758.0       0.00      0.00      0.00         1\n",
      "       764.0       0.00      0.00      0.00         0\n",
      "       769.0       0.00      0.00      0.00         1\n",
      "       777.0       0.00      0.00      0.00         1\n",
      "       779.0       0.00      0.00      0.00         1\n",
      "       781.0       0.00      0.00      0.00         1\n",
      "       804.0       0.00      0.00      0.00         1\n",
      "       818.0       0.00      0.00      0.00         0\n",
      "       857.0       0.00      0.00      0.00         1\n",
      "       864.0       0.00      0.00      0.00         1\n",
      "       881.0       0.00      0.00      0.00         1\n",
      "       915.0       0.00      0.00      0.00         1\n",
      "       917.0       0.00      0.00      0.00         1\n",
      "       942.0       0.00      0.00      0.00         1\n",
      "       959.0       0.00      0.00      0.00         1\n",
      "       965.0       0.00      0.00      0.00         1\n",
      "       973.0       0.00      0.00      0.00         1\n",
      "       982.0       0.00      0.00      0.00         1\n",
      "       989.0       0.00      0.00      0.00         1\n",
      "       992.0       0.00      0.00      0.00         1\n",
      "       993.0       0.00      0.00      0.00         0\n",
      "      1014.0       0.00      0.00      0.00         0\n",
      "      1041.0       0.00      0.00      0.00         1\n",
      "      1048.0       0.00      0.00      0.00         1\n",
      "      1055.0       0.00      0.00      0.00         1\n",
      "      1059.0       0.00      0.00      0.00         1\n",
      "      1069.0       0.00      0.00      0.00         1\n",
      "      1165.0       0.00      0.00      0.00         0\n",
      "      1191.0       0.00      0.00      0.00         0\n",
      "      1214.0       0.00      0.00      0.00         1\n",
      "      1220.0       0.00      0.00      0.00         1\n",
      "      1221.0       0.00      0.00      0.00         1\n",
      "      1245.0       0.00      0.00      0.00         1\n",
      "      1247.0       0.00      0.00      0.00         1\n",
      "      1252.0       0.00      0.00      0.00         0\n",
      "      1319.0       0.00      0.00      0.00         1\n",
      "      1337.0       0.00      0.00      0.00         1\n",
      "      1363.0       0.00      0.00      0.00         1\n",
      "      1380.0       0.00      0.00      0.00         1\n",
      "      1383.0       0.00      0.00      0.00         1\n",
      "      1420.0       0.00      0.00      0.00         1\n",
      "      1442.0       0.00      0.00      0.00         0\n",
      "      1450.0       0.00      0.00      0.00         1\n",
      "      1474.0       0.00      0.00      0.00         0\n",
      "      1475.0       0.00      0.00      0.00         1\n",
      "      1476.0       0.00      0.00      0.00         0\n",
      "      1483.0       0.00      0.00      0.00         1\n",
      "      1491.0       0.00      0.00      0.00         1\n",
      "      1515.0       0.00      0.00      0.00         0\n",
      "      1516.0       0.00      0.00      0.00         0\n",
      "      1533.0       0.00      0.00      0.00         1\n",
      "      1571.0       0.00      0.00      0.00         1\n",
      "      1585.0       0.00      0.00      0.00         0\n",
      "      1596.0       0.00      0.00      0.00         0\n",
      "      1621.0       0.00      0.00      0.00         0\n",
      "      1703.0       0.00      0.00      0.00         1\n",
      "      1746.0       0.00      0.00      0.00         1\n",
      "      1754.0       0.00      0.00      0.00         0\n",
      "      1867.0       0.00      0.00      0.00         1\n",
      "      1874.0       0.00      0.00      0.00         1\n",
      "      1942.0       0.00      0.00      0.00         1\n",
      "      1960.0       0.00      0.00      0.00         0\n",
      "      1963.0       0.00      0.00      0.00         1\n",
      "      2000.0       0.00      0.00      0.00         1\n",
      "      2078.0       0.00      0.00      0.00         0\n",
      "      2092.0       0.00      0.00      0.00         0\n",
      "      2136.0       0.00      0.00      0.00         0\n",
      "      2163.0       0.00      0.00      0.00         1\n",
      "      2306.0       0.00      0.00      0.00         1\n",
      "      2324.0       0.00      0.00      0.00         0\n",
      "      2354.0       0.00      0.00      0.00         1\n",
      "      2362.0       0.00      0.00      0.00         1\n",
      "      2425.0       0.00      0.00      0.00         0\n",
      "      2446.0       0.00      0.00      0.00         0\n",
      "      2447.0       0.00      0.00      0.00         0\n",
      "      2484.0       0.00      0.00      0.00         0\n",
      "      2530.0       0.00      0.00      0.00         1\n",
      "      2687.0       0.00      0.00      0.00         1\n",
      "      2715.0       0.00      0.00      0.00         1\n",
      "      2722.0       0.00      0.00      0.00         0\n",
      "      2743.0       0.00      0.00      0.00         0\n",
      "      2747.0       0.00      0.00      0.00         1\n",
      "      2764.0       0.00      0.00      0.00         0\n",
      "      2766.0       0.00      0.00      0.00         0\n",
      "      2879.0       0.00      0.00      0.00         1\n",
      "      2899.0       0.00      0.00      0.00         1\n",
      "      2940.0       0.00      0.00      0.00         1\n",
      "      2966.0       0.00      0.00      0.00         0\n",
      "      2980.0       0.00      0.00      0.00         0\n",
      "      2988.0       0.00      0.00      0.00         1\n",
      "      3042.0       0.00      0.00      0.00         1\n",
      "      3422.0       0.00      0.00      0.00         0\n",
      "      3488.0       0.00      0.00      0.00         0\n",
      "      3571.0       0.00      0.00      0.00         1\n",
      "      3599.0       0.00      0.00      0.00         0\n",
      "      3935.0       0.00      0.00      0.00         0\n",
      "      3982.0       0.00      0.00      0.00         0\n",
      "      4060.0       0.00      0.00      0.00         0\n",
      "      4135.0       0.00      0.00      0.00         0\n",
      "      4251.0       0.00      0.00      0.00         0\n",
      "      4423.0       0.00      0.00      0.00         1\n",
      "      4850.0       0.00      0.00      0.00         0\n",
      "      4876.0       0.00      0.00      0.00         1\n",
      "      4947.0       0.00      0.00      0.00         1\n",
      "      5173.0       0.00      0.00      0.00         0\n",
      "      5611.0       0.00      0.00      0.00         0\n",
      "      5814.0       0.00      0.00      0.00         0\n",
      "      5985.0       0.00      0.00      0.00         0\n",
      "      6008.0       0.00      0.00      0.00         0\n",
      "      6176.0       0.00      0.00      0.00         0\n",
      "      6576.0       0.00      0.00      0.00         0\n",
      "      6729.0       0.00      0.00      0.00         0\n",
      "      7043.0       0.00      0.00      0.00         1\n",
      "      8275.0       0.00      0.00      0.00         1\n",
      "      8780.0       0.00      0.00      0.00         0\n",
      "      9766.0       0.00      0.00      0.00         0\n",
      "      9811.0       0.00      0.00      0.00         1\n",
      "      9823.0       0.00      0.00      0.00         0\n",
      "     11426.0       0.00      0.00      0.00         1\n",
      "     12214.0       0.00      0.00      0.00         1\n",
      "     12859.0       0.00      0.00      0.00         0\n",
      "     12974.0       0.00      0.00      0.00         0\n",
      "     13603.0       0.00      0.00      0.00         1\n",
      "     16938.0       0.00      0.00      0.00         1\n",
      "\n",
      "    accuracy                           0.01       178\n",
      "   macro avg       0.00      0.00      0.00       178\n",
      "weighted avg       0.01      0.01      0.01       178\n",
      "\n"
     ]
    }
   ],
   "source": [
    "print(classification_report(y_test, y_pred))"
   ]
  },
  {
   "cell_type": "code",
   "execution_count": 63,
   "metadata": {},
   "outputs": [],
   "source": [
    "from sklearn.neighbors import KNeighborsClassifier, KNeighborsRegressor"
   ]
  },
  {
   "cell_type": "code",
   "execution_count": 64,
   "metadata": {},
   "outputs": [],
   "source": [
    "model_KNN = KNeighborsClassifier(n_neighbors= 21)"
   ]
  },
  {
   "cell_type": "code",
   "execution_count": 65,
   "metadata": {},
   "outputs": [
    {
     "data": {
      "text/plain": [
       "KNeighborsClassifier(n_neighbors=21)"
      ]
     },
     "execution_count": 65,
     "metadata": {},
     "output_type": "execute_result"
    }
   ],
   "source": [
    "model_KNN.fit(X_train, y_train)"
   ]
  },
  {
   "cell_type": "code",
   "execution_count": 66,
   "metadata": {},
   "outputs": [
    {
     "data": {
      "text/plain": [
       "0.016853932584269662"
      ]
     },
     "execution_count": 66,
     "metadata": {},
     "output_type": "execute_result"
    }
   ],
   "source": [
    "model_KNN.score(X_test, y_test)"
   ]
  },
  {
   "cell_type": "code",
   "execution_count": 67,
   "metadata": {},
   "outputs": [],
   "source": [
    "pred_KNN = model_KNN.predict(X_test)"
   ]
  },
  {
   "cell_type": "code",
   "execution_count": 68,
   "metadata": {},
   "outputs": [
    {
     "name": "stdout",
     "output_type": "stream",
     "text": [
      "              precision    recall  f1-score   support\n",
      "\n",
      "        12.0       0.38      0.75      0.50         4\n",
      "        13.0       0.00      0.00      0.00         0\n",
      "        14.0       0.00      0.00      0.00         1\n",
      "        15.0       0.00      0.00      0.00         1\n",
      "        16.0       0.00      0.00      0.00         2\n",
      "        17.0       0.00      0.00      0.00         1\n",
      "        18.0       0.00      0.00      0.00         2\n",
      "        19.0       0.00      0.00      0.00         1\n",
      "        20.0       0.00      0.00      0.00         2\n",
      "        21.0       0.00      0.00      0.00         1\n",
      "        22.0       0.00      0.00      0.00         1\n",
      "        23.0       0.00      0.00      0.00         1\n",
      "        24.0       0.00      0.00      0.00         2\n",
      "        26.0       0.00      0.00      0.00         1\n",
      "        27.0       0.00      0.00      0.00         1\n",
      "        28.0       0.00      0.00      0.00         1\n",
      "        29.0       0.00      0.00      0.00         2\n",
      "        30.0       0.00      0.00      0.00         1\n",
      "        32.0       0.00      0.00      0.00         0\n",
      "        34.0       0.00      0.00      0.00         1\n",
      "        36.0       0.00      0.00      0.00         1\n",
      "        37.0       0.00      0.00      0.00         0\n",
      "        38.0       0.00      0.00      0.00         1\n",
      "        39.0       0.00      0.00      0.00         1\n",
      "        48.0       0.00      0.00      0.00         0\n",
      "        51.0       0.00      0.00      0.00         1\n",
      "        56.0       0.00      0.00      0.00         5\n",
      "        58.0       0.00      0.00      0.00         1\n",
      "        60.0       0.00      0.00      0.00         0\n",
      "        61.0       0.00      0.00      0.00         1\n",
      "        65.0       0.00      0.00      0.00         0\n",
      "        66.0       0.00      0.00      0.00         1\n",
      "        69.0       0.00      0.00      0.00         0\n",
      "        79.0       0.00      0.00      0.00         0\n",
      "        83.0       0.00      0.00      0.00         0\n",
      "        84.0       0.00      0.00      0.00         1\n",
      "        86.0       0.00      0.00      0.00         0\n",
      "        90.0       0.00      0.00      0.00         1\n",
      "        94.0       0.00      0.00      0.00         1\n",
      "        97.0       0.00      0.00      0.00         1\n",
      "        98.0       0.00      0.00      0.00         0\n",
      "       100.0       0.00      0.00      0.00         1\n",
      "       101.0       0.00      0.00      0.00         0\n",
      "       105.0       0.00      0.00      0.00         1\n",
      "       107.0       0.00      0.00      0.00         1\n",
      "       109.0       0.00      0.00      0.00         1\n",
      "       111.0       0.00      0.00      0.00         1\n",
      "       116.0       0.00      0.00      0.00         0\n",
      "       117.0       0.00      0.00      0.00         1\n",
      "       119.0       0.00      0.00      0.00         1\n",
      "       121.0       0.00      0.00      0.00         0\n",
      "       128.0       0.00      0.00      0.00         0\n",
      "       131.0       0.00      0.00      0.00         1\n",
      "       144.0       0.00      0.00      0.00         1\n",
      "       147.0       0.00      0.00      0.00         1\n",
      "       150.0       0.00      0.00      0.00         1\n",
      "       156.0       0.00      0.00      0.00         1\n",
      "       157.0       0.00      0.00      0.00         1\n",
      "       159.0       0.00      0.00      0.00         0\n",
      "       172.0       0.00      0.00      0.00         2\n",
      "       176.0       0.00      0.00      0.00         1\n",
      "       181.0       0.00      0.00      0.00         0\n",
      "       183.0       0.00      0.00      0.00         1\n",
      "       184.0       0.00      0.00      0.00         1\n",
      "       187.0       0.00      0.00      0.00         0\n",
      "       204.0       0.00      0.00      0.00         1\n",
      "       210.0       0.00      0.00      0.00         1\n",
      "       211.0       0.00      0.00      0.00         0\n",
      "       212.0       0.00      0.00      0.00         1\n",
      "       220.0       0.00      0.00      0.00         0\n",
      "       221.0       0.00      0.00      0.00         1\n",
      "       224.0       0.00      0.00      0.00         0\n",
      "       227.0       0.00      0.00      0.00         1\n",
      "       249.0       0.00      0.00      0.00         1\n",
      "       251.0       0.00      0.00      0.00         1\n",
      "       258.0       0.00      0.00      0.00         0\n",
      "       260.0       0.00      0.00      0.00         1\n",
      "       270.0       0.00      0.00      0.00         0\n",
      "       276.0       0.00      0.00      0.00         0\n",
      "       286.0       0.00      0.00      0.00         1\n",
      "       287.0       0.00      0.00      0.00         1\n",
      "       300.0       0.00      0.00      0.00         1\n",
      "       301.0       0.00      0.00      0.00         1\n",
      "       302.0       0.00      0.00      0.00         0\n",
      "       305.0       0.00      0.00      0.00         0\n",
      "       310.0       0.00      0.00      0.00         1\n",
      "       318.0       0.00      0.00      0.00         1\n",
      "       319.0       0.00      0.00      0.00         1\n",
      "       321.0       0.00      0.00      0.00         1\n",
      "       333.0       0.00      0.00      0.00         1\n",
      "       335.0       0.00      0.00      0.00         0\n",
      "       338.0       0.00      0.00      0.00         1\n",
      "       346.0       0.00      0.00      0.00         1\n",
      "       352.0       0.00      0.00      0.00         1\n",
      "       367.0       0.00      0.00      0.00         0\n",
      "       373.0       0.00      0.00      0.00         1\n",
      "       374.0       0.00      0.00      0.00         0\n",
      "       376.0       0.00      0.00      0.00         0\n",
      "       377.0       0.00      0.00      0.00         1\n",
      "       379.0       0.00      0.00      0.00         0\n",
      "       384.0       0.00      0.00      0.00         2\n",
      "       397.0       0.00      0.00      0.00         1\n",
      "       421.0       0.00      0.00      0.00         1\n",
      "       424.0       0.00      0.00      0.00         1\n",
      "       430.0       0.00      0.00      0.00         1\n",
      "       434.0       0.00      0.00      0.00         1\n",
      "       436.0       0.00      0.00      0.00         1\n",
      "       446.0       0.00      0.00      0.00         0\n",
      "       462.0       0.00      0.00      0.00         1\n",
      "       475.0       0.00      0.00      0.00         0\n",
      "       515.0       0.00      0.00      0.00         1\n",
      "       538.0       0.00      0.00      0.00         0\n",
      "       541.0       0.00      0.00      0.00         0\n",
      "       546.0       0.00      0.00      0.00         0\n",
      "       553.0       0.00      0.00      0.00         1\n",
      "       555.0       0.00      0.00      0.00         0\n",
      "       558.0       0.00      0.00      0.00         1\n",
      "       559.0       0.00      0.00      0.00         0\n",
      "       566.0       0.00      0.00      0.00         1\n",
      "       577.0       0.00      0.00      0.00         1\n",
      "       587.0       0.00      0.00      0.00         1\n",
      "       598.0       0.00      0.00      0.00         1\n",
      "       604.0       0.00      0.00      0.00         1\n",
      "       623.0       0.00      0.00      0.00         1\n",
      "       630.0       0.00      0.00      0.00         1\n",
      "       642.0       0.00      0.00      0.00         1\n",
      "       651.0       0.00      0.00      0.00         1\n",
      "       652.0       0.00      0.00      0.00         0\n",
      "       680.0       0.00      0.00      0.00         0\n",
      "       683.0       0.00      0.00      0.00         0\n",
      "       695.0       0.00      0.00      0.00         1\n",
      "       703.0       0.00      0.00      0.00         0\n",
      "       705.0       0.00      0.00      0.00         0\n",
      "       708.0       0.00      0.00      0.00         1\n",
      "       721.0       0.00      0.00      0.00         0\n",
      "       723.0       0.00      0.00      0.00         1\n",
      "       749.0       0.00      0.00      0.00         1\n",
      "       758.0       0.00      0.00      0.00         1\n",
      "       769.0       0.00      0.00      0.00         1\n",
      "       777.0       0.00      0.00      0.00         1\n",
      "       779.0       0.00      0.00      0.00         1\n",
      "       781.0       0.00      0.00      0.00         1\n",
      "       804.0       0.00      0.00      0.00         1\n",
      "       818.0       0.00      0.00      0.00         0\n",
      "       857.0       0.00      0.00      0.00         1\n",
      "       864.0       0.00      0.00      0.00         1\n",
      "       881.0       0.00      0.00      0.00         1\n",
      "       915.0       0.00      0.00      0.00         1\n",
      "       917.0       0.00      0.00      0.00         1\n",
      "       942.0       0.00      0.00      0.00         1\n",
      "       959.0       0.00      0.00      0.00         1\n",
      "       965.0       0.00      0.00      0.00         1\n",
      "       967.0       0.00      0.00      0.00         0\n",
      "       973.0       0.00      0.00      0.00         1\n",
      "       982.0       0.00      0.00      0.00         1\n",
      "       989.0       0.00      0.00      0.00         1\n",
      "       992.0       0.00      0.00      0.00         1\n",
      "      1018.0       0.00      0.00      0.00         0\n",
      "      1041.0       0.00      0.00      0.00         1\n",
      "      1048.0       0.00      0.00      0.00         1\n",
      "      1055.0       0.00      0.00      0.00         1\n",
      "      1059.0       0.00      0.00      0.00         1\n",
      "      1069.0       0.00      0.00      0.00         1\n",
      "      1125.0       0.00      0.00      0.00         0\n",
      "      1214.0       0.00      0.00      0.00         1\n",
      "      1220.0       0.00      0.00      0.00         1\n",
      "      1221.0       0.00      0.00      0.00         1\n",
      "      1245.0       0.00      0.00      0.00         1\n",
      "      1247.0       0.00      0.00      0.00         1\n",
      "      1252.0       0.00      0.00      0.00         0\n",
      "      1319.0       0.00      0.00      0.00         1\n",
      "      1337.0       0.00      0.00      0.00         1\n",
      "      1363.0       0.00      0.00      0.00         1\n",
      "      1380.0       0.00      0.00      0.00         1\n",
      "      1383.0       0.00      0.00      0.00         1\n",
      "      1399.0       0.00      0.00      0.00         0\n",
      "      1420.0       0.00      0.00      0.00         1\n",
      "      1450.0       0.00      0.00      0.00         1\n",
      "      1475.0       0.00      0.00      0.00         1\n",
      "      1476.0       0.00      0.00      0.00         0\n",
      "      1483.0       0.00      0.00      0.00         1\n",
      "      1491.0       0.00      0.00      0.00         1\n",
      "      1533.0       0.00      0.00      0.00         1\n",
      "      1571.0       0.00      0.00      0.00         1\n",
      "      1574.0       0.00      0.00      0.00         0\n",
      "      1672.0       0.00      0.00      0.00         0\n",
      "      1703.0       0.00      0.00      0.00         1\n",
      "      1746.0       0.00      0.00      0.00         1\n",
      "      1754.0       0.00      0.00      0.00         0\n",
      "      1766.0       0.00      0.00      0.00         0\n",
      "      1867.0       0.00      0.00      0.00         1\n",
      "      1874.0       0.00      0.00      0.00         1\n",
      "      1942.0       0.00      0.00      0.00         1\n",
      "      1963.0       0.00      0.00      0.00         1\n",
      "      1968.0       0.00      0.00      0.00         0\n",
      "      1973.0       0.00      0.00      0.00         0\n",
      "      2000.0       0.00      0.00      0.00         1\n",
      "      2007.0       0.00      0.00      0.00         0\n",
      "      2128.0       0.00      0.00      0.00         0\n",
      "      2136.0       0.00      0.00      0.00         0\n",
      "      2163.0       0.00      0.00      0.00         1\n",
      "      2306.0       0.00      0.00      0.00         1\n",
      "      2354.0       0.00      0.00      0.00         1\n",
      "      2362.0       0.00      0.00      0.00         1\n",
      "      2397.0       0.00      0.00      0.00         0\n",
      "      2530.0       0.00      0.00      0.00         1\n",
      "      2687.0       0.00      0.00      0.00         1\n",
      "      2715.0       0.00      0.00      0.00         1\n",
      "      2747.0       0.00      0.00      0.00         1\n",
      "      2764.0       0.00      0.00      0.00         0\n",
      "      2879.0       0.00      0.00      0.00         1\n",
      "      2899.0       0.00      0.00      0.00         1\n",
      "      2940.0       0.00      0.00      0.00         1\n",
      "      2988.0       0.00      0.00      0.00         1\n",
      "      3042.0       0.00      0.00      0.00         1\n",
      "      3537.0       0.00      0.00      0.00         0\n",
      "      3571.0       0.00      0.00      0.00         1\n",
      "      4060.0       0.00      0.00      0.00         0\n",
      "      4423.0       0.00      0.00      0.00         1\n",
      "      4876.0       0.00      0.00      0.00         1\n",
      "      4947.0       0.00      0.00      0.00         1\n",
      "      7043.0       0.00      0.00      0.00         1\n",
      "      8275.0       0.00      0.00      0.00         1\n",
      "      9811.0       0.00      0.00      0.00         1\n",
      "     11426.0       0.00      0.00      0.00         1\n",
      "     12214.0       0.00      0.00      0.00         1\n",
      "     13603.0       0.00      0.00      0.00         1\n",
      "     16938.0       0.00      0.00      0.00         1\n",
      "\n",
      "    accuracy                           0.02       178\n",
      "   macro avg       0.00      0.00      0.00       178\n",
      "weighted avg       0.01      0.02      0.01       178\n",
      "\n"
     ]
    }
   ],
   "source": [
    "print(classification_report(y_test, pred_KNN))"
   ]
  },
  {
   "cell_type": "code",
   "execution_count": 69,
   "metadata": {},
   "outputs": [],
   "source": [
    "from sklearn.svm import SVC, SVR"
   ]
  },
  {
   "cell_type": "code",
   "execution_count": 70,
   "metadata": {},
   "outputs": [],
   "source": [
    "model_SVM = SVC(C=2.5)"
   ]
  },
  {
   "cell_type": "code",
   "execution_count": 71,
   "metadata": {},
   "outputs": [
    {
     "data": {
      "text/plain": [
       "SVC(C=2.5)"
      ]
     },
     "execution_count": 71,
     "metadata": {},
     "output_type": "execute_result"
    }
   ],
   "source": [
    "model_SVM.fit(X_train, y_train)"
   ]
  },
  {
   "cell_type": "code",
   "execution_count": 72,
   "metadata": {},
   "outputs": [
    {
     "data": {
      "text/plain": [
       "0.02247191011235955"
      ]
     },
     "execution_count": 72,
     "metadata": {},
     "output_type": "execute_result"
    }
   ],
   "source": [
    "model_SVM.score(X_test, y_test)"
   ]
  },
  {
   "cell_type": "code",
   "execution_count": 73,
   "metadata": {},
   "outputs": [],
   "source": [
    "pred_SVM = model_SVM.predict(X_test)"
   ]
  },
  {
   "cell_type": "code",
   "execution_count": 74,
   "metadata": {},
   "outputs": [
    {
     "name": "stdout",
     "output_type": "stream",
     "text": [
      "              precision    recall  f1-score   support\n",
      "\n",
      "        12.0       0.04      1.00      0.08         4\n",
      "        14.0       0.00      0.00      0.00         1\n",
      "        15.0       0.00      0.00      0.00         1\n",
      "        16.0       0.00      0.00      0.00         2\n",
      "        17.0       0.00      0.00      0.00         1\n",
      "        18.0       0.00      0.00      0.00         2\n",
      "        19.0       0.00      0.00      0.00         1\n",
      "        20.0       0.00      0.00      0.00         2\n",
      "        21.0       0.00      0.00      0.00         1\n",
      "        22.0       0.00      0.00      0.00         1\n",
      "        23.0       0.00      0.00      0.00         1\n",
      "        24.0       0.00      0.00      0.00         2\n",
      "        26.0       0.00      0.00      0.00         1\n",
      "        27.0       0.00      0.00      0.00         1\n",
      "        28.0       0.00      0.00      0.00         1\n",
      "        29.0       0.00      0.00      0.00         2\n",
      "        30.0       0.00      0.00      0.00         1\n",
      "        34.0       0.00      0.00      0.00         1\n",
      "        36.0       0.00      0.00      0.00         1\n",
      "        38.0       0.00      0.00      0.00         1\n",
      "        39.0       0.00      0.00      0.00         1\n",
      "        51.0       0.00      0.00      0.00         1\n",
      "        56.0       0.00      0.00      0.00         5\n",
      "        58.0       0.00      0.00      0.00         1\n",
      "        61.0       0.00      0.00      0.00         1\n",
      "        66.0       0.00      0.00      0.00         1\n",
      "        84.0       0.00      0.00      0.00         1\n",
      "        90.0       0.00      0.00      0.00         1\n",
      "        94.0       0.00      0.00      0.00         1\n",
      "        97.0       0.00      0.00      0.00         1\n",
      "       100.0       0.00      0.00      0.00         1\n",
      "       105.0       0.00      0.00      0.00         1\n",
      "       107.0       0.00      0.00      0.00         1\n",
      "       109.0       0.00      0.00      0.00         1\n",
      "       111.0       0.00      0.00      0.00         1\n",
      "       117.0       0.00      0.00      0.00         1\n",
      "       119.0       0.00      0.00      0.00         1\n",
      "       131.0       0.00      0.00      0.00         1\n",
      "       144.0       0.00      0.00      0.00         1\n",
      "       147.0       0.00      0.00      0.00         1\n",
      "       150.0       0.00      0.00      0.00         1\n",
      "       156.0       0.00      0.00      0.00         1\n",
      "       157.0       0.00      0.00      0.00         1\n",
      "       172.0       0.00      0.00      0.00         2\n",
      "       176.0       0.00      0.00      0.00         1\n",
      "       183.0       0.00      0.00      0.00         1\n",
      "       184.0       0.00      0.00      0.00         1\n",
      "       204.0       0.00      0.00      0.00         1\n",
      "       210.0       0.00      0.00      0.00         1\n",
      "       212.0       0.00      0.00      0.00         1\n",
      "       221.0       0.00      0.00      0.00         1\n",
      "       227.0       0.00      0.00      0.00         1\n",
      "       249.0       0.00      0.00      0.00         1\n",
      "       251.0       0.00      0.00      0.00         1\n",
      "       260.0       0.00      0.00      0.00         1\n",
      "       286.0       0.00      0.00      0.00         1\n",
      "       287.0       0.00      0.00      0.00         1\n",
      "       300.0       0.00      0.00      0.00         1\n",
      "       301.0       0.00      0.00      0.00         1\n",
      "       310.0       0.00      0.00      0.00         1\n",
      "       318.0       0.00      0.00      0.00         1\n",
      "       319.0       0.00      0.00      0.00         1\n",
      "       321.0       0.00      0.00      0.00         1\n",
      "       333.0       0.00      0.00      0.00         1\n",
      "       338.0       0.00      0.00      0.00         1\n",
      "       346.0       0.00      0.00      0.00         1\n",
      "       352.0       0.00      0.00      0.00         1\n",
      "       373.0       0.00      0.00      0.00         1\n",
      "       377.0       0.00      0.00      0.00         1\n",
      "       384.0       0.00      0.00      0.00         2\n",
      "       397.0       0.00      0.00      0.00         1\n",
      "       421.0       0.00      0.00      0.00         1\n",
      "       424.0       0.00      0.00      0.00         1\n",
      "       430.0       0.00      0.00      0.00         1\n",
      "       434.0       0.00      0.00      0.00         1\n",
      "       436.0       0.00      0.00      0.00         1\n",
      "       462.0       0.00      0.00      0.00         1\n",
      "       515.0       0.00      0.00      0.00         1\n",
      "       553.0       0.00      0.00      0.00         1\n",
      "       555.0       0.00      0.00      0.00         0\n",
      "       558.0       0.00      0.00      0.00         1\n",
      "       566.0       0.00      0.00      0.00         1\n",
      "       577.0       0.00      0.00      0.00         1\n",
      "       587.0       0.00      0.00      0.00         1\n",
      "       598.0       0.00      0.00      0.00         1\n",
      "       604.0       0.00      0.00      0.00         1\n",
      "       623.0       0.00      0.00      0.00         1\n",
      "       630.0       0.00      0.00      0.00         1\n",
      "       642.0       0.00      0.00      0.00         1\n",
      "       651.0       0.00      0.00      0.00         1\n",
      "       695.0       0.00      0.00      0.00         1\n",
      "       708.0       0.00      0.00      0.00         1\n",
      "       723.0       0.00      0.00      0.00         1\n",
      "       749.0       0.00      0.00      0.00         1\n",
      "       758.0       0.00      0.00      0.00         1\n",
      "       769.0       0.00      0.00      0.00         1\n",
      "       777.0       0.00      0.00      0.00         1\n",
      "       779.0       0.00      0.00      0.00         1\n",
      "       781.0       0.00      0.00      0.00         1\n",
      "       804.0       0.00      0.00      0.00         1\n",
      "       857.0       0.00      0.00      0.00         1\n",
      "       864.0       0.00      0.00      0.00         1\n",
      "       881.0       0.00      0.00      0.00         1\n",
      "       915.0       0.00      0.00      0.00         1\n",
      "       917.0       0.00      0.00      0.00         1\n",
      "       942.0       0.00      0.00      0.00         1\n",
      "       959.0       0.00      0.00      0.00         1\n",
      "       965.0       0.00      0.00      0.00         1\n",
      "       973.0       0.00      0.00      0.00         1\n",
      "       982.0       0.00      0.00      0.00         1\n",
      "       989.0       0.00      0.00      0.00         1\n",
      "       992.0       0.00      0.00      0.00         1\n",
      "      1041.0       0.00      0.00      0.00         1\n",
      "      1048.0       0.00      0.00      0.00         1\n",
      "      1055.0       0.00      0.00      0.00         1\n",
      "      1059.0       0.00      0.00      0.00         1\n",
      "      1069.0       0.00      0.00      0.00         1\n",
      "      1214.0       0.00      0.00      0.00         1\n",
      "      1220.0       0.00      0.00      0.00         1\n",
      "      1221.0       0.00      0.00      0.00         1\n",
      "      1245.0       0.00      0.00      0.00         1\n",
      "      1247.0       0.00      0.00      0.00         1\n",
      "      1252.0       0.00      0.00      0.00         0\n",
      "      1319.0       0.00      0.00      0.00         1\n",
      "      1337.0       0.00      0.00      0.00         1\n",
      "      1363.0       0.00      0.00      0.00         1\n",
      "      1380.0       0.00      0.00      0.00         1\n",
      "      1383.0       0.00      0.00      0.00         1\n",
      "      1420.0       0.00      0.00      0.00         1\n",
      "      1442.0       0.00      0.00      0.00         0\n",
      "      1450.0       0.00      0.00      0.00         1\n",
      "      1475.0       0.00      0.00      0.00         1\n",
      "      1476.0       0.00      0.00      0.00         0\n",
      "      1483.0       0.00      0.00      0.00         1\n",
      "      1491.0       0.00      0.00      0.00         1\n",
      "      1533.0       0.00      0.00      0.00         1\n",
      "      1571.0       0.00      0.00      0.00         1\n",
      "      1703.0       0.00      0.00      0.00         1\n",
      "      1746.0       0.00      0.00      0.00         1\n",
      "      1867.0       0.00      0.00      0.00         1\n",
      "      1874.0       0.00      0.00      0.00         1\n",
      "      1942.0       0.00      0.00      0.00         1\n",
      "      1963.0       0.00      0.00      0.00         1\n",
      "      2000.0       0.00      0.00      0.00         1\n",
      "      2007.0       0.00      0.00      0.00         0\n",
      "      2092.0       0.00      0.00      0.00         0\n",
      "      2101.0       0.00      0.00      0.00         0\n",
      "      2142.0       0.00      0.00      0.00         0\n",
      "      2163.0       0.00      0.00      0.00         1\n",
      "      2306.0       0.00      0.00      0.00         1\n",
      "      2354.0       0.00      0.00      0.00         1\n",
      "      2362.0       0.00      0.00      0.00         1\n",
      "      2397.0       0.00      0.00      0.00         0\n",
      "      2446.0       0.00      0.00      0.00         0\n",
      "      2484.0       0.00      0.00      0.00         0\n",
      "      2530.0       0.00      0.00      0.00         1\n",
      "      2618.0       0.00      0.00      0.00         0\n",
      "      2687.0       0.00      0.00      0.00         1\n",
      "      2715.0       0.00      0.00      0.00         1\n",
      "      2747.0       0.00      0.00      0.00         1\n",
      "      2764.0       0.00      0.00      0.00         0\n",
      "      2766.0       0.00      0.00      0.00         0\n",
      "      2811.0       0.00      0.00      0.00         0\n",
      "      2866.0       0.00      0.00      0.00         0\n",
      "      2879.0       0.00      0.00      0.00         1\n",
      "      2899.0       0.00      0.00      0.00         1\n",
      "      2940.0       0.00      0.00      0.00         1\n",
      "      2988.0       0.00      0.00      0.00         1\n",
      "      3042.0       0.00      0.00      0.00         1\n",
      "      3056.0       0.00      0.00      0.00         0\n",
      "      3571.0       0.00      0.00      0.00         1\n",
      "      3988.0       0.00      0.00      0.00         0\n",
      "      4135.0       0.00      0.00      0.00         0\n",
      "      4423.0       0.00      0.00      0.00         1\n",
      "      4876.0       0.00      0.00      0.00         1\n",
      "      4947.0       0.00      0.00      0.00         1\n",
      "      5002.0       0.00      0.00      0.00         0\n",
      "      5981.0       0.00      0.00      0.00         0\n",
      "      7043.0       0.00      0.00      0.00         1\n",
      "      8275.0       0.00      0.00      0.00         1\n",
      "      8780.0       0.00      0.00      0.00         0\n",
      "      9811.0       0.00      0.00      0.00         1\n",
      "      9823.0       0.00      0.00      0.00         0\n",
      "     11426.0       0.00      0.00      0.00         1\n",
      "     11754.0       0.00      0.00      0.00         0\n",
      "     12214.0       0.00      0.00      0.00         1\n",
      "     12859.0       0.00      0.00      0.00         0\n",
      "     13603.0       0.00      0.00      0.00         1\n",
      "     14103.0       0.00      0.00      0.00         0\n",
      "     16938.0       0.00      0.00      0.00         1\n",
      "\n",
      "    accuracy                           0.02       178\n",
      "   macro avg       0.00      0.01      0.00       178\n",
      "weighted avg       0.00      0.02      0.00       178\n",
      "\n"
     ]
    }
   ],
   "source": [
    "print(classification_report(y_test, pred_SVM))"
   ]
  },
  {
   "cell_type": "code",
   "execution_count": 79,
   "metadata": {},
   "outputs": [],
   "source": [
    "from sklearn.tree import DecisionTreeClassifier"
   ]
  },
  {
   "cell_type": "code",
   "execution_count": 80,
   "metadata": {},
   "outputs": [],
   "source": [
    "model_tree = DecisionTreeClassifier()"
   ]
  },
  {
   "cell_type": "code",
   "execution_count": 81,
   "metadata": {},
   "outputs": [
    {
     "data": {
      "text/plain": [
       "DecisionTreeClassifier()"
      ]
     },
     "execution_count": 81,
     "metadata": {},
     "output_type": "execute_result"
    }
   ],
   "source": [
    "model_tree.fit(X_train, y_train)"
   ]
  },
  {
   "cell_type": "code",
   "execution_count": 82,
   "metadata": {},
   "outputs": [
    {
     "data": {
      "text/plain": [
       "0.03932584269662921"
      ]
     },
     "execution_count": 82,
     "metadata": {},
     "output_type": "execute_result"
    }
   ],
   "source": [
    "model_tree.score(X_test, y_test)"
   ]
  },
  {
   "cell_type": "code",
   "execution_count": 83,
   "metadata": {},
   "outputs": [
    {
     "name": "stdout",
     "output_type": "stream",
     "text": [
      "              precision    recall  f1-score   support\n",
      "\n",
      "        11.0       0.00      0.00      0.00         0\n",
      "        12.0       0.75      0.75      0.75         4\n",
      "        13.0       0.00      0.00      0.00         0\n",
      "        14.0       0.00      0.00      0.00         1\n",
      "        15.0       0.00      0.00      0.00         1\n",
      "        16.0       0.17      0.50      0.25         2\n",
      "        17.0       0.00      0.00      0.00         1\n",
      "        18.0       0.00      0.00      0.00         2\n",
      "        19.0       0.00      0.00      0.00         1\n",
      "        20.0       0.00      0.00      0.00         2\n",
      "        21.0       0.00      0.00      0.00         1\n",
      "        22.0       0.00      0.00      0.00         1\n",
      "        23.0       0.00      0.00      0.00         1\n",
      "        24.0       0.00      0.00      0.00         2\n",
      "        25.0       0.00      0.00      0.00         0\n",
      "        26.0       0.00      0.00      0.00         1\n",
      "        27.0       0.00      0.00      0.00         1\n",
      "        28.0       0.00      0.00      0.00         1\n",
      "        29.0       0.00      0.00      0.00         2\n",
      "        30.0       0.00      0.00      0.00         1\n",
      "        31.0       0.00      0.00      0.00         0\n",
      "        32.0       0.00      0.00      0.00         0\n",
      "        34.0       1.00      1.00      1.00         1\n",
      "        35.0       0.00      0.00      0.00         0\n",
      "        36.0       0.00      0.00      0.00         1\n",
      "        38.0       0.00      0.00      0.00         1\n",
      "        39.0       0.00      0.00      0.00         1\n",
      "        40.0       0.00      0.00      0.00         0\n",
      "        51.0       1.00      1.00      1.00         1\n",
      "        56.0       0.00      0.00      0.00         5\n",
      "        58.0       0.00      0.00      0.00         1\n",
      "        60.0       0.00      0.00      0.00         0\n",
      "        61.0       0.00      0.00      0.00         1\n",
      "        62.0       0.00      0.00      0.00         0\n",
      "        64.0       0.00      0.00      0.00         0\n",
      "        65.0       0.00      0.00      0.00         0\n",
      "        66.0       0.00      0.00      0.00         1\n",
      "        68.0       0.00      0.00      0.00         0\n",
      "        76.0       0.00      0.00      0.00         0\n",
      "        82.0       0.00      0.00      0.00         0\n",
      "        84.0       0.00      0.00      0.00         1\n",
      "        90.0       0.00      0.00      0.00         1\n",
      "        94.0       0.00      0.00      0.00         1\n",
      "        97.0       0.00      0.00      0.00         1\n",
      "       100.0       0.00      0.00      0.00         1\n",
      "       105.0       0.00      0.00      0.00         1\n",
      "       107.0       0.00      0.00      0.00         1\n",
      "       109.0       0.00      0.00      0.00         1\n",
      "       111.0       0.00      0.00      0.00         1\n",
      "       116.0       0.00      0.00      0.00         0\n",
      "       117.0       0.00      0.00      0.00         1\n",
      "       118.0       0.00      0.00      0.00         0\n",
      "       119.0       0.00      0.00      0.00         1\n",
      "       126.0       0.00      0.00      0.00         0\n",
      "       128.0       0.00      0.00      0.00         0\n",
      "       130.0       0.00      0.00      0.00         0\n",
      "       131.0       0.00      0.00      0.00         1\n",
      "       140.0       0.00      0.00      0.00         0\n",
      "       144.0       0.00      0.00      0.00         1\n",
      "       147.0       0.00      0.00      0.00         1\n",
      "       150.0       0.00      0.00      0.00         1\n",
      "       156.0       0.00      0.00      0.00         1\n",
      "       157.0       0.00      0.00      0.00         1\n",
      "       172.0       0.00      0.00      0.00         2\n",
      "       176.0       0.00      0.00      0.00         1\n",
      "       183.0       0.00      0.00      0.00         1\n",
      "       184.0       0.00      0.00      0.00         1\n",
      "       187.0       0.00      0.00      0.00         0\n",
      "       204.0       0.00      0.00      0.00         1\n",
      "       208.0       0.00      0.00      0.00         0\n",
      "       210.0       0.00      0.00      0.00         1\n",
      "       211.0       0.00      0.00      0.00         0\n",
      "       212.0       0.00      0.00      0.00         1\n",
      "       217.0       0.00      0.00      0.00         0\n",
      "       220.0       0.00      0.00      0.00         0\n",
      "       221.0       0.00      0.00      0.00         1\n",
      "       224.0       0.00      0.00      0.00         0\n",
      "       227.0       0.00      0.00      0.00         1\n",
      "       228.0       0.00      0.00      0.00         0\n",
      "       229.0       0.00      0.00      0.00         0\n",
      "       242.0       0.00      0.00      0.00         0\n",
      "       249.0       0.00      0.00      0.00         1\n",
      "       251.0       0.00      0.00      0.00         1\n",
      "       258.0       0.00      0.00      0.00         0\n",
      "       260.0       0.00      0.00      0.00         1\n",
      "       264.0       0.00      0.00      0.00         0\n",
      "       276.0       0.00      0.00      0.00         0\n",
      "       277.0       0.00      0.00      0.00         0\n",
      "       286.0       0.00      0.00      0.00         1\n",
      "       287.0       0.00      0.00      0.00         1\n",
      "       299.0       0.00      0.00      0.00         0\n",
      "       300.0       0.00      0.00      0.00         1\n",
      "       301.0       0.00      0.00      0.00         1\n",
      "       310.0       0.00      0.00      0.00         1\n",
      "       315.0       0.00      0.00      0.00         0\n",
      "       318.0       0.00      0.00      0.00         1\n",
      "       319.0       0.00      0.00      0.00         1\n",
      "       321.0       0.00      0.00      0.00         1\n",
      "       333.0       0.00      0.00      0.00         1\n",
      "       338.0       0.00      0.00      0.00         1\n",
      "       346.0       0.00      0.00      0.00         1\n",
      "       352.0       0.00      0.00      0.00         1\n",
      "       373.0       0.00      0.00      0.00         1\n",
      "       374.0       0.00      0.00      0.00         0\n",
      "       376.0       0.00      0.00      0.00         0\n",
      "       377.0       0.00      0.00      0.00         1\n",
      "       384.0       0.00      0.00      0.00         2\n",
      "       397.0       0.00      0.00      0.00         1\n",
      "       400.0       0.00      0.00      0.00         0\n",
      "       421.0       0.00      0.00      0.00         1\n",
      "       424.0       0.00      0.00      0.00         1\n",
      "       430.0       0.00      0.00      0.00         1\n",
      "       434.0       0.00      0.00      0.00         1\n",
      "       436.0       0.00      0.00      0.00         1\n",
      "       440.0       0.00      0.00      0.00         0\n",
      "       446.0       0.00      0.00      0.00         0\n",
      "       462.0       0.00      0.00      0.00         1\n",
      "       464.0       0.00      0.00      0.00         0\n",
      "       483.0       0.00      0.00      0.00         0\n",
      "       509.0       0.00      0.00      0.00         0\n",
      "       514.0       0.00      0.00      0.00         0\n",
      "       515.0       0.00      0.00      0.00         1\n",
      "       538.0       0.00      0.00      0.00         0\n",
      "       546.0       0.00      0.00      0.00         0\n",
      "       548.0       0.00      0.00      0.00         0\n",
      "       553.0       0.00      0.00      0.00         1\n",
      "       558.0       0.00      0.00      0.00         1\n",
      "       566.0       0.00      0.00      0.00         1\n",
      "       577.0       0.00      0.00      0.00         1\n",
      "       587.0       0.00      0.00      0.00         1\n",
      "       598.0       0.00      0.00      0.00         1\n",
      "       604.0       0.00      0.00      0.00         1\n",
      "       617.0       0.00      0.00      0.00         0\n",
      "       623.0       0.00      0.00      0.00         1\n",
      "       630.0       0.00      0.00      0.00         1\n",
      "       642.0       0.00      0.00      0.00         1\n",
      "       644.0       0.00      0.00      0.00         0\n",
      "       651.0       0.00      0.00      0.00         1\n",
      "       652.0       0.00      0.00      0.00         0\n",
      "       663.0       0.00      0.00      0.00         0\n",
      "       665.0       0.00      0.00      0.00         0\n",
      "       671.0       0.00      0.00      0.00         0\n",
      "       680.0       0.00      0.00      0.00         0\n",
      "       681.0       0.00      0.00      0.00         0\n",
      "       695.0       0.00      0.00      0.00         1\n",
      "       708.0       0.00      0.00      0.00         1\n",
      "       712.0       0.00      0.00      0.00         0\n",
      "       721.0       0.00      0.00      0.00         0\n",
      "       723.0       0.00      0.00      0.00         1\n",
      "       728.0       0.00      0.00      0.00         0\n",
      "       738.0       0.00      0.00      0.00         0\n",
      "       741.0       0.00      0.00      0.00         0\n",
      "       749.0       1.00      1.00      1.00         1\n",
      "       758.0       0.00      0.00      0.00         1\n",
      "       769.0       0.00      0.00      0.00         1\n",
      "       777.0       0.00      0.00      0.00         1\n",
      "       779.0       0.00      0.00      0.00         1\n",
      "       781.0       0.00      0.00      0.00         1\n",
      "       804.0       0.00      0.00      0.00         1\n",
      "       838.0       0.00      0.00      0.00         0\n",
      "       857.0       0.00      0.00      0.00         1\n",
      "       864.0       0.00      0.00      0.00         1\n",
      "       881.0       0.00      0.00      0.00         1\n",
      "       889.0       0.00      0.00      0.00         0\n",
      "       915.0       0.00      0.00      0.00         1\n",
      "       917.0       0.00      0.00      0.00         1\n",
      "       928.0       0.00      0.00      0.00         0\n",
      "       942.0       0.00      0.00      0.00         1\n",
      "       959.0       0.00      0.00      0.00         1\n",
      "       965.0       0.00      0.00      0.00         1\n",
      "       967.0       0.00      0.00      0.00         0\n",
      "       973.0       0.00      0.00      0.00         1\n",
      "       982.0       0.00      0.00      0.00         1\n",
      "       989.0       0.00      0.00      0.00         1\n",
      "       991.0       0.00      0.00      0.00         0\n",
      "       992.0       0.00      0.00      0.00         1\n",
      "      1002.0       0.00      0.00      0.00         0\n",
      "      1012.0       0.00      0.00      0.00         0\n",
      "      1018.0       0.00      0.00      0.00         0\n",
      "      1020.0       0.00      0.00      0.00         0\n",
      "      1041.0       0.00      0.00      0.00         1\n",
      "      1042.0       0.00      0.00      0.00         0\n",
      "      1048.0       0.00      0.00      0.00         1\n",
      "      1055.0       0.00      0.00      0.00         1\n",
      "      1059.0       0.00      0.00      0.00         1\n",
      "      1069.0       0.00      0.00      0.00         1\n",
      "      1125.0       0.00      0.00      0.00         0\n",
      "      1156.0       0.00      0.00      0.00         0\n",
      "      1208.0       0.00      0.00      0.00         0\n",
      "      1214.0       0.00      0.00      0.00         1\n",
      "      1220.0       0.00      0.00      0.00         1\n",
      "      1221.0       0.00      0.00      0.00         1\n",
      "      1245.0       0.00      0.00      0.00         1\n",
      "      1247.0       0.00      0.00      0.00         1\n",
      "      1252.0       0.00      0.00      0.00         0\n",
      "      1319.0       0.00      0.00      0.00         1\n",
      "      1322.0       0.00      0.00      0.00         0\n",
      "      1337.0       0.00      0.00      0.00         1\n",
      "      1363.0       0.00      0.00      0.00         1\n",
      "      1366.0       0.00      0.00      0.00         0\n",
      "      1380.0       0.00      0.00      0.00         1\n",
      "      1383.0       0.00      0.00      0.00         1\n",
      "      1420.0       0.00      0.00      0.00         1\n",
      "      1433.0       0.00      0.00      0.00         0\n",
      "      1450.0       0.00      0.00      0.00         1\n",
      "      1458.0       0.00      0.00      0.00         0\n",
      "      1469.0       0.00      0.00      0.00         0\n",
      "      1474.0       0.00      0.00      0.00         0\n",
      "      1475.0       0.00      0.00      0.00         1\n",
      "      1476.0       0.00      0.00      0.00         0\n",
      "      1483.0       0.00      0.00      0.00         1\n",
      "      1491.0       0.00      0.00      0.00         1\n",
      "      1516.0       0.00      0.00      0.00         0\n",
      "      1533.0       0.00      0.00      0.00         1\n",
      "      1571.0       0.00      0.00      0.00         1\n",
      "      1574.0       0.00      0.00      0.00         0\n",
      "      1634.0       0.00      0.00      0.00         0\n",
      "      1703.0       0.00      0.00      0.00         1\n",
      "      1746.0       0.00      0.00      0.00         1\n",
      "      1754.0       0.00      0.00      0.00         0\n",
      "      1867.0       0.00      0.00      0.00         1\n",
      "      1874.0       0.00      0.00      0.00         1\n",
      "      1876.0       0.00      0.00      0.00         0\n",
      "      1942.0       0.00      0.00      0.00         1\n",
      "      1963.0       0.00      0.00      0.00         1\n",
      "      2000.0       0.00      0.00      0.00         1\n",
      "      2101.0       0.00      0.00      0.00         0\n",
      "      2136.0       0.00      0.00      0.00         0\n",
      "      2163.0       0.00      0.00      0.00         1\n",
      "      2306.0       0.00      0.00      0.00         1\n",
      "      2354.0       0.00      0.00      0.00         1\n",
      "      2362.0       0.00      0.00      0.00         1\n",
      "      2447.0       0.00      0.00      0.00         0\n",
      "      2484.0       0.00      0.00      0.00         0\n",
      "      2530.0       0.00      0.00      0.00         1\n",
      "      2687.0       0.00      0.00      0.00         1\n",
      "      2704.0       0.00      0.00      0.00         0\n",
      "      2715.0       0.00      0.00      0.00         1\n",
      "      2722.0       0.00      0.00      0.00         0\n",
      "      2747.0       0.00      0.00      0.00         1\n",
      "      2772.0       0.00      0.00      0.00         0\n",
      "      2879.0       0.00      0.00      0.00         1\n",
      "      2899.0       0.00      0.00      0.00         1\n",
      "      2940.0       0.00      0.00      0.00         1\n",
      "      2988.0       0.00      0.00      0.00         1\n",
      "      3042.0       0.00      0.00      0.00         1\n",
      "      3056.0       0.00      0.00      0.00         0\n",
      "      3488.0       0.00      0.00      0.00         0\n",
      "      3571.0       0.00      0.00      0.00         1\n",
      "      4060.0       0.00      0.00      0.00         0\n",
      "      4251.0       0.00      0.00      0.00         0\n",
      "      4423.0       0.00      0.00      0.00         1\n",
      "      4876.0       0.00      0.00      0.00         1\n",
      "      4947.0       0.00      0.00      0.00         1\n",
      "      5002.0       0.00      0.00      0.00         0\n",
      "      5564.0       0.00      0.00      0.00         0\n",
      "      6176.0       0.00      0.00      0.00         0\n",
      "      7043.0       0.00      0.00      0.00         1\n",
      "      8275.0       0.00      0.00      0.00         1\n",
      "      9766.0       0.00      0.00      0.00         0\n",
      "      9811.0       0.00      0.00      0.00         1\n",
      "     11426.0       0.00      0.00      0.00         1\n",
      "     11754.0       0.00      0.00      0.00         0\n",
      "     12214.0       0.00      0.00      0.00         1\n",
      "     13603.0       0.00      0.00      0.00         1\n",
      "     14103.0       0.00      0.00      0.00         0\n",
      "     16938.0       0.00      0.00      0.00         1\n",
      "\n",
      "    accuracy                           0.04       178\n",
      "   macro avg       0.01      0.02      0.01       178\n",
      "weighted avg       0.04      0.04      0.04       178\n",
      "\n"
     ]
    }
   ],
   "source": [
    "pred_tree = model_tree.predict(X_test)\n",
    "print(classification_report(y_test, pred_tree))"
   ]
  },
  {
   "cell_type": "markdown",
   "metadata": {},
   "source": [
    "## Coba pake Hyper tuning"
   ]
  },
  {
   "cell_type": "code",
   "execution_count": 84,
   "metadata": {},
   "outputs": [],
   "source": [
    "from sklearn.model_selection import GridSearchCV, RandomizedSearchCV"
   ]
  },
  {
   "cell_type": "code",
   "execution_count": 86,
   "metadata": {},
   "outputs": [],
   "source": [
    "model_Tree = DecisionTreeClassifier() ##klik Shift + Tab"
   ]
  },
  {
   "cell_type": "code",
   "execution_count": 87,
   "metadata": {},
   "outputs": [],
   "source": [
    "param = {'criterion' : ['gini', 'entropy'],\n",
    "        'max_depth' : [4,5,6,7,8,9,10,11,12,15,20,30,40,50,70,90,120,150]}"
   ]
  },
  {
   "cell_type": "code",
   "execution_count": 88,
   "metadata": {},
   "outputs": [
    {
     "name": "stdout",
     "output_type": "stream",
     "text": [
      "Fitting 4 folds for each of 36 candidates, totalling 144 fits\n"
     ]
    },
    {
     "name": "stderr",
     "output_type": "stream",
     "text": [
      "[Parallel(n_jobs=-1)]: Using backend LokyBackend with 8 concurrent workers.\n",
      "[Parallel(n_jobs=-1)]: Done  34 tasks      | elapsed:    2.4s\n",
      "[Parallel(n_jobs=-1)]: Done 144 out of 144 | elapsed:    2.9s finished\n"
     ]
    },
    {
     "data": {
      "text/plain": [
       "GridSearchCV(cv=4, estimator=DecisionTreeClassifier(), n_jobs=-1,\n",
       "             param_grid={'criterion': ['gini', 'entropy'],\n",
       "                         'max_depth': [4, 5, 6, 7, 8, 9, 10, 11, 12, 15, 20, 30,\n",
       "                                       40, 50, 70, 90, 120, 150]},\n",
       "             scoring='accuracy', verbose=1)"
      ]
     },
     "execution_count": 88,
     "metadata": {},
     "output_type": "execute_result"
    }
   ],
   "source": [
    "model = GridSearchCV(model_Tree, param_grid=param, cv = 4, n_jobs= -1, scoring='accuracy', verbose=1)\n",
    "model.fit(X_train, y_train)"
   ]
  },
  {
   "cell_type": "code",
   "execution_count": 89,
   "metadata": {},
   "outputs": [
    {
     "data": {
      "text/plain": [
       "{'criterion': 'entropy', 'max_depth': 15}"
      ]
     },
     "execution_count": 89,
     "metadata": {},
     "output_type": "execute_result"
    }
   ],
   "source": [
    "model.best_params_"
   ]
  },
  {
   "cell_type": "code",
   "execution_count": 90,
   "metadata": {},
   "outputs": [],
   "source": [
    "model_Tree_Tuned = model.best_estimator_"
   ]
  },
  {
   "cell_type": "code",
   "execution_count": 91,
   "metadata": {},
   "outputs": [
    {
     "data": {
      "text/plain": [
       "array([7.1200e+02, 3.2000e+01, 2.1010e+03, 2.0780e+03, 2.1100e+02,\n",
       "       2.0400e+02, 8.6700e+02, 1.4200e+03, 1.1000e+01, 4.7900e+02,\n",
       "       8.7800e+03, 2.7720e+03, 4.0000e+02, 1.1000e+01, 5.4300e+02,\n",
       "       1.6000e+01, 1.1990e+03, 2.2500e+02, 4.3700e+02, 2.4470e+03,\n",
       "       1.6000e+01, 1.1470e+03, 4.7700e+02, 2.2000e+02, 1.2974e+04,\n",
       "       2.1900e+02, 1.0120e+03, 5.1400e+02, 2.5700e+03, 3.2300e+02,\n",
       "       4.3800e+02, 2.8660e+03, 5.1500e+02, 1.8000e+01, 2.8660e+03,\n",
       "       6.4400e+02, 4.2510e+03, 9.5000e+01, 7.1200e+02, 1.0900e+02,\n",
       "       5.1000e+01, 1.2900e+03, 2.6000e+01, 6.8100e+02, 2.2650e+03,\n",
       "       5.6000e+01, 2.7600e+02, 1.1650e+03, 1.3460e+03, 1.0600e+02,\n",
       "       4.5100e+02, 1.7200e+02, 1.8900e+02, 1.2800e+02, 1.6000e+01,\n",
       "       5.0020e+03, 1.1250e+03, 1.4000e+01, 1.5700e+02, 1.1520e+03,\n",
       "       5.4800e+02, 6.8100e+02, 3.8000e+01, 1.3000e+01, 1.6000e+01,\n",
       "       3.0200e+02, 3.4000e+01, 2.1420e+03, 1.0200e+03, 6.6500e+02,\n",
       "       1.4200e+03, 1.0900e+02, 5.4600e+02, 8.7800e+02, 1.8100e+02,\n",
       "       1.5000e+01, 1.7660e+03, 3.9880e+03, 2.3000e+01, 4.6400e+02,\n",
       "       2.2800e+02, 1.3000e+01, 2.5700e+02, 6.5200e+02, 1.4330e+03,\n",
       "       4.3000e+01, 2.7600e+02, 1.4000e+01, 3.5100e+02, 2.1280e+03,\n",
       "       1.0120e+03, 6.5760e+03, 1.0160e+03, 3.8000e+01, 2.2400e+02,\n",
       "       2.3000e+01, 3.1000e+02, 9.9300e+02, 1.5740e+03, 1.4500e+02,\n",
       "       6.5000e+01, 8.7000e+01, 1.2520e+03, 1.4160e+03, 2.7660e+03,\n",
       "       1.2080e+03, 5.3300e+02, 2.6400e+02, 1.7540e+03, 1.2080e+03,\n",
       "       5.1730e+03, 2.4250e+03, 1.8580e+03, 2.5700e+02, 6.6000e+01,\n",
       "       3.5100e+02, 1.7000e+01, 6.8000e+02, 2.4100e+02, 2.3000e+01,\n",
       "       7.8500e+02, 7.8500e+02, 1.6000e+01, 5.4000e+02, 2.8000e+01,\n",
       "       2.5000e+01, 1.0420e+03, 2.2000e+01, 1.0180e+03, 1.1600e+02,\n",
       "       5.4300e+02, 1.0630e+03, 1.1754e+04, 6.8500e+02, 1.1300e+02,\n",
       "       2.9800e+02, 1.4740e+03, 3.4220e+03, 3.5000e+01, 2.9800e+03,\n",
       "       2.3000e+01, 6.9000e+01, 2.7040e+03, 4.8500e+03, 3.2000e+01,\n",
       "       6.2000e+01, 1.4690e+03, 1.3700e+02, 3.0200e+02, 3.7600e+02,\n",
       "       1.2200e+02, 1.9000e+01, 6.8500e+02, 9.0000e+02, 9.8230e+03,\n",
       "       3.1000e+01, 1.4500e+02, 1.3990e+03, 3.2300e+02, 2.7660e+03,\n",
       "       2.2900e+02, 1.0160e+03, 1.4330e+03, 6.6000e+01, 5.4800e+02,\n",
       "       6.5200e+02, 5.4300e+02, 2.3970e+03, 1.2800e+02, 5.4300e+02,\n",
       "       6.7290e+03, 4.0000e+01, 1.8700e+02, 1.3360e+03, 1.0100e+02,\n",
       "       8.1300e+02, 1.7200e+02, 9.2800e+02])"
      ]
     },
     "execution_count": 91,
     "metadata": {},
     "output_type": "execute_result"
    }
   ],
   "source": [
    "model_Tree_Tuned.predict(X_test)"
   ]
  },
  {
   "cell_type": "code",
   "execution_count": 92,
   "metadata": {},
   "outputs": [],
   "source": [
    "model_Random = RandomizedSearchCV(model_Tree, param_distributions=param, n_iter = 20,cv = 4, n_jobs = -1, verbose=1, scoring='accuracy')"
   ]
  },
  {
   "cell_type": "code",
   "execution_count": 93,
   "metadata": {},
   "outputs": [
    {
     "name": "stdout",
     "output_type": "stream",
     "text": [
      "Fitting 4 folds for each of 20 candidates, totalling 80 fits\n"
     ]
    },
    {
     "name": "stderr",
     "output_type": "stream",
     "text": [
      "[Parallel(n_jobs=-1)]: Using backend LokyBackend with 8 concurrent workers.\n",
      "[Parallel(n_jobs=-1)]: Done  80 out of  80 | elapsed:    0.4s finished\n"
     ]
    },
    {
     "data": {
      "text/plain": [
       "RandomizedSearchCV(cv=4, estimator=DecisionTreeClassifier(), n_iter=20,\n",
       "                   n_jobs=-1,\n",
       "                   param_distributions={'criterion': ['gini', 'entropy'],\n",
       "                                        'max_depth': [4, 5, 6, 7, 8, 9, 10, 11,\n",
       "                                                      12, 15, 20, 30, 40, 50,\n",
       "                                                      70, 90, 120, 150]},\n",
       "                   scoring='accuracy', verbose=1)"
      ]
     },
     "execution_count": 93,
     "metadata": {},
     "output_type": "execute_result"
    }
   ],
   "source": [
    "model_Random.fit(X_train, y_train)"
   ]
  },
  {
   "cell_type": "code",
   "execution_count": 94,
   "metadata": {},
   "outputs": [
    {
     "data": {
      "text/plain": [
       "{'max_depth': 7, 'criterion': 'entropy'}"
      ]
     },
     "execution_count": 94,
     "metadata": {},
     "output_type": "execute_result"
    }
   ],
   "source": [
    "model_Random.best_params_"
   ]
  },
  {
   "cell_type": "code",
   "execution_count": 95,
   "metadata": {},
   "outputs": [
    {
     "data": {
      "text/plain": [
       "DecisionTreeClassifier(criterion='entropy', max_depth=7)"
      ]
     },
     "execution_count": 95,
     "metadata": {},
     "output_type": "execute_result"
    }
   ],
   "source": [
    "model_Random.best_estimator_"
   ]
  },
  {
   "cell_type": "code",
   "execution_count": 97,
   "metadata": {},
   "outputs": [],
   "source": [
    "model_Tree_Tuned1 = model_Random.best_estimator_"
   ]
  },
  {
   "cell_type": "code",
   "execution_count": 96,
   "metadata": {},
   "outputs": [
    {
     "data": {
      "text/plain": [
       "965.0"
      ]
     },
     "execution_count": 96,
     "metadata": {},
     "output_type": "execute_result"
    }
   ],
   "source": [
    "model_Tree_Tuned.predict([[1000, 2999, 3000, 4000, 4.5]])[0]"
   ]
  },
  {
   "cell_type": "code",
   "execution_count": 99,
   "metadata": {},
   "outputs": [
    {
     "data": {
      "text/plain": [
       "0.02247191011235955"
      ]
     },
     "execution_count": 99,
     "metadata": {},
     "output_type": "execute_result"
    }
   ],
   "source": [
    "model_Tree_Tuned.score(X_test, y_test)"
   ]
  },
  {
   "cell_type": "code",
   "execution_count": 98,
   "metadata": {},
   "outputs": [
    {
     "data": {
      "text/plain": [
       "918.0"
      ]
     },
     "execution_count": 98,
     "metadata": {},
     "output_type": "execute_result"
    }
   ],
   "source": [
    "model_Tree_Tuned1.predict([[1000, 2999, 3000, 4000, 4.5]])[0]"
   ]
  },
  {
   "cell_type": "code",
   "execution_count": 100,
   "metadata": {},
   "outputs": [
    {
     "data": {
      "text/plain": [
       "0.02247191011235955"
      ]
     },
     "execution_count": 100,
     "metadata": {},
     "output_type": "execute_result"
    }
   ],
   "source": [
    "model_Tree_Tuned1.score(X_test, y_test)"
   ]
  },
  {
   "cell_type": "markdown",
   "metadata": {},
   "source": [
    "## DecisionTreeClassifier tidak bisa dipakai"
   ]
  },
  {
   "cell_type": "markdown",
   "metadata": {},
   "source": [
    "# Rekomendasi AI"
   ]
  },
  {
   "cell_type": "code",
   "execution_count": 124,
   "metadata": {},
   "outputs": [
    {
     "data": {
      "text/plain": [
       "title               0\n",
       "mediaType          68\n",
       "eps               359\n",
       "duration         5441\n",
       "ongoing             0\n",
       "startYr           222\n",
       "finishYr          444\n",
       "sznOfRelease    10811\n",
       "description      6405\n",
       "studios             0\n",
       "tags                0\n",
       "contentWarn         0\n",
       "watched           222\n",
       "watching            0\n",
       "wantWatch           0\n",
       "dropped             0\n",
       "rating           2471\n",
       "votes            2459\n",
       "dtype: int64"
      ]
     },
     "execution_count": 124,
     "metadata": {},
     "output_type": "execute_result"
    }
   ],
   "source": [
    "df.isna().sum()"
   ]
  },
  {
   "cell_type": "code",
   "execution_count": 125,
   "metadata": {},
   "outputs": [],
   "source": [
    "df.dropna(inplace=True)"
   ]
  },
  {
   "cell_type": "code",
   "execution_count": 126,
   "metadata": {},
   "outputs": [
    {
     "data": {
      "text/html": [
       "<div>\n",
       "<style scoped>\n",
       "    .dataframe tbody tr th:only-of-type {\n",
       "        vertical-align: middle;\n",
       "    }\n",
       "\n",
       "    .dataframe tbody tr th {\n",
       "        vertical-align: top;\n",
       "    }\n",
       "\n",
       "    .dataframe thead th {\n",
       "        text-align: right;\n",
       "    }\n",
       "</style>\n",
       "<table border=\"1\" class=\"dataframe\">\n",
       "  <thead>\n",
       "    <tr style=\"text-align: right;\">\n",
       "      <th></th>\n",
       "      <th>title</th>\n",
       "      <th>mediaType</th>\n",
       "      <th>eps</th>\n",
       "      <th>duration</th>\n",
       "      <th>ongoing</th>\n",
       "      <th>startYr</th>\n",
       "      <th>finishYr</th>\n",
       "      <th>sznOfRelease</th>\n",
       "      <th>description</th>\n",
       "      <th>studios</th>\n",
       "      <th>tags</th>\n",
       "      <th>contentWarn</th>\n",
       "      <th>watched</th>\n",
       "      <th>watching</th>\n",
       "      <th>wantWatch</th>\n",
       "      <th>dropped</th>\n",
       "      <th>rating</th>\n",
       "      <th>votes</th>\n",
       "    </tr>\n",
       "  </thead>\n",
       "  <tbody>\n",
       "    <tr>\n",
       "      <th>149</th>\n",
       "      <td>The Disastrous Life of Saiki K.</td>\n",
       "      <td>TV</td>\n",
       "      <td>120.0</td>\n",
       "      <td>4.0</td>\n",
       "      <td>False</td>\n",
       "      <td>2016.0</td>\n",
       "      <td>2016.0</td>\n",
       "      <td>Summer</td>\n",
       "      <td>Kusuo Saiki is a typical 16-year-old high scho...</td>\n",
       "      <td>['J.C. Staff']</td>\n",
       "      <td>['Comedy', 'Shounen', 'Slice of Life', 'Breaki...</td>\n",
       "      <td>[]</td>\n",
       "      <td>15419.0</td>\n",
       "      <td>2694</td>\n",
       "      <td>4889</td>\n",
       "      <td>749</td>\n",
       "      <td>4.453</td>\n",
       "      <td>11754.0</td>\n",
       "    </tr>\n",
       "    <tr>\n",
       "      <th>222</th>\n",
       "      <td>Castlevania Season 2</td>\n",
       "      <td>Web</td>\n",
       "      <td>8.0</td>\n",
       "      <td>25.0</td>\n",
       "      <td>False</td>\n",
       "      <td>2018.0</td>\n",
       "      <td>2018.0</td>\n",
       "      <td>Fall</td>\n",
       "      <td>Trying to save Eastern Europe from extinction ...</td>\n",
       "      <td>['Powerhouse Animation', 'Frederator Studios']</td>\n",
       "      <td>['Action', 'Adventure', 'Drama', 'Horror', '15...</td>\n",
       "      <td>['Explicit Violence', 'Mature Themes', 'Physic...</td>\n",
       "      <td>8010.0</td>\n",
       "      <td>384</td>\n",
       "      <td>2207</td>\n",
       "      <td>58</td>\n",
       "      <td>4.409</td>\n",
       "      <td>5564.0</td>\n",
       "    </tr>\n",
       "    <tr>\n",
       "      <th>236</th>\n",
       "      <td>The Disastrous Life of Saiki K. - Reawakened</td>\n",
       "      <td>Web</td>\n",
       "      <td>6.0</td>\n",
       "      <td>23.0</td>\n",
       "      <td>False</td>\n",
       "      <td>2019.0</td>\n",
       "      <td>2019.0</td>\n",
       "      <td>Winter</td>\n",
       "      <td>Kusuo and his gaggle of self-proclaimed friend...</td>\n",
       "      <td>['J.C. Staff']</td>\n",
       "      <td>['Comedy', 'Shounen', 'Breaking the Fourth Wal...</td>\n",
       "      <td>[]</td>\n",
       "      <td>3136.0</td>\n",
       "      <td>258</td>\n",
       "      <td>1402</td>\n",
       "      <td>26</td>\n",
       "      <td>4.400</td>\n",
       "      <td>1942.0</td>\n",
       "    </tr>\n",
       "    <tr>\n",
       "      <th>238</th>\n",
       "      <td>Katanagatari</td>\n",
       "      <td>TV</td>\n",
       "      <td>12.0</td>\n",
       "      <td>50.0</td>\n",
       "      <td>False</td>\n",
       "      <td>2010.0</td>\n",
       "      <td>2010.0</td>\n",
       "      <td>Winter</td>\n",
       "      <td>In the wake of a rebellion that shook Japan tw...</td>\n",
       "      <td>['WHITE FOX']</td>\n",
       "      <td>['Action', 'Adventure', 'Drama', 'Fantasy', 'R...</td>\n",
       "      <td>[]</td>\n",
       "      <td>14691.0</td>\n",
       "      <td>2657</td>\n",
       "      <td>12044</td>\n",
       "      <td>1159</td>\n",
       "      <td>4.402</td>\n",
       "      <td>12974.0</td>\n",
       "    </tr>\n",
       "    <tr>\n",
       "      <th>241</th>\n",
       "      <td>Castlevania Season 3</td>\n",
       "      <td>Web</td>\n",
       "      <td>10.0</td>\n",
       "      <td>28.0</td>\n",
       "      <td>False</td>\n",
       "      <td>2020.0</td>\n",
       "      <td>2020.0</td>\n",
       "      <td>Winter</td>\n",
       "      <td>After the fall of Dracula, heroes and villains...</td>\n",
       "      <td>['Powerhouse Animation', 'Frederator Studios']</td>\n",
       "      <td>['Action', 'Adventure', 'Drama', 'Horror', '15...</td>\n",
       "      <td>['Explicit Sex', 'Explicit Violence', 'Mature ...</td>\n",
       "      <td>2975.0</td>\n",
       "      <td>312</td>\n",
       "      <td>2828</td>\n",
       "      <td>20</td>\n",
       "      <td>4.402</td>\n",
       "      <td>2128.0</td>\n",
       "    </tr>\n",
       "  </tbody>\n",
       "</table>\n",
       "</div>"
      ],
      "text/plain": [
       "                                            title mediaType    eps  duration  \\\n",
       "149               The Disastrous Life of Saiki K.        TV  120.0       4.0   \n",
       "222                          Castlevania Season 2       Web    8.0      25.0   \n",
       "236  The Disastrous Life of Saiki K. - Reawakened       Web    6.0      23.0   \n",
       "238                                  Katanagatari        TV   12.0      50.0   \n",
       "241                          Castlevania Season 3       Web   10.0      28.0   \n",
       "\n",
       "     ongoing  startYr  finishYr sznOfRelease  \\\n",
       "149    False   2016.0    2016.0       Summer   \n",
       "222    False   2018.0    2018.0         Fall   \n",
       "236    False   2019.0    2019.0       Winter   \n",
       "238    False   2010.0    2010.0       Winter   \n",
       "241    False   2020.0    2020.0       Winter   \n",
       "\n",
       "                                           description  \\\n",
       "149  Kusuo Saiki is a typical 16-year-old high scho...   \n",
       "222  Trying to save Eastern Europe from extinction ...   \n",
       "236  Kusuo and his gaggle of self-proclaimed friend...   \n",
       "238  In the wake of a rebellion that shook Japan tw...   \n",
       "241  After the fall of Dracula, heroes and villains...   \n",
       "\n",
       "                                            studios  \\\n",
       "149                                  ['J.C. Staff']   \n",
       "222  ['Powerhouse Animation', 'Frederator Studios']   \n",
       "236                                  ['J.C. Staff']   \n",
       "238                                   ['WHITE FOX']   \n",
       "241  ['Powerhouse Animation', 'Frederator Studios']   \n",
       "\n",
       "                                                  tags  \\\n",
       "149  ['Comedy', 'Shounen', 'Slice of Life', 'Breaki...   \n",
       "222  ['Action', 'Adventure', 'Drama', 'Horror', '15...   \n",
       "236  ['Comedy', 'Shounen', 'Breaking the Fourth Wal...   \n",
       "238  ['Action', 'Adventure', 'Drama', 'Fantasy', 'R...   \n",
       "241  ['Action', 'Adventure', 'Drama', 'Horror', '15...   \n",
       "\n",
       "                                           contentWarn  watched  watching  \\\n",
       "149                                                 []  15419.0      2694   \n",
       "222  ['Explicit Violence', 'Mature Themes', 'Physic...   8010.0       384   \n",
       "236                                                 []   3136.0       258   \n",
       "238                                                 []  14691.0      2657   \n",
       "241  ['Explicit Sex', 'Explicit Violence', 'Mature ...   2975.0       312   \n",
       "\n",
       "     wantWatch  dropped  rating    votes  \n",
       "149       4889      749   4.453  11754.0  \n",
       "222       2207       58   4.409   5564.0  \n",
       "236       1402       26   4.400   1942.0  \n",
       "238      12044     1159   4.402  12974.0  \n",
       "241       2828       20   4.402   2128.0  "
      ]
     },
     "execution_count": 126,
     "metadata": {},
     "output_type": "execute_result"
    }
   ],
   "source": [
    "df.head()"
   ]
  },
  {
   "cell_type": "code",
   "execution_count": 127,
   "metadata": {},
   "outputs": [],
   "source": [
    "fitur = [\"studios\", \"tags\", \"contentWarn\", \"sznOfRelease\"]"
   ]
  },
  {
   "cell_type": "code",
   "execution_count": 128,
   "metadata": {},
   "outputs": [],
   "source": [
    "def combo_feature(x):\n",
    "    return x['studios'] + \" \" + x['tags'] + \" \" + x['contentWarn'] + \" \" + x['sznOfRelease']"
   ]
  },
  {
   "cell_type": "code",
   "execution_count": 129,
   "metadata": {},
   "outputs": [],
   "source": [
    "for i in fitur:\n",
    "    df[i] = df[i].fillna(\"\")"
   ]
  },
  {
   "cell_type": "code",
   "execution_count": 130,
   "metadata": {},
   "outputs": [],
   "source": [
    "df['combo_feature'] = df.apply(combo_feature, axis=1)"
   ]
  },
  {
   "cell_type": "code",
   "execution_count": 131,
   "metadata": {},
   "outputs": [
    {
     "data": {
      "text/html": [
       "<div>\n",
       "<style scoped>\n",
       "    .dataframe tbody tr th:only-of-type {\n",
       "        vertical-align: middle;\n",
       "    }\n",
       "\n",
       "    .dataframe tbody tr th {\n",
       "        vertical-align: top;\n",
       "    }\n",
       "\n",
       "    .dataframe thead th {\n",
       "        text-align: right;\n",
       "    }\n",
       "</style>\n",
       "<table border=\"1\" class=\"dataframe\">\n",
       "  <thead>\n",
       "    <tr style=\"text-align: right;\">\n",
       "      <th></th>\n",
       "      <th>title</th>\n",
       "      <th>mediaType</th>\n",
       "      <th>eps</th>\n",
       "      <th>duration</th>\n",
       "      <th>ongoing</th>\n",
       "      <th>startYr</th>\n",
       "      <th>finishYr</th>\n",
       "      <th>sznOfRelease</th>\n",
       "      <th>description</th>\n",
       "      <th>studios</th>\n",
       "      <th>tags</th>\n",
       "      <th>contentWarn</th>\n",
       "      <th>watched</th>\n",
       "      <th>watching</th>\n",
       "      <th>wantWatch</th>\n",
       "      <th>dropped</th>\n",
       "      <th>rating</th>\n",
       "      <th>votes</th>\n",
       "      <th>combo_feature</th>\n",
       "    </tr>\n",
       "  </thead>\n",
       "  <tbody>\n",
       "    <tr>\n",
       "      <th>149</th>\n",
       "      <td>The Disastrous Life of Saiki K.</td>\n",
       "      <td>TV</td>\n",
       "      <td>120.0</td>\n",
       "      <td>4.0</td>\n",
       "      <td>False</td>\n",
       "      <td>2016.0</td>\n",
       "      <td>2016.0</td>\n",
       "      <td>Summer</td>\n",
       "      <td>Kusuo Saiki is a typical 16-year-old high scho...</td>\n",
       "      <td>['J.C. Staff']</td>\n",
       "      <td>['Comedy', 'Shounen', 'Slice of Life', 'Breaki...</td>\n",
       "      <td>[]</td>\n",
       "      <td>15419.0</td>\n",
       "      <td>2694</td>\n",
       "      <td>4889</td>\n",
       "      <td>749</td>\n",
       "      <td>4.453</td>\n",
       "      <td>11754.0</td>\n",
       "      <td>['J.C. Staff'] ['Comedy', 'Shounen', 'Slice of...</td>\n",
       "    </tr>\n",
       "    <tr>\n",
       "      <th>222</th>\n",
       "      <td>Castlevania Season 2</td>\n",
       "      <td>Web</td>\n",
       "      <td>8.0</td>\n",
       "      <td>25.0</td>\n",
       "      <td>False</td>\n",
       "      <td>2018.0</td>\n",
       "      <td>2018.0</td>\n",
       "      <td>Fall</td>\n",
       "      <td>Trying to save Eastern Europe from extinction ...</td>\n",
       "      <td>['Powerhouse Animation', 'Frederator Studios']</td>\n",
       "      <td>['Action', 'Adventure', 'Drama', 'Horror', '15...</td>\n",
       "      <td>['Explicit Violence', 'Mature Themes', 'Physic...</td>\n",
       "      <td>8010.0</td>\n",
       "      <td>384</td>\n",
       "      <td>2207</td>\n",
       "      <td>58</td>\n",
       "      <td>4.409</td>\n",
       "      <td>5564.0</td>\n",
       "      <td>['Powerhouse Animation', 'Frederator Studios']...</td>\n",
       "    </tr>\n",
       "    <tr>\n",
       "      <th>236</th>\n",
       "      <td>The Disastrous Life of Saiki K. - Reawakened</td>\n",
       "      <td>Web</td>\n",
       "      <td>6.0</td>\n",
       "      <td>23.0</td>\n",
       "      <td>False</td>\n",
       "      <td>2019.0</td>\n",
       "      <td>2019.0</td>\n",
       "      <td>Winter</td>\n",
       "      <td>Kusuo and his gaggle of self-proclaimed friend...</td>\n",
       "      <td>['J.C. Staff']</td>\n",
       "      <td>['Comedy', 'Shounen', 'Breaking the Fourth Wal...</td>\n",
       "      <td>[]</td>\n",
       "      <td>3136.0</td>\n",
       "      <td>258</td>\n",
       "      <td>1402</td>\n",
       "      <td>26</td>\n",
       "      <td>4.400</td>\n",
       "      <td>1942.0</td>\n",
       "      <td>['J.C. Staff'] ['Comedy', 'Shounen', 'Breaking...</td>\n",
       "    </tr>\n",
       "    <tr>\n",
       "      <th>238</th>\n",
       "      <td>Katanagatari</td>\n",
       "      <td>TV</td>\n",
       "      <td>12.0</td>\n",
       "      <td>50.0</td>\n",
       "      <td>False</td>\n",
       "      <td>2010.0</td>\n",
       "      <td>2010.0</td>\n",
       "      <td>Winter</td>\n",
       "      <td>In the wake of a rebellion that shook Japan tw...</td>\n",
       "      <td>['WHITE FOX']</td>\n",
       "      <td>['Action', 'Adventure', 'Drama', 'Fantasy', 'R...</td>\n",
       "      <td>[]</td>\n",
       "      <td>14691.0</td>\n",
       "      <td>2657</td>\n",
       "      <td>12044</td>\n",
       "      <td>1159</td>\n",
       "      <td>4.402</td>\n",
       "      <td>12974.0</td>\n",
       "      <td>['WHITE FOX'] ['Action', 'Adventure', 'Drama',...</td>\n",
       "    </tr>\n",
       "    <tr>\n",
       "      <th>241</th>\n",
       "      <td>Castlevania Season 3</td>\n",
       "      <td>Web</td>\n",
       "      <td>10.0</td>\n",
       "      <td>28.0</td>\n",
       "      <td>False</td>\n",
       "      <td>2020.0</td>\n",
       "      <td>2020.0</td>\n",
       "      <td>Winter</td>\n",
       "      <td>After the fall of Dracula, heroes and villains...</td>\n",
       "      <td>['Powerhouse Animation', 'Frederator Studios']</td>\n",
       "      <td>['Action', 'Adventure', 'Drama', 'Horror', '15...</td>\n",
       "      <td>['Explicit Sex', 'Explicit Violence', 'Mature ...</td>\n",
       "      <td>2975.0</td>\n",
       "      <td>312</td>\n",
       "      <td>2828</td>\n",
       "      <td>20</td>\n",
       "      <td>4.402</td>\n",
       "      <td>2128.0</td>\n",
       "      <td>['Powerhouse Animation', 'Frederator Studios']...</td>\n",
       "    </tr>\n",
       "  </tbody>\n",
       "</table>\n",
       "</div>"
      ],
      "text/plain": [
       "                                            title mediaType    eps  duration  \\\n",
       "149               The Disastrous Life of Saiki K.        TV  120.0       4.0   \n",
       "222                          Castlevania Season 2       Web    8.0      25.0   \n",
       "236  The Disastrous Life of Saiki K. - Reawakened       Web    6.0      23.0   \n",
       "238                                  Katanagatari        TV   12.0      50.0   \n",
       "241                          Castlevania Season 3       Web   10.0      28.0   \n",
       "\n",
       "     ongoing  startYr  finishYr sznOfRelease  \\\n",
       "149    False   2016.0    2016.0       Summer   \n",
       "222    False   2018.0    2018.0         Fall   \n",
       "236    False   2019.0    2019.0       Winter   \n",
       "238    False   2010.0    2010.0       Winter   \n",
       "241    False   2020.0    2020.0       Winter   \n",
       "\n",
       "                                           description  \\\n",
       "149  Kusuo Saiki is a typical 16-year-old high scho...   \n",
       "222  Trying to save Eastern Europe from extinction ...   \n",
       "236  Kusuo and his gaggle of self-proclaimed friend...   \n",
       "238  In the wake of a rebellion that shook Japan tw...   \n",
       "241  After the fall of Dracula, heroes and villains...   \n",
       "\n",
       "                                            studios  \\\n",
       "149                                  ['J.C. Staff']   \n",
       "222  ['Powerhouse Animation', 'Frederator Studios']   \n",
       "236                                  ['J.C. Staff']   \n",
       "238                                   ['WHITE FOX']   \n",
       "241  ['Powerhouse Animation', 'Frederator Studios']   \n",
       "\n",
       "                                                  tags  \\\n",
       "149  ['Comedy', 'Shounen', 'Slice of Life', 'Breaki...   \n",
       "222  ['Action', 'Adventure', 'Drama', 'Horror', '15...   \n",
       "236  ['Comedy', 'Shounen', 'Breaking the Fourth Wal...   \n",
       "238  ['Action', 'Adventure', 'Drama', 'Fantasy', 'R...   \n",
       "241  ['Action', 'Adventure', 'Drama', 'Horror', '15...   \n",
       "\n",
       "                                           contentWarn  watched  watching  \\\n",
       "149                                                 []  15419.0      2694   \n",
       "222  ['Explicit Violence', 'Mature Themes', 'Physic...   8010.0       384   \n",
       "236                                                 []   3136.0       258   \n",
       "238                                                 []  14691.0      2657   \n",
       "241  ['Explicit Sex', 'Explicit Violence', 'Mature ...   2975.0       312   \n",
       "\n",
       "     wantWatch  dropped  rating    votes  \\\n",
       "149       4889      749   4.453  11754.0   \n",
       "222       2207       58   4.409   5564.0   \n",
       "236       1402       26   4.400   1942.0   \n",
       "238      12044     1159   4.402  12974.0   \n",
       "241       2828       20   4.402   2128.0   \n",
       "\n",
       "                                         combo_feature  \n",
       "149  ['J.C. Staff'] ['Comedy', 'Shounen', 'Slice of...  \n",
       "222  ['Powerhouse Animation', 'Frederator Studios']...  \n",
       "236  ['J.C. Staff'] ['Comedy', 'Shounen', 'Breaking...  \n",
       "238  ['WHITE FOX'] ['Action', 'Adventure', 'Drama',...  \n",
       "241  ['Powerhouse Animation', 'Frederator Studios']...  "
      ]
     },
     "execution_count": 131,
     "metadata": {},
     "output_type": "execute_result"
    }
   ],
   "source": [
    "df.head()"
   ]
  },
  {
   "cell_type": "code",
   "execution_count": 156,
   "metadata": {},
   "outputs": [
    {
     "data": {
      "text/html": [
       "<div>\n",
       "<style scoped>\n",
       "    .dataframe tbody tr th:only-of-type {\n",
       "        vertical-align: middle;\n",
       "    }\n",
       "\n",
       "    .dataframe tbody tr th {\n",
       "        vertical-align: top;\n",
       "    }\n",
       "\n",
       "    .dataframe thead th {\n",
       "        text-align: right;\n",
       "    }\n",
       "</style>\n",
       "<table border=\"1\" class=\"dataframe\">\n",
       "  <thead>\n",
       "    <tr style=\"text-align: right;\">\n",
       "      <th></th>\n",
       "      <th>title</th>\n",
       "      <th>mediaType</th>\n",
       "      <th>eps</th>\n",
       "      <th>duration</th>\n",
       "      <th>ongoing</th>\n",
       "      <th>startYr</th>\n",
       "      <th>finishYr</th>\n",
       "      <th>sznOfRelease</th>\n",
       "      <th>description</th>\n",
       "      <th>studios</th>\n",
       "      <th>tags</th>\n",
       "      <th>contentWarn</th>\n",
       "      <th>watched</th>\n",
       "      <th>watching</th>\n",
       "      <th>wantWatch</th>\n",
       "      <th>dropped</th>\n",
       "      <th>rating</th>\n",
       "      <th>votes</th>\n",
       "      <th>combo_feature</th>\n",
       "    </tr>\n",
       "  </thead>\n",
       "  <tbody>\n",
       "    <tr>\n",
       "      <th>0</th>\n",
       "      <td>The Disastrous Life of Saiki K.</td>\n",
       "      <td>TV</td>\n",
       "      <td>120.0</td>\n",
       "      <td>4.0</td>\n",
       "      <td>False</td>\n",
       "      <td>2016.0</td>\n",
       "      <td>2016.0</td>\n",
       "      <td>Summer</td>\n",
       "      <td>Kusuo Saiki is a typical 16-year-old high scho...</td>\n",
       "      <td>['J.C. Staff']</td>\n",
       "      <td>['Comedy', 'Shounen', 'Slice of Life', 'Breaki...</td>\n",
       "      <td>[]</td>\n",
       "      <td>15419.0</td>\n",
       "      <td>2694</td>\n",
       "      <td>4889</td>\n",
       "      <td>749</td>\n",
       "      <td>4.453</td>\n",
       "      <td>11754.0</td>\n",
       "      <td>['J.C. Staff'] ['Comedy', 'Shounen', 'Slice of...</td>\n",
       "    </tr>\n",
       "    <tr>\n",
       "      <th>1</th>\n",
       "      <td>Castlevania Season 2</td>\n",
       "      <td>Web</td>\n",
       "      <td>8.0</td>\n",
       "      <td>25.0</td>\n",
       "      <td>False</td>\n",
       "      <td>2018.0</td>\n",
       "      <td>2018.0</td>\n",
       "      <td>Fall</td>\n",
       "      <td>Trying to save Eastern Europe from extinction ...</td>\n",
       "      <td>['Powerhouse Animation', 'Frederator Studios']</td>\n",
       "      <td>['Action', 'Adventure', 'Drama', 'Horror', '15...</td>\n",
       "      <td>['Explicit Violence', 'Mature Themes', 'Physic...</td>\n",
       "      <td>8010.0</td>\n",
       "      <td>384</td>\n",
       "      <td>2207</td>\n",
       "      <td>58</td>\n",
       "      <td>4.409</td>\n",
       "      <td>5564.0</td>\n",
       "      <td>['Powerhouse Animation', 'Frederator Studios']...</td>\n",
       "    </tr>\n",
       "    <tr>\n",
       "      <th>2</th>\n",
       "      <td>The Disastrous Life of Saiki K. - Reawakened</td>\n",
       "      <td>Web</td>\n",
       "      <td>6.0</td>\n",
       "      <td>23.0</td>\n",
       "      <td>False</td>\n",
       "      <td>2019.0</td>\n",
       "      <td>2019.0</td>\n",
       "      <td>Winter</td>\n",
       "      <td>Kusuo and his gaggle of self-proclaimed friend...</td>\n",
       "      <td>['J.C. Staff']</td>\n",
       "      <td>['Comedy', 'Shounen', 'Breaking the Fourth Wal...</td>\n",
       "      <td>[]</td>\n",
       "      <td>3136.0</td>\n",
       "      <td>258</td>\n",
       "      <td>1402</td>\n",
       "      <td>26</td>\n",
       "      <td>4.400</td>\n",
       "      <td>1942.0</td>\n",
       "      <td>['J.C. Staff'] ['Comedy', 'Shounen', 'Breaking...</td>\n",
       "    </tr>\n",
       "    <tr>\n",
       "      <th>3</th>\n",
       "      <td>Katanagatari</td>\n",
       "      <td>TV</td>\n",
       "      <td>12.0</td>\n",
       "      <td>50.0</td>\n",
       "      <td>False</td>\n",
       "      <td>2010.0</td>\n",
       "      <td>2010.0</td>\n",
       "      <td>Winter</td>\n",
       "      <td>In the wake of a rebellion that shook Japan tw...</td>\n",
       "      <td>['WHITE FOX']</td>\n",
       "      <td>['Action', 'Adventure', 'Drama', 'Fantasy', 'R...</td>\n",
       "      <td>[]</td>\n",
       "      <td>14691.0</td>\n",
       "      <td>2657</td>\n",
       "      <td>12044</td>\n",
       "      <td>1159</td>\n",
       "      <td>4.402</td>\n",
       "      <td>12974.0</td>\n",
       "      <td>['WHITE FOX'] ['Action', 'Adventure', 'Drama',...</td>\n",
       "    </tr>\n",
       "    <tr>\n",
       "      <th>4</th>\n",
       "      <td>Castlevania Season 3</td>\n",
       "      <td>Web</td>\n",
       "      <td>10.0</td>\n",
       "      <td>28.0</td>\n",
       "      <td>False</td>\n",
       "      <td>2020.0</td>\n",
       "      <td>2020.0</td>\n",
       "      <td>Winter</td>\n",
       "      <td>After the fall of Dracula, heroes and villains...</td>\n",
       "      <td>['Powerhouse Animation', 'Frederator Studios']</td>\n",
       "      <td>['Action', 'Adventure', 'Drama', 'Horror', '15...</td>\n",
       "      <td>['Explicit Sex', 'Explicit Violence', 'Mature ...</td>\n",
       "      <td>2975.0</td>\n",
       "      <td>312</td>\n",
       "      <td>2828</td>\n",
       "      <td>20</td>\n",
       "      <td>4.402</td>\n",
       "      <td>2128.0</td>\n",
       "      <td>['Powerhouse Animation', 'Frederator Studios']...</td>\n",
       "    </tr>\n",
       "  </tbody>\n",
       "</table>\n",
       "</div>"
      ],
      "text/plain": [
       "                                          title mediaType    eps  duration  \\\n",
       "0               The Disastrous Life of Saiki K.        TV  120.0       4.0   \n",
       "1                          Castlevania Season 2       Web    8.0      25.0   \n",
       "2  The Disastrous Life of Saiki K. - Reawakened       Web    6.0      23.0   \n",
       "3                                  Katanagatari        TV   12.0      50.0   \n",
       "4                          Castlevania Season 3       Web   10.0      28.0   \n",
       "\n",
       "   ongoing  startYr  finishYr sznOfRelease  \\\n",
       "0    False   2016.0    2016.0       Summer   \n",
       "1    False   2018.0    2018.0         Fall   \n",
       "2    False   2019.0    2019.0       Winter   \n",
       "3    False   2010.0    2010.0       Winter   \n",
       "4    False   2020.0    2020.0       Winter   \n",
       "\n",
       "                                         description  \\\n",
       "0  Kusuo Saiki is a typical 16-year-old high scho...   \n",
       "1  Trying to save Eastern Europe from extinction ...   \n",
       "2  Kusuo and his gaggle of self-proclaimed friend...   \n",
       "3  In the wake of a rebellion that shook Japan tw...   \n",
       "4  After the fall of Dracula, heroes and villains...   \n",
       "\n",
       "                                          studios  \\\n",
       "0                                  ['J.C. Staff']   \n",
       "1  ['Powerhouse Animation', 'Frederator Studios']   \n",
       "2                                  ['J.C. Staff']   \n",
       "3                                   ['WHITE FOX']   \n",
       "4  ['Powerhouse Animation', 'Frederator Studios']   \n",
       "\n",
       "                                                tags  \\\n",
       "0  ['Comedy', 'Shounen', 'Slice of Life', 'Breaki...   \n",
       "1  ['Action', 'Adventure', 'Drama', 'Horror', '15...   \n",
       "2  ['Comedy', 'Shounen', 'Breaking the Fourth Wal...   \n",
       "3  ['Action', 'Adventure', 'Drama', 'Fantasy', 'R...   \n",
       "4  ['Action', 'Adventure', 'Drama', 'Horror', '15...   \n",
       "\n",
       "                                         contentWarn  watched  watching  \\\n",
       "0                                                 []  15419.0      2694   \n",
       "1  ['Explicit Violence', 'Mature Themes', 'Physic...   8010.0       384   \n",
       "2                                                 []   3136.0       258   \n",
       "3                                                 []  14691.0      2657   \n",
       "4  ['Explicit Sex', 'Explicit Violence', 'Mature ...   2975.0       312   \n",
       "\n",
       "   wantWatch  dropped  rating    votes  \\\n",
       "0       4889      749   4.453  11754.0   \n",
       "1       2207       58   4.409   5564.0   \n",
       "2       1402       26   4.400   1942.0   \n",
       "3      12044     1159   4.402  12974.0   \n",
       "4       2828       20   4.402   2128.0   \n",
       "\n",
       "                                       combo_feature  \n",
       "0  ['J.C. Staff'] ['Comedy', 'Shounen', 'Slice of...  \n",
       "1  ['Powerhouse Animation', 'Frederator Studios']...  \n",
       "2  ['J.C. Staff'] ['Comedy', 'Shounen', 'Breaking...  \n",
       "3  ['WHITE FOX'] ['Action', 'Adventure', 'Drama',...  \n",
       "4  ['Powerhouse Animation', 'Frederator Studios']...  "
      ]
     },
     "execution_count": 156,
     "metadata": {},
     "output_type": "execute_result"
    }
   ],
   "source": [
    "df.head()"
   ]
  },
  {
   "cell_type": "code",
   "execution_count": 161,
   "metadata": {},
   "outputs": [],
   "source": [
    "df['Index'] = list(range(len(df.index)))"
   ]
  },
  {
   "cell_type": "code",
   "execution_count": 171,
   "metadata": {},
   "outputs": [
    {
     "data": {
      "text/html": [
       "<div>\n",
       "<style scoped>\n",
       "    .dataframe tbody tr th:only-of-type {\n",
       "        vertical-align: middle;\n",
       "    }\n",
       "\n",
       "    .dataframe tbody tr th {\n",
       "        vertical-align: top;\n",
       "    }\n",
       "\n",
       "    .dataframe thead th {\n",
       "        text-align: right;\n",
       "    }\n",
       "</style>\n",
       "<table border=\"1\" class=\"dataframe\">\n",
       "  <thead>\n",
       "    <tr style=\"text-align: right;\">\n",
       "      <th></th>\n",
       "      <th>title</th>\n",
       "      <th>mediaType</th>\n",
       "      <th>eps</th>\n",
       "      <th>duration</th>\n",
       "      <th>ongoing</th>\n",
       "      <th>startYr</th>\n",
       "      <th>finishYr</th>\n",
       "      <th>sznOfRelease</th>\n",
       "      <th>description</th>\n",
       "      <th>studios</th>\n",
       "      <th>tags</th>\n",
       "      <th>contentWarn</th>\n",
       "      <th>watched</th>\n",
       "      <th>watching</th>\n",
       "      <th>wantWatch</th>\n",
       "      <th>dropped</th>\n",
       "      <th>rating</th>\n",
       "      <th>votes</th>\n",
       "      <th>combo_feature</th>\n",
       "      <th>Index</th>\n",
       "    </tr>\n",
       "  </thead>\n",
       "  <tbody>\n",
       "    <tr>\n",
       "      <th>0</th>\n",
       "      <td>The Disastrous Life of Saiki K.</td>\n",
       "      <td>TV</td>\n",
       "      <td>120.0</td>\n",
       "      <td>4.0</td>\n",
       "      <td>False</td>\n",
       "      <td>2016.0</td>\n",
       "      <td>2016.0</td>\n",
       "      <td>Summer</td>\n",
       "      <td>Kusuo Saiki is a typical 16-year-old high scho...</td>\n",
       "      <td>['J.C. Staff']</td>\n",
       "      <td>['Comedy', 'Shounen', 'Slice of Life', 'Breaki...</td>\n",
       "      <td>[]</td>\n",
       "      <td>15419.0</td>\n",
       "      <td>2694</td>\n",
       "      <td>4889</td>\n",
       "      <td>749</td>\n",
       "      <td>4.453</td>\n",
       "      <td>11754.0</td>\n",
       "      <td>['J.C. Staff'] ['Comedy', 'Shounen', 'Slice of...</td>\n",
       "      <td>0</td>\n",
       "    </tr>\n",
       "    <tr>\n",
       "      <th>1</th>\n",
       "      <td>Castlevania Season 2</td>\n",
       "      <td>Web</td>\n",
       "      <td>8.0</td>\n",
       "      <td>25.0</td>\n",
       "      <td>False</td>\n",
       "      <td>2018.0</td>\n",
       "      <td>2018.0</td>\n",
       "      <td>Fall</td>\n",
       "      <td>Trying to save Eastern Europe from extinction ...</td>\n",
       "      <td>['Powerhouse Animation', 'Frederator Studios']</td>\n",
       "      <td>['Action', 'Adventure', 'Drama', 'Horror', '15...</td>\n",
       "      <td>['Explicit Violence', 'Mature Themes', 'Physic...</td>\n",
       "      <td>8010.0</td>\n",
       "      <td>384</td>\n",
       "      <td>2207</td>\n",
       "      <td>58</td>\n",
       "      <td>4.409</td>\n",
       "      <td>5564.0</td>\n",
       "      <td>['Powerhouse Animation', 'Frederator Studios']...</td>\n",
       "      <td>1</td>\n",
       "    </tr>\n",
       "    <tr>\n",
       "      <th>2</th>\n",
       "      <td>The Disastrous Life of Saiki K. - Reawakened</td>\n",
       "      <td>Web</td>\n",
       "      <td>6.0</td>\n",
       "      <td>23.0</td>\n",
       "      <td>False</td>\n",
       "      <td>2019.0</td>\n",
       "      <td>2019.0</td>\n",
       "      <td>Winter</td>\n",
       "      <td>Kusuo and his gaggle of self-proclaimed friend...</td>\n",
       "      <td>['J.C. Staff']</td>\n",
       "      <td>['Comedy', 'Shounen', 'Breaking the Fourth Wal...</td>\n",
       "      <td>[]</td>\n",
       "      <td>3136.0</td>\n",
       "      <td>258</td>\n",
       "      <td>1402</td>\n",
       "      <td>26</td>\n",
       "      <td>4.400</td>\n",
       "      <td>1942.0</td>\n",
       "      <td>['J.C. Staff'] ['Comedy', 'Shounen', 'Breaking...</td>\n",
       "      <td>2</td>\n",
       "    </tr>\n",
       "    <tr>\n",
       "      <th>3</th>\n",
       "      <td>Katanagatari</td>\n",
       "      <td>TV</td>\n",
       "      <td>12.0</td>\n",
       "      <td>50.0</td>\n",
       "      <td>False</td>\n",
       "      <td>2010.0</td>\n",
       "      <td>2010.0</td>\n",
       "      <td>Winter</td>\n",
       "      <td>In the wake of a rebellion that shook Japan tw...</td>\n",
       "      <td>['WHITE FOX']</td>\n",
       "      <td>['Action', 'Adventure', 'Drama', 'Fantasy', 'R...</td>\n",
       "      <td>[]</td>\n",
       "      <td>14691.0</td>\n",
       "      <td>2657</td>\n",
       "      <td>12044</td>\n",
       "      <td>1159</td>\n",
       "      <td>4.402</td>\n",
       "      <td>12974.0</td>\n",
       "      <td>['WHITE FOX'] ['Action', 'Adventure', 'Drama',...</td>\n",
       "      <td>3</td>\n",
       "    </tr>\n",
       "    <tr>\n",
       "      <th>4</th>\n",
       "      <td>Castlevania Season 3</td>\n",
       "      <td>Web</td>\n",
       "      <td>10.0</td>\n",
       "      <td>28.0</td>\n",
       "      <td>False</td>\n",
       "      <td>2020.0</td>\n",
       "      <td>2020.0</td>\n",
       "      <td>Winter</td>\n",
       "      <td>After the fall of Dracula, heroes and villains...</td>\n",
       "      <td>['Powerhouse Animation', 'Frederator Studios']</td>\n",
       "      <td>['Action', 'Adventure', 'Drama', 'Horror', '15...</td>\n",
       "      <td>['Explicit Sex', 'Explicit Violence', 'Mature ...</td>\n",
       "      <td>2975.0</td>\n",
       "      <td>312</td>\n",
       "      <td>2828</td>\n",
       "      <td>20</td>\n",
       "      <td>4.402</td>\n",
       "      <td>2128.0</td>\n",
       "      <td>['Powerhouse Animation', 'Frederator Studios']...</td>\n",
       "      <td>4</td>\n",
       "    </tr>\n",
       "  </tbody>\n",
       "</table>\n",
       "</div>"
      ],
      "text/plain": [
       "                                          title mediaType    eps  duration  \\\n",
       "0               The Disastrous Life of Saiki K.        TV  120.0       4.0   \n",
       "1                          Castlevania Season 2       Web    8.0      25.0   \n",
       "2  The Disastrous Life of Saiki K. - Reawakened       Web    6.0      23.0   \n",
       "3                                  Katanagatari        TV   12.0      50.0   \n",
       "4                          Castlevania Season 3       Web   10.0      28.0   \n",
       "\n",
       "   ongoing  startYr  finishYr sznOfRelease  \\\n",
       "0    False   2016.0    2016.0       Summer   \n",
       "1    False   2018.0    2018.0         Fall   \n",
       "2    False   2019.0    2019.0       Winter   \n",
       "3    False   2010.0    2010.0       Winter   \n",
       "4    False   2020.0    2020.0       Winter   \n",
       "\n",
       "                                         description  \\\n",
       "0  Kusuo Saiki is a typical 16-year-old high scho...   \n",
       "1  Trying to save Eastern Europe from extinction ...   \n",
       "2  Kusuo and his gaggle of self-proclaimed friend...   \n",
       "3  In the wake of a rebellion that shook Japan tw...   \n",
       "4  After the fall of Dracula, heroes and villains...   \n",
       "\n",
       "                                          studios  \\\n",
       "0                                  ['J.C. Staff']   \n",
       "1  ['Powerhouse Animation', 'Frederator Studios']   \n",
       "2                                  ['J.C. Staff']   \n",
       "3                                   ['WHITE FOX']   \n",
       "4  ['Powerhouse Animation', 'Frederator Studios']   \n",
       "\n",
       "                                                tags  \\\n",
       "0  ['Comedy', 'Shounen', 'Slice of Life', 'Breaki...   \n",
       "1  ['Action', 'Adventure', 'Drama', 'Horror', '15...   \n",
       "2  ['Comedy', 'Shounen', 'Breaking the Fourth Wal...   \n",
       "3  ['Action', 'Adventure', 'Drama', 'Fantasy', 'R...   \n",
       "4  ['Action', 'Adventure', 'Drama', 'Horror', '15...   \n",
       "\n",
       "                                         contentWarn  watched  watching  \\\n",
       "0                                                 []  15419.0      2694   \n",
       "1  ['Explicit Violence', 'Mature Themes', 'Physic...   8010.0       384   \n",
       "2                                                 []   3136.0       258   \n",
       "3                                                 []  14691.0      2657   \n",
       "4  ['Explicit Sex', 'Explicit Violence', 'Mature ...   2975.0       312   \n",
       "\n",
       "   wantWatch  dropped  rating    votes  \\\n",
       "0       4889      749   4.453  11754.0   \n",
       "1       2207       58   4.409   5564.0   \n",
       "2       1402       26   4.400   1942.0   \n",
       "3      12044     1159   4.402  12974.0   \n",
       "4       2828       20   4.402   2128.0   \n",
       "\n",
       "                                       combo_feature  Index  \n",
       "0  ['J.C. Staff'] ['Comedy', 'Shounen', 'Slice of...      0  \n",
       "1  ['Powerhouse Animation', 'Frederator Studios']...      1  \n",
       "2  ['J.C. Staff'] ['Comedy', 'Shounen', 'Breaking...      2  \n",
       "3  ['WHITE FOX'] ['Action', 'Adventure', 'Drama',...      3  \n",
       "4  ['Powerhouse Animation', 'Frederator Studios']...      4  "
      ]
     },
     "execution_count": 171,
     "metadata": {},
     "output_type": "execute_result"
    }
   ],
   "source": [
    "df.head()"
   ]
  },
  {
   "cell_type": "code",
   "execution_count": 214,
   "metadata": {},
   "outputs": [
    {
     "data": {
      "text/plain": [
       "title                                                   Aggretsuko\n",
       "mediaType                                                      Web\n",
       "eps                                                             10\n",
       "duration                                                        16\n",
       "ongoing                                                      False\n",
       "startYr                                                       2018\n",
       "finishYr                                                      2018\n",
       "sznOfRelease                                                Spring\n",
       "description      Frustrated with her thankless office job, Rets...\n",
       "studios                                               ['Fanworks']\n",
       "tags             ['Comedy', 'Animal Protagonists', 'Anthropomor...\n",
       "contentWarn                                                     []\n",
       "watched                                                       6743\n",
       "watching                                                       460\n",
       "wantWatch                                                     1312\n",
       "dropped                                                        235\n",
       "rating                                                       4.277\n",
       "votes                                                         4876\n",
       "combo_feature    ['Fanworks'] ['Comedy', 'Animal Protagonists',...\n",
       "Index                                                           10\n",
       "Name: 10, dtype: object"
      ]
     },
     "execution_count": 214,
     "metadata": {},
     "output_type": "execute_result"
    }
   ],
   "source": [
    "df.loc[10]"
   ]
  },
  {
   "cell_type": "code",
   "execution_count": 144,
   "metadata": {},
   "outputs": [],
   "source": [
    "df = df.reset_index(drop=True)"
   ]
  },
  {
   "cell_type": "code",
   "execution_count": 132,
   "metadata": {},
   "outputs": [],
   "source": [
    "from sklearn.feature_extraction.text import CountVectorizer"
   ]
  },
  {
   "cell_type": "code",
   "execution_count": 133,
   "metadata": {},
   "outputs": [],
   "source": [
    "cv = CountVectorizer()"
   ]
  },
  {
   "cell_type": "code",
   "execution_count": 134,
   "metadata": {},
   "outputs": [],
   "source": [
    "cv_matrix = cv.fit_transform(df['combo_feature'])"
   ]
  },
  {
   "cell_type": "code",
   "execution_count": 135,
   "metadata": {},
   "outputs": [],
   "source": [
    "from sklearn.metrics.pairwise import cosine_similarity"
   ]
  },
  {
   "cell_type": "code",
   "execution_count": 136,
   "metadata": {},
   "outputs": [],
   "source": [
    "cos_score = cosine_similarity(cv_matrix)"
   ]
  },
  {
   "cell_type": "code",
   "execution_count": 178,
   "metadata": {},
   "outputs": [],
   "source": [
    "def title_by_index(ind):\n",
    "    return list(df[df.index == ind]['title'])\n",
    "\n",
    "def index_by_title(title):\n",
    "    return list(df[df.title == title]['Index'])[0]"
   ]
  },
  {
   "cell_type": "code",
   "execution_count": 179,
   "metadata": {},
   "outputs": [
    {
     "data": {
      "text/plain": [
       "['Katanagatari']"
      ]
     },
     "execution_count": 179,
     "metadata": {},
     "output_type": "execute_result"
    }
   ],
   "source": [
    "title_by_index(3)"
   ]
  },
  {
   "cell_type": "code",
   "execution_count": 180,
   "metadata": {},
   "outputs": [
    {
     "data": {
      "text/plain": [
       "3"
      ]
     },
     "execution_count": 180,
     "metadata": {},
     "output_type": "execute_result"
    }
   ],
   "source": [
    "index_by_title('Katanagatari')"
   ]
  },
  {
   "cell_type": "code",
   "execution_count": 215,
   "metadata": {},
   "outputs": [],
   "source": [
    "movie_pilihan = \"Aggretsuko\""
   ]
  },
  {
   "cell_type": "code",
   "execution_count": 216,
   "metadata": {},
   "outputs": [
    {
     "name": "stdout",
     "output_type": "stream",
     "text": [
      "[[1.         0.14142136 0.75       ... 0.35777088 0.33282012 0.13333333]\n",
      " [0.14142136 1.         0.1767767  ... 0.03952847 0.24514517 0.05892557]\n",
      " [0.75       0.1767767  1.         ... 0.1677051  0.2773501  0.08333333]\n",
      " ...\n",
      " [0.35777088 0.03952847 0.1677051  ... 1.         0.24806947 0.372678  ]\n",
      " [0.33282012 0.24514517 0.2773501  ... 0.24806947 1.         0.18490007]\n",
      " [0.13333333 0.05892557 0.08333333 ... 0.372678   0.18490007 1.        ]]\n"
     ]
    }
   ],
   "source": [
    "print(cos_score)"
   ]
  },
  {
   "cell_type": "code",
   "execution_count": 217,
   "metadata": {},
   "outputs": [
    {
     "name": "stdout",
     "output_type": "stream",
     "text": [
      "[0.75       0.1767767  1.         0.16366342 0.1767767  0.\n",
      " 0.20851441 0.05455447 0.37688918 0.18898224 0.05455447 0.2236068\n",
      " 0.         0.20412415 0.41666667 0.04902903 0.42521003 0.25\n",
      " 0.         0.20851441 0.375      0.3125     0.         0.\n",
      " 0.1767767  0.04811252 0.08838835 0.25       0.25       0.21437323\n",
      " 0.1767767  0.05330018 0.10660036 0.37688918 0.40089186 0.2\n",
      " 0.39528471 0.23570226 0.06454972 0.25       0.57735027 0.11470787\n",
      " 0.2236068  0.28867513 0.34340141 0.51031036 0.32025631 0.06933752\n",
      " 0.375      0.2795085  0.35575624 0.32025631 0.26726124 0.375\n",
      " 0.25       0.3125     0.5        0.23570226 0.         0.31980107\n",
      " 0.         0.06681531 0.3354102  0.         0.33407655 0.30316953\n",
      " 0.21650635 0.15309311 0.09284767 0.15309311 0.33333333 0.30906127\n",
      " 0.25       0.1875     0.14433757 0.29166667 0.29580399 0.\n",
      " 0.40089186 0.06681531 0.29462783 0.58925565 0.36514837 0.20412415\n",
      " 0.35355339 0.58925565 0.05735393 0.20044593 0.08838835 0.22613351\n",
      " 0.08838835 0.48536267 0.3125     0.28676967 0.         0.\n",
      " 0.3125     0.         0.4330127  0.30316953 0.2773501  0.\n",
      " 0.2773501  0.375      0.25       0.50518149 0.3046359  0.18898224\n",
      " 0.2        0.1767767  0.05735393 0.11470787 0.38729833 0.06681531\n",
      " 0.         0.31622777 0.08838835 0.36380344 0.43643578 0.38729833\n",
      " 0.07537784 0.08333333 0.33678766 0.16012815 0.         0.20412415\n",
      " 0.33678766 0.21821789 0.         0.08333333 0.         0.06454972\n",
      " 0.3441236  0.37139068 0.2236068  0.15075567 0.2665009  0.10206207\n",
      " 0.         0.3125     0.20851441 0.         0.         0.23717082\n",
      " 0.28347335 0.21821789 0.33678766 0.06063391 0.08838835 0.20044593\n",
      " 0.13867505 0.         0.04811252 0.38729833 0.29462783 0.24514517\n",
      " 0.31980107 0.06933752 0.33407655 0.04811252 0.36380344 0.2773501\n",
      " 0.05103104 0.32496684 0.0625     0.         0.37688918 0.15811388\n",
      " 0.1118034  0.375      0.33678766 0.2795085  0.23717082 0.\n",
      " 0.18190172 0.375      0.23570226 0.40089186 0.         0.26726124\n",
      " 0.32732684 0.12909944 0.         0.34320324 0.         0.2\n",
      " 0.2665009  0.25       0.375      0.2236068  0.05330018 0.47434165\n",
      " 0.12862394 0.23570226 0.06933752 0.28676967 0.38490018 0.25819889\n",
      " 0.2773501  0.2        0.28867513 0.30151134 0.         0.23570226\n",
      " 0.07537784 0.         0.05455447 0.29462783 0.         0.18190172\n",
      " 0.13867505 0.         0.08838835 0.375      0.375      0.30316953\n",
      " 0.4375     0.37139068 0.07537784 0.27277236 0.30316953 0.13363062\n",
      " 0.16666667 0.25       0.16366342 0.26516504 0.         0.05455447\n",
      " 0.375      0.375      0.2236068  0.24253563 0.16666667 0.33678766\n",
      " 0.16666667 0.         0.32025631 0.1875     0.32274861 0.\n",
      " 0.         0.375      0.         0.4330127  0.34320324 0.\n",
      " 0.34668762 0.04811252 0.25819889 0.09449112 0.07537784 0.09449112\n",
      " 0.33407655 0.         0.34815531 0.08333333 0.26726124 0.12909944\n",
      " 0.35       0.         0.13363062 0.15811388 0.29462783 0.18190172\n",
      " 0.10910895 0.         0.34668762 0.41079192 0.12126781 0.1470871\n",
      " 0.30316953 0.         0.07537784 0.35355339 0.05103104 0.\n",
      " 0.1392715  0.1720618  0.10660036 0.10206207 0.10206207 0.06681531\n",
      " 0.07216878 0.         0.31277162 0.0625     0.06933752 0.26516504\n",
      " 0.         0.05455447 0.15638581 0.43643578 0.07537784 0.33407655\n",
      " 0.16366342 0.26726124 0.3125     0.24253563 0.16666667 0.08838835\n",
      " 0.         0.26726124 0.34668762 0.         0.37688918 0.125\n",
      " 0.28867513 0.06454972 0.1118034  0.06454972 0.         0.\n",
      " 0.24253563 0.07537784 0.22941573 0.05455447 0.         0.24253563\n",
      " 0.15638581 0.15075567 0.15075567 0.         0.375      0.34320324\n",
      " 0.30151134 0.28867513 0.3125     0.20801257 0.20851441 0.32274861\n",
      " 0.28347335 0.15075567 0.06933752 0.21650635 0.11470787 0.05330018\n",
      " 0.36084392 0.2773501  0.18569534 0.45927933 0.         0.07905694\n",
      " 0.05892557 0.07537784 0.08838835 0.35       0.06063391 0.1875\n",
      " 0.08333333 0.28676967 0.16666667 0.         0.14433757 0.21821789\n",
      " 0.11785113 0.05892557 0.08838835 0.         0.1677051  0.12909944\n",
      " 0.2773501  0.05103104 0.05455447 0.20801257 0.06933752 0.31980107\n",
      " 0.         0.         0.2773501  0.26064302 0.23570226 0.3125\n",
      " 0.2773501  0.07216878 0.07537784 0.22821773 0.125      0.18190172\n",
      " 0.3125     0.33407655 0.33333333 0.1875     0.         0.125\n",
      " 0.12909944 0.2773501  0.21650635 0.125      0.25819889 0.04490133\n",
      " 0.05735393 0.13363062 0.13867505 0.37796447 0.2        0.2795085\n",
      " 0.35355339 0.13363062 0.2773501  0.30316953 0.09449112 0.2773501\n",
      " 0.38188131 0.         0.06063391 0.14433757 0.07905694 0.3\n",
      " 0.         0.34668762 0.06454972 0.         0.20851441 0.\n",
      " 0.09449112 0.30151134 0.14433757 0.15638581 0.13363062 0.19364917\n",
      " 0.06681531 0.06454972 0.2773501  0.14433757 0.18190172 0.49099025\n",
      " 0.1118034  0.1875     0.20851441 0.19245009 0.28867513 0.07537784\n",
      " 0.32274861 0.35355339 0.34668762 0.25       0.30151134 0.23570226\n",
      " 0.15075567 0.24253563 0.06454972 0.20851441 0.37688918 0.15811388\n",
      " 0.19364917 0.0625     0.24056261 0.10206207 0.36084392 0.35721725\n",
      " 0.25       0.1118034  0.21650635 0.33071891 0.1677051  0.08333333\n",
      " 0.375      0.45883147 0.28867513 0.0559017  0.15811388 0.16666667\n",
      " 0.1118034  0.21650635 0.26726124 0.32025631 0.12909944 0.\n",
      " 0.24056261 0.         0.07537784 0.06933752 0.05892557 0.06681531\n",
      " 0.1118034  0.06933752 0.30151134 0.4        0.13363062 0.21650635\n",
      " 0.25819889 0.06063391 0.07537784 0.4330127  0.125      0.1677051\n",
      " 0.1796053  0.1118034  0.         0.13867505 0.22821773 0.30151134\n",
      " 0.         0.33333333 0.         0.25819889 0.4        0.\n",
      " 0.34668762 0.         0.         0.         0.41702883 0.\n",
      " 0.08333333 0.2773501  0.31622777 0.         0.36490022 0.\n",
      " 0.20044593 0.25       0.05455447 0.08333333 0.08838835 0.08333333\n",
      " 0.         0.09449112 0.20801257 0.34668762 0.         0.125\n",
      " 0.         0.05735393 0.28867513 0.26726124 0.23717082 0.05735393\n",
      " 0.08333333 0.1767767  0.         0.11785113 0.         0.\n",
      " 0.13363062 0.         0.04225771 0.12126781 0.1875     0.20851441\n",
      " 0.3913119  0.25819889 0.14173668 0.35721725 0.28867513 0.15990054\n",
      " 0.06933752 0.38729833 0.15990054 0.28867513 0.18190172 0.\n",
      " 0.06454972 0.40147753 0.34668762 0.24253563 0.         0.45\n",
      " 0.21320072 0.34668762 0.06933752 0.         0.36380344 0.07537784\n",
      " 0.30618622 0.07537784 0.25819889 0.1720618  0.33407655 0.\n",
      " 0.16666667 0.12909944 0.2665009  0.3        0.1720618  0.22097087\n",
      " 0.1720618  0.14433757 0.14433757 0.35721725 0.20851441 0.\n",
      " 0.         0.23717082 0.         0.25       0.21650635 0.1767767\n",
      " 0.06681531 0.125      0.07537784 0.         0.08838835 0.11470787\n",
      " 0.04811252 0.40824829 0.         0.20801257 0.06933752 0.1677051\n",
      " 0.06681531 0.08333333 0.15075567 0.         0.06454972 0.15309311\n",
      " 0.         0.07216878 0.31622777 0.06681531 0.06681531 0.33678766\n",
      " 0.06681531 0.11785113 0.125      0.13867505 0.24253563 0.06933752\n",
      " 0.2795085  0.06063391 0.         0.08333333 0.30151134 0.05892557\n",
      " 0.24056261 0.15075567 0.26516504 0.15811388 0.24253563 0.26726124\n",
      " 0.         0.         0.15811388 0.         0.0625     0.\n",
      " 0.         0.1720618  0.07905694 0.06933752 0.1767767  0.125\n",
      " 0.27277236 0.20801257 0.08333333 0.07905694 0.0559017  0.07216878\n",
      " 0.10206207 0.125      0.10206207 0.12126781 0.09449112 0.23717082\n",
      " 0.20412415 0.08838835 0.10206207 0.20412415 0.15075567 0.20044593\n",
      " 0.12909944 0.06063391 0.18190172 0.05       0.18190172 0.26726124\n",
      " 0.18190172 0.15990054 0.26726124 0.06063391 0.13867505 0.\n",
      " 0.07537784 0.4375     0.15990054 0.06063391 0.12126781 0.\n",
      " 0.24253563 0.10206207 0.06063391 0.25       0.13363062 0.21650635\n",
      " 0.11470787 0.08333333 0.05330018 0.19364917 0.         0.05103104\n",
      " 0.20412415 0.09449112 0.0625     0.         0.06063391 0.09449112\n",
      " 0.20044593 0.28676967 0.20801257 0.36084392 0.20801257 0.23717082\n",
      " 0.15075567 0.15990054 0.07905694 0.10206207 0.11470787 0.\n",
      " 0.06681531 0.1677051  0.2773501  0.08333333]\n"
     ]
    }
   ],
   "source": [
    "print(cos_score[2])"
   ]
  },
  {
   "cell_type": "code",
   "execution_count": 218,
   "metadata": {},
   "outputs": [],
   "source": [
    "movie_index = index_by_title(movie_pilihan)"
   ]
  },
  {
   "cell_type": "code",
   "execution_count": 219,
   "metadata": {},
   "outputs": [
    {
     "data": {
      "text/plain": [
       "10"
      ]
     },
     "execution_count": 219,
     "metadata": {},
     "output_type": "execute_result"
    }
   ],
   "source": [
    "movie_index"
   ]
  },
  {
   "cell_type": "code",
   "execution_count": 220,
   "metadata": {},
   "outputs": [],
   "source": [
    "similar_movie = list(enumerate(cos_score[movie_index]))"
   ]
  },
  {
   "cell_type": "code",
   "execution_count": 221,
   "metadata": {},
   "outputs": [],
   "source": [
    "# similar_movie\n",
    "sorted_movie = sorted(similar_movie, key=lambda x: x[1], reverse=True)[1:]"
   ]
  },
  {
   "cell_type": "code",
   "execution_count": 222,
   "metadata": {},
   "outputs": [
    {
     "name": "stdout",
     "output_type": "stream",
     "text": [
      "Top 5 Movie Recommendation based on your favourite Movie\n",
      " Your Favourite Movie is :  Aggretsuko\n",
      "Aggretsuko\n",
      "Aggretsuko (2016)\n",
      "Asa da yo! Kaishain\n",
      "Aggretsuko: We Wish You a Metal Christmas\n",
      "Wacky TV Na Na Na: Exciting Caveland\n",
      "Working Buddies! No 2!\n",
      "Dark Side Cat\n",
      "Working Buddies!\n"
     ]
    }
   ],
   "source": [
    "#### Mengeluarkan Top 5 Movie Recommendation Based on favourite Movie\n",
    "i = 0\n",
    "\n",
    "print(\"Top 5 Movie Recommendation based on your favourite Movie\")\n",
    "print(\" Your Favourite Movie is : \", movie_pilihan)\n",
    "\n",
    "for film in sorted_movie:\n",
    "#     print(film[0])\n",
    "    print(title_by_index(film[0])[0])\n",
    "    i += 1\n",
    "    if i > 7:\n",
    "        break"
   ]
  },
  {
   "cell_type": "code",
   "execution_count": null,
   "metadata": {},
   "outputs": [],
   "source": []
  }
 ],
 "metadata": {
  "kernelspec": {
   "display_name": "Python 3",
   "language": "python",
   "name": "python3"
  },
  "language_info": {
   "codemirror_mode": {
    "name": "ipython",
    "version": 3
   },
   "file_extension": ".py",
   "mimetype": "text/x-python",
   "name": "python",
   "nbconvert_exporter": "python",
   "pygments_lexer": "ipython3",
   "version": "3.7.6"
  }
 },
 "nbformat": 4,
 "nbformat_minor": 4
}
